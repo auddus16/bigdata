{
 "cells": [
  {
   "cell_type": "code",
   "execution_count": 67,
   "metadata": {},
   "outputs": [],
   "source": [
    "import tensorflow.compat.v1 as tf\n",
    "from tensorflow import feature_column\n",
    "from tensorflow.keras import layers\n",
    "tf.disable_v2_behavior()\n",
    "import numpy as np\n",
    "import pandas as pd\n",
    "import matplotlib.pyplot as plt\n",
    "\n",
    "from tensorflow import keras\n",
    "from tensorflow.keras.models import Sequential # 케라스의 Sequential()을 임포트\n",
    "from tensorflow.keras.layers import Dense # 케라스의 Dense()를 임포트\n",
    "from tensorflow.keras import optimizers # 케라스의 옵티마이저를 임포트\n",
    "\n",
    "%matplotlib inline"
   ]
  },
  {
   "cell_type": "code",
   "execution_count": 68,
   "metadata": {
    "scrolled": true
   },
   "outputs": [],
   "source": [
    "#데이터를 pandas를 이용해 읽어옵니다.\n",
    "dog_data=pd.read_csv(\"doginfo_mmy.csv\")\n",
    "kindCd=pd.read_csv(\"kindCd.csv\")\n",
    "\n",
    "#값이 없는 열 삭제\n",
    "dog_data = dog_data.dropna(axis=0)\n",
    "kindCd_data = kindCd.dropna(axis=0)"
   ]
  },
  {
   "cell_type": "code",
   "execution_count": 71,
   "metadata": {},
   "outputs": [],
   "source": [
    "#품종코드 데이터 numpy배열로 저장\n",
    "kindCd = np.array(kindCd_data, dtype = np.float64)\n",
    "\n",
    "kindCd = kindCd.reshape(177)"
   ]
  },
  {
   "cell_type": "code",
   "execution_count": 72,
   "metadata": {},
   "outputs": [],
   "source": [
    "# kindNum을 원핫 인코딩\n",
    "kindCd = pd.concat((pd.get_dummies(dog_data.kindNum, columns=kindCd), pd.DataFrame(columns=kindCd))).fillna(0)\n",
    "\n",
    "\n",
    "# 학습데이터에서 kindNum 열을 삭제한 후, 원핫 인코딩된 kindCd를 붙임\n",
    "dog_data.drop(['kindNum'], axis='columns', inplace=True)\n",
    "dog_data = pd.concat([dog_data, kindCd], axis=1)"
   ]
  },
  {
   "cell_type": "code",
   "execution_count": 62,
   "metadata": {},
   "outputs": [],
   "source": [
    "#더미변수-원-핫인코딩\n",
    "def dummy_data(data, columns):\n",
    "    for column in columns:\n",
    "        data = pd.concat([data, pd.get_dummies(data[column], prefix = column)], axis = 1)\n",
    "        data = data.drop(column, axis = 1)\n",
    "    return data"
   ]
  },
  {
   "cell_type": "code",
   "execution_count": 73,
   "metadata": {},
   "outputs": [
    {
     "name": "stdout",
     "output_type": "stream",
     "text": [
      "      weight  noticeDays  age2  processState  1.0  2.0  3.0  4.0  5.0  6.0  \\\n",
      "0       7.46          10    12             0    0    0    0    0    0    0   \n",
      "1       7.00          14     1             1    0    0    0    0    0    0   \n",
      "2       4.50          11     2             0    0    0    0    0    0    0   \n",
      "3      10.00           8     1             0    0    0    0    0    0    0   \n",
      "4       6.00           8     4             0    0    0    0    0    0    0   \n",
      "...      ...         ...   ...           ...  ...  ...  ...  ...  ...  ...   \n",
      "1994    0.98          10     0             1    0    0    0    0    0    0   \n",
      "1995    1.20          10     0             1    0    0    0    0    0    0   \n",
      "1996   50.00          10     3             1    0    0    0    0    0    0   \n",
      "1997    9.00          10     3             0    0    0    0    0    0    0   \n",
      "1998   12.50          10     3             0    0    0    0    0    0    0   \n",
      "\n",
      "      ...  208.0  209.0  210.0  211.0  neuterYn_N  neuterYn_U  neuterYn_Y  \\\n",
      "0     ...      0      0      0      0           1           0           0   \n",
      "1     ...      0      0      0      0           1           0           0   \n",
      "2     ...      0      0      0      0           0           1           0   \n",
      "3     ...      0      0      0      0           1           0           0   \n",
      "4     ...      0      0      0      0           1           0           0   \n",
      "...   ...    ...    ...    ...    ...         ...         ...         ...   \n",
      "1994  ...      0      0      0      0           1           0           0   \n",
      "1995  ...      0      0      0      0           1           0           0   \n",
      "1996  ...      0      0      0      0           1           0           0   \n",
      "1997  ...      0      0      0      0           0           1           0   \n",
      "1998  ...      0      0      0      0           1           0           0   \n",
      "\n",
      "      sexCd_F  sexCd_M  sexCd_Q  \n",
      "0           1        0        0  \n",
      "1           0        1        0  \n",
      "2           0        1        0  \n",
      "3           0        1        0  \n",
      "4           0        1        0  \n",
      "...       ...      ...      ...  \n",
      "1994        0        1        0  \n",
      "1995        1        0        0  \n",
      "1996        0        1        0  \n",
      "1997        1        0        0  \n",
      "1998        1        0        0  \n",
      "\n",
      "[1995 rows x 187 columns]\n",
      "1276 훈련 샘플\n",
      "320 검증 샘플\n",
      "399 테스트 샘플\n"
     ]
    }
   ],
   "source": [
    "#중성화여부, 성별 원-핫 인코딩\n",
    "dummy_columns = [\"neuterYn\", \"sexCd\"]\n",
    "data = dummy_data(dog_data, dummy_columns)\n",
    "print(data)\n",
    "\n",
    "data = np.array(data, dtype = np.float64)\n",
    "\n",
    "from sklearn.model_selection import train_test_split\n",
    "#훈련, 검증, 테스트 샘플로 데이터 나누기\n",
    "train, test = train_test_split(data, test_size=0.2)\n",
    "train, val = train_test_split(train, test_size=0.2)\n",
    "print(len(train), '훈련 샘플')\n",
    "print(len(val), '검증 샘플')\n",
    "print(len(test), '테스트 샘플')"
   ]
  },
  {
   "cell_type": "code",
   "execution_count": 64,
   "metadata": {},
   "outputs": [],
   "source": [
    "#numpy 배열에서 데이터 변화요인(kindCd, neuterYn, sexCd, weight, noticeDays, age2)으로 사용할 데이터를 뽑아냅니다.\n",
    "a = train[:, :3]\n",
    "b = train[:, 4:]\n",
    "xData = np.concatenate([a, b], axis = 1)\n",
    "\n",
    "a=test[:, :3]\n",
    "b=test[:, 4:]\n",
    "testX=np.concatenate([a, b], axis = 1)\n",
    "\n",
    "a=val[:, :3]\n",
    "b=val[:, 4:]\n",
    "valX=np.concatenate([a, b], axis = 1)\n"
   ]
  },
  {
   "cell_type": "code",
   "execution_count": 65,
   "metadata": {},
   "outputs": [
    {
     "name": "stdout",
     "output_type": "stream",
     "text": [
      "[[1.]\n",
      " [1.]\n",
      " [0.]\n",
      " ...\n",
      " [0.]\n",
      " [0.]\n",
      " [1.]]\n"
     ]
    },
    {
     "data": {
      "text/plain": [
       "dtype('float64')"
      ]
     },
     "execution_count": 65,
     "metadata": {},
     "output_type": "execute_result"
    }
   ],
   "source": [
    "#numpy배열에서 결과(입양여부)로 사용할 데이터를 뽑아냅니다.\n",
    "yData=train[:,[3]]\n",
    "testY=test[:,[3]]\n",
    "valY=val[:,[3]]\n",
    "\n",
    "print(yData)\n",
    "type(yData)\n",
    "yData.dtype"
   ]
  },
  {
   "cell_type": "code",
   "execution_count": 66,
   "metadata": {},
   "outputs": [
    {
     "name": "stdout",
     "output_type": "stream",
     "text": [
      "Train on 1276 samples, validate on 320 samples\n",
      "Epoch 1/50\n",
      "1276/1276 [==============================] - 4s 3ms/sample - loss: 0.9332 - acc: 0.5815 - binary_crossentropy: 0.6742 - val_loss: 0.7814 - val_acc: 0.6344 - val_binary_crossentropy: 0.6746\n",
      "Epoch 2/50\n",
      "1276/1276 [==============================] - 1s 1ms/sample - loss: 0.7322 - acc: 0.6293 - binary_crossentropy: 0.6561 - val_loss: 0.7361 - val_acc: 0.5906 - val_binary_crossentropy: 0.6793\n",
      "Epoch 3/50\n",
      "1276/1276 [==============================] - 1s 1ms/sample - loss: 0.6966 - acc: 0.6403 - binary_crossentropy: 0.6468 - val_loss: 0.7085 - val_acc: 0.6281 - val_binary_crossentropy: 0.6637\n",
      "Epoch 4/50\n",
      "1276/1276 [==============================] - 1s 1ms/sample - loss: 0.6802 - acc: 0.6528 - binary_crossentropy: 0.6378 - val_loss: 0.7221 - val_acc: 0.6000 - val_binary_crossentropy: 0.6806\n",
      "Epoch 5/50\n",
      "1276/1276 [==============================] - 2s 2ms/sample - loss: 0.6686 - acc: 0.6567 - binary_crossentropy: 0.6288 - val_loss: 0.7020 - val_acc: 0.5969 - val_binary_crossentropy: 0.6622\n",
      "Epoch 6/50\n",
      "1276/1276 [==============================] - 1s 1ms/sample - loss: 0.6628 - acc: 0.6489 - binary_crossentropy: 0.6237 - val_loss: 0.7026 - val_acc: 0.6062 - val_binary_crossentropy: 0.6634\n",
      "Epoch 7/50\n",
      "1276/1276 [==============================] - 1s 732us/sample - loss: 0.6548 - acc: 0.6701 - binary_crossentropy: 0.6143 - val_loss: 0.6815 - val_acc: 0.6125 - val_binary_crossentropy: 0.6426\n",
      "Epoch 8/50\n",
      "1276/1276 [==============================] - 1s 1ms/sample - loss: 0.6527 - acc: 0.6583 - binary_crossentropy: 0.6136 - val_loss: 0.6700 - val_acc: 0.6500 - val_binary_crossentropy: 0.6316\n",
      "Epoch 9/50\n",
      "1276/1276 [==============================] - 1s 1ms/sample - loss: 0.6468 - acc: 0.6732 - binary_crossentropy: 0.6079 - val_loss: 0.7000 - val_acc: 0.6062 - val_binary_crossentropy: 0.6604\n",
      "Epoch 10/50\n",
      "1276/1276 [==============================] - 2s 1ms/sample - loss: 0.6405 - acc: 0.6724 - binary_crossentropy: 0.6001 - val_loss: 0.6689 - val_acc: 0.6594 - val_binary_crossentropy: 0.6305\n",
      "Epoch 11/50\n",
      "1276/1276 [==============================] - 2s 1ms/sample - loss: 0.6410 - acc: 0.6701 - binary_crossentropy: 0.6029 - val_loss: 0.6464 - val_acc: 0.6625 - val_binary_crossentropy: 0.6085\n",
      "Epoch 12/50\n",
      "1276/1276 [==============================] - 1s 1ms/sample - loss: 0.6403 - acc: 0.6779 - binary_crossentropy: 0.6018 - val_loss: 0.6544 - val_acc: 0.6594 - val_binary_crossentropy: 0.6170\n",
      "Epoch 13/50\n",
      "1276/1276 [==============================] - 1s 1ms/sample - loss: 0.6359 - acc: 0.6779 - binary_crossentropy: 0.5992 - val_loss: 0.6507 - val_acc: 0.6562 - val_binary_crossentropy: 0.6129\n",
      "Epoch 14/50\n",
      "1276/1276 [==============================] - 2s 1ms/sample - loss: 0.6313 - acc: 0.6818 - binary_crossentropy: 0.5942 - val_loss: 0.6471 - val_acc: 0.6656 - val_binary_crossentropy: 0.6098\n",
      "Epoch 15/50\n",
      "1276/1276 [==============================] - 2s 1ms/sample - loss: 0.6338 - acc: 0.6755 - binary_crossentropy: 0.5968 - val_loss: 0.6638 - val_acc: 0.6375 - val_binary_crossentropy: 0.6276\n",
      "Epoch 16/50\n",
      "1276/1276 [==============================] - 2s 1ms/sample - loss: 0.6325 - acc: 0.6732 - binary_crossentropy: 0.5967 - val_loss: 0.6746 - val_acc: 0.6313 - val_binary_crossentropy: 0.6386\n",
      "Epoch 17/50\n",
      "1276/1276 [==============================] - 1s 1ms/sample - loss: 0.6323 - acc: 0.6787 - binary_crossentropy: 0.5961 - val_loss: 0.6841 - val_acc: 0.6250 - val_binary_crossentropy: 0.6491\n",
      "Epoch 18/50\n",
      "1276/1276 [==============================] - 1s 717us/sample - loss: 0.6275 - acc: 0.6763 - binary_crossentropy: 0.5931 - val_loss: 0.6509 - val_acc: 0.6562 - val_binary_crossentropy: 0.6150\n",
      "Epoch 19/50\n",
      "1276/1276 [==============================] - 1s 1ms/sample - loss: 0.6282 - acc: 0.6873 - binary_crossentropy: 0.5929 - val_loss: 0.6654 - val_acc: 0.6281 - val_binary_crossentropy: 0.6305\n",
      "Epoch 20/50\n",
      "1276/1276 [==============================] - 2s 1ms/sample - loss: 0.6279 - acc: 0.6787 - binary_crossentropy: 0.5935 - val_loss: 0.6462 - val_acc: 0.6500 - val_binary_crossentropy: 0.6126\n",
      "Epoch 21/50\n",
      "1276/1276 [==============================] - 2s 1ms/sample - loss: 0.6292 - acc: 0.6873 - binary_crossentropy: 0.5954 - val_loss: 0.6449 - val_acc: 0.6531 - val_binary_crossentropy: 0.6113\n",
      "Epoch 22/50\n",
      "1276/1276 [==============================] - 1s 1ms/sample - loss: 0.6258 - acc: 0.6740 - binary_crossentropy: 0.5923 - val_loss: 0.6552 - val_acc: 0.6375 - val_binary_crossentropy: 0.6221\n",
      "Epoch 23/50\n",
      "1276/1276 [==============================] - 1s 997us/sample - loss: 0.6240 - acc: 0.6763 - binary_crossentropy: 0.5915 - val_loss: 0.6499 - val_acc: 0.6500 - val_binary_crossentropy: 0.6160\n",
      "Epoch 24/50\n",
      "1276/1276 [==============================] - 1s 1ms/sample - loss: 0.6253 - acc: 0.6818 - binary_crossentropy: 0.5913 - val_loss: 0.6437 - val_acc: 0.6625 - val_binary_crossentropy: 0.6103\n",
      "Epoch 25/50\n",
      "1276/1276 [==============================] - 2s 1ms/sample - loss: 0.6235 - acc: 0.6897 - binary_crossentropy: 0.5907 - val_loss: 0.6398 - val_acc: 0.6625 - val_binary_crossentropy: 0.6070\n",
      "Epoch 26/50\n",
      "1276/1276 [==============================] - 2s 1ms/sample - loss: 0.6225 - acc: 0.6920 - binary_crossentropy: 0.5897 - val_loss: 0.6691 - val_acc: 0.6281 - val_binary_crossentropy: 0.6369\n",
      "Epoch 27/50\n",
      "1276/1276 [==============================] - 1s 1ms/sample - loss: 0.6240 - acc: 0.6818 - binary_crossentropy: 0.5919 - val_loss: 0.6400 - val_acc: 0.6625 - val_binary_crossentropy: 0.6081\n",
      "Epoch 28/50\n",
      "1276/1276 [==============================] - 1s 1ms/sample - loss: 0.6233 - acc: 0.6865 - binary_crossentropy: 0.5922 - val_loss: 0.6442 - val_acc: 0.6687 - val_binary_crossentropy: 0.6123\n",
      "Epoch 29/50\n",
      "1276/1276 [==============================] - 1s 773us/sample - loss: 0.6210 - acc: 0.6732 - binary_crossentropy: 0.5895 - val_loss: 0.6347 - val_acc: 0.6781 - val_binary_crossentropy: 0.6034\n",
      "Epoch 30/50\n",
      "1276/1276 [==============================] - 1s 1ms/sample - loss: 0.6217 - acc: 0.6818 - binary_crossentropy: 0.5904 - val_loss: 0.6415 - val_acc: 0.6719 - val_binary_crossentropy: 0.6099\n",
      "Epoch 31/50\n",
      "1276/1276 [==============================] - 2s 1ms/sample - loss: 0.6206 - acc: 0.6763 - binary_crossentropy: 0.5890 - val_loss: 0.6461 - val_acc: 0.6719 - val_binary_crossentropy: 0.6150\n",
      "Epoch 32/50\n",
      "1276/1276 [==============================] - 2s 1ms/sample - loss: 0.6183 - acc: 0.6967 - binary_crossentropy: 0.5874 - val_loss: 0.6363 - val_acc: 0.6719 - val_binary_crossentropy: 0.6050\n",
      "Epoch 33/50\n",
      "1276/1276 [==============================] - 1s 1ms/sample - loss: 0.6200 - acc: 0.6920 - binary_crossentropy: 0.5888 - val_loss: 0.6444 - val_acc: 0.6656 - val_binary_crossentropy: 0.6134\n",
      "Epoch 34/50\n",
      "1276/1276 [==============================] - 1s 1ms/sample - loss: 0.6173 - acc: 0.6920 - binary_crossentropy: 0.5859 - val_loss: 0.6464 - val_acc: 0.6562 - val_binary_crossentropy: 0.6157\n",
      "Epoch 35/50\n",
      "1276/1276 [==============================] - 1s 1ms/sample - loss: 0.6166 - acc: 0.6857 - binary_crossentropy: 0.5863 - val_loss: 0.6371 - val_acc: 0.6719 - val_binary_crossentropy: 0.6065\n",
      "Epoch 36/50\n",
      "1276/1276 [==============================] - 2s 1ms/sample - loss: 0.6193 - acc: 0.6716 - binary_crossentropy: 0.5885 - val_loss: 0.6288 - val_acc: 0.6719 - val_binary_crossentropy: 0.5988\n",
      "Epoch 37/50\n",
      "1276/1276 [==============================] - 1s 1ms/sample - loss: 0.6159 - acc: 0.6842 - binary_crossentropy: 0.5852 - val_loss: 0.6371 - val_acc: 0.6812 - val_binary_crossentropy: 0.6069\n",
      "Epoch 38/50\n",
      "1276/1276 [==============================] - 1s 1ms/sample - loss: 0.6179 - acc: 0.6881 - binary_crossentropy: 0.5876 - val_loss: 0.6417 - val_acc: 0.6562 - val_binary_crossentropy: 0.6119\n",
      "Epoch 39/50\n",
      "1276/1276 [==============================] - 2s 1ms/sample - loss: 0.6227 - acc: 0.6716 - binary_crossentropy: 0.5930 - val_loss: 0.6408 - val_acc: 0.6719 - val_binary_crossentropy: 0.6111\n",
      "Epoch 40/50\n",
      "1276/1276 [==============================] - 1s 785us/sample - loss: 0.6176 - acc: 0.6803 - binary_crossentropy: 0.5879 - val_loss: 0.6360 - val_acc: 0.6687 - val_binary_crossentropy: 0.6063\n",
      "Epoch 41/50\n",
      "1276/1276 [==============================] - 1s 1ms/sample - loss: 0.6191 - acc: 0.6834 - binary_crossentropy: 0.5898 - val_loss: 0.6327 - val_acc: 0.6812 - val_binary_crossentropy: 0.6035\n",
      "Epoch 42/50\n",
      "1276/1276 [==============================] - 2s 1ms/sample - loss: 0.6180 - acc: 0.6873 - binary_crossentropy: 0.5887 - val_loss: 0.6323 - val_acc: 0.6687 - val_binary_crossentropy: 0.6027\n",
      "Epoch 43/50\n",
      "1276/1276 [==============================] - 1s 1ms/sample - loss: 0.6175 - acc: 0.6810 - binary_crossentropy: 0.5880 - val_loss: 0.6421 - val_acc: 0.6687 - val_binary_crossentropy: 0.6125\n",
      "Epoch 44/50\n",
      "1276/1276 [==============================] - 2s 1ms/sample - loss: 0.6176 - acc: 0.6873 - binary_crossentropy: 0.5877 - val_loss: 0.6355 - val_acc: 0.6562 - val_binary_crossentropy: 0.6063\n",
      "Epoch 45/50\n",
      "1276/1276 [==============================] - 1s 1ms/sample - loss: 0.6169 - acc: 0.6826 - binary_crossentropy: 0.5874 - val_loss: 0.6425 - val_acc: 0.6469 - val_binary_crossentropy: 0.6134\n",
      "Epoch 46/50\n",
      "1276/1276 [==============================] - 2s 1ms/sample - loss: 0.6203 - acc: 0.6928 - binary_crossentropy: 0.5912 - val_loss: 0.6492 - val_acc: 0.6531 - val_binary_crossentropy: 0.6210\n",
      "Epoch 47/50\n",
      "1276/1276 [==============================] - 2s 1ms/sample - loss: 0.6163 - acc: 0.6928 - binary_crossentropy: 0.5877 - val_loss: 0.6564 - val_acc: 0.6531 - val_binary_crossentropy: 0.6278\n",
      "Epoch 48/50\n",
      "1276/1276 [==============================] - 1s 1ms/sample - loss: 0.6154 - acc: 0.6897 - binary_crossentropy: 0.5867 - val_loss: 0.6307 - val_acc: 0.6531 - val_binary_crossentropy: 0.6023\n",
      "Epoch 49/50\n",
      "1276/1276 [==============================] - 1s 1ms/sample - loss: 0.6113 - acc: 0.6803 - binary_crossentropy: 0.5824 - val_loss: 0.6270 - val_acc: 0.6594 - val_binary_crossentropy: 0.5982\n",
      "Epoch 50/50\n",
      "1276/1276 [==============================] - 1s 1ms/sample - loss: 0.6165 - acc: 0.6928 - binary_crossentropy: 0.5881 - val_loss: 0.6361 - val_acc: 0.6625 - val_binary_crossentropy: 0.6080\n",
      "train, loss and metric: [0.5945225274353697, 0.71929824, 0.5663533]\n"
     ]
    },
    {
     "data": {
      "image/png": "[encoded data removed]",
      "text/plain": [
       "<Figure size 432x288 with 1 Axes>"
      ]
     },
     "metadata": {
      "needs_background": "light"
     },
     "output_type": "display_data"
    },
    {
     "data": {
      "image/png": "[encoded data removed]",
      "text/plain": [
       "<Figure size 432x288 with 1 Axes>"
      ]
     },
     "metadata": {
      "needs_background": "light"
     },
     "output_type": "display_data"
    }
   ],
   "source": [
    "# L2규제만 4개: 0.6907 3개op없을떄: 0.72 4개op없을때: 0.64, \n",
    "l2_model = keras.models.Sequential([\n",
    "#     keras.layers.Dense(16, kernel_regularizer=keras.regularizers.l2(0.01),\n",
    "#                        activation=tf.nn.relu, input_shape=(186,)),\n",
    "    keras.layers.Dense(16, kernel_regularizer=keras.regularizers.l2(0.01),\n",
    "                       activation=tf.nn.relu, input_shape=(186,)),\n",
    "    keras.layers.Dense(16, kernel_regularizer=keras.regularizers.l2(0.01),\n",
    "                       activation=tf.nn.relu, input_shape=(186,)),\n",
    "    keras.layers.Dense(16, kernel_regularizer=keras.regularizers.l2(0.01),\n",
    "                       activation=tf.nn.relu),\n",
    "    keras.layers.Dense(1, activation=tf.nn.sigmoid)\n",
    "])\n",
    "# sgd=optimizers.SGD(lr=0.001)\n",
    "# adam=optimizers.Adam(lr=0.01)\n",
    "# RMSprop = optimizers.RMSprop(lr=0.001, rho=0.9, epsilon=None, decay=0.0)\n",
    "sgd = optimizers.SGD(lr=0.01, decay=1e-6, momentum=0.9)#0.51\n",
    "RMSprop = optimizers.RMSprop(lr=0.001, rho=0.9, epsilon=None, decay=0.0)#0.70\n",
    "Adagrad = optimizers.Adagrad(lr=0.01, epsilon=None, decay=0.0)#0.5764\n",
    "Adadelta = optimizers.Adadelta(lr=1.0, rho=0.95, epsilon=None, decay=0.0)#0.6029\n",
    "Adam = optimizers.Adam(lr=0.001, beta_1=0.9, beta_2=0.999, epsilon=None, decay=0.0, amsgrad=False)#0.68\n",
    "Nadam = optimizers.Nadam(lr=0.002, beta_1=0.9, beta_2=0.999, epsilon=None, schedule_decay=0.004)#0.71\n",
    "\n",
    "l2_model.compile(optimizer='Nadam',\n",
    "                 loss='binary_crossentropy',\n",
    "                 metrics=['accuracy', 'binary_crossentropy'])\n",
    "\n",
    "l2_model_history = l2_model.fit(xData, yData,\n",
    "                                epochs=50,\n",
    "                                batch_size=5,\n",
    "                                validation_data=(valX, valY),\n",
    "                                verbose=1)\n",
    "\n",
    "loss_and_metric = l2_model.evaluate(testX, testY, batch_size=10, verbose=0)\n",
    "print(\"train, loss and metric: {}\".format(loss_and_metric))\n",
    "\n",
    "## summarize history for accuracy\n",
    "plt.plot(l2_model_history.history['acc'])\n",
    "plt.plot(l2_model_history.history['val_acc'])\n",
    "plt.title('model accuracy')\n",
    "plt.ylabel('accuracy')\n",
    "plt.xlabel('epoch')\n",
    "plt.legend(['train', 'test'], loc='upper left')\n",
    "plt.show()\n",
    "## summarize history for loss\n",
    "plt.plot(l2_model_history.history['loss'])\n",
    "plt.plot(l2_model_history.history['val_loss'])\n",
    "plt.title('model loss')\n",
    "plt.ylabel('loss')\n",
    "plt.xlabel('epoch')\n",
    "plt.legend(['train', 'test'], loc='upper left')\n",
    "plt.show()\n",
    "\n",
    "l2_model.save('l2_model_Nadam')\n",
    "\n",
    "# l2_model.fit(xData, yData,epochs=100,batch_size=64,validation_data=(xData, yData),verbose=1)\n",
    "# loss_and_metric = l2_model.evaluate(testX, testY, batch_size=10, verbose=0)\n",
    "# print(\"train, loss and metric: {}\".format(loss_and_metric))\n",
    "\n",
    "# l2_model.summary()"
   ]
  }
 ],
 "metadata": {
  "kernelspec": {
   "display_name": "Python 3",
   "language": "python",
   "name": "python3"
  },
  "language_info": {
   "codemirror_mode": {
    "name": "ipython",
    "version": 3
   },
   "file_extension": ".py",
   "mimetype": "text/x-python",
   "name": "python",
   "nbconvert_exporter": "python",
   "pygments_lexer": "ipython3",
   "version": "3.6.10"
  }
 },
 "nbformat": 4,
 "nbformat_minor": 4
}
