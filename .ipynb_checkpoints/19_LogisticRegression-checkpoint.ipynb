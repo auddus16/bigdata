{
 "cells": [
  {
   "cell_type": "markdown",
   "metadata": {},
   "source": [
    "# 로지스틱 회귀\n",
    "### 참과 거짓 중에 하나를 선택하게 하는 알고리즘\n",
    "### 공부 시간과 성적 사이에 관계는 좌표로 나타냈을 때 좌표의 형태가 직선으로 해결되는 선형 회귀를 사용하기 적합했습니다. 공부 시간에 따른 점수가 아닌 합격 여부로 발표되는 시험이 있을 경우 직선으로 해결하기 어렵습니다."
   ]
  },
  {
   "cell_type": "code",
   "execution_count": 3,
   "metadata": {},
   "outputs": [],
   "source": [
    "import tensorflow.compat.v1 as tf\n",
    "tf.disable_v2_behavior()\n",
    "import numpy as np"
   ]
  },
  {
   "cell_type": "code",
   "execution_count": 4,
   "metadata": {},
   "outputs": [
    {
     "name": "stdout",
     "output_type": "stream",
     "text": [
      "공부 시간 : [2, 4, 6, 8, 10, 12, 14], 합격 여부 : [0, 0, 0, 1, 1, 1, 1]\n"
     ]
    }
   ],
   "source": [
    "# x, y 데이터 값 -> [공부 시간, 합격 여부]\n",
    "data = [[2, 0], [4, 0], [6, 0], [8, 1], [10, 1], [12, 1], [14, 1]]\n",
    "xData = [i[0] for i in data]  # 공부 시간\n",
    "yData = [i[1] for i in data]  # 합격 여부\n",
    "print('공부 시간 : {}, 합격 여부 : {}'.format(xData, yData))"
   ]
  },
  {
   "cell_type": "code",
   "execution_count": 5,
   "metadata": {},
   "outputs": [
    {
     "name": "stdout",
     "output_type": "stream",
     "text": [
      "a = [-0.63436665], b = [-0.63436665]\n"
     ]
    }
   ],
   "source": [
    "# 기울기(a)와 y절편(b)값을 랜덤한 값으로 정합니다.\n",
    "a = tf.Variable(tf.random_normal([1], dtype=tf.float64, seed=0))\n",
    "b = tf.Variable(tf.random_normal([1], dtype=tf.float64, seed=0))\n",
    "sess = tf.Session()\n",
    "sess.run(tf.global_variables_initializer())\n",
    "print('a = {}, b = {}'.format(sess.run(a), sess.run(b)))"
   ]
  },
  {
   "cell_type": "code",
   "execution_count": 8,
   "metadata": {},
   "outputs": [],
   "source": [
    "# 시그모이드 방정식\n",
    "# np.e : numpy에서 지수 값(2.718281828459045)을 의미하는 상수\n",
    "y = 1 / (1 + np.e ** -(a * xData +b))\n",
    "\n",
    "# 시그모이드 방적식의 오차를 계산하는 수식을 만듭니다.\n",
    "# 시그모이드 함수의 특징은 예측값(y)이 항상 0 아니면 1입니다.\n",
    "# http://taewan.kim/posts/sigmoid_diff/\n",
    "loss = -tf.reduce_mean(np.array(yData) * tf.log(y) + (1-np.array(yData)) * tf.log(1-y))\n",
    "\n",
    "# 오차를 최소로 하는 값을 찾습니다.\n",
    "gradient_descent = tf.train.GradientDescentOptimizer(0.25).minimize(loss)"
   ]
  },
  {
   "cell_type": "code",
   "execution_count": 12,
   "metadata": {},
   "outputs": [
    {
     "name": "stdout",
     "output_type": "stream",
     "text": [
      "count:    0, loss:1.4007, a:0.9181, b:-0.4982\n",
      "count: 6000, loss:0.0273, a:2.3213, b:-16.0914\n",
      "count:12000, loss:0.0153, a:2.9116, b:-20.2316\n",
      "count:18000, loss:0.0106, a:3.2851, b:-22.8493\n",
      "count:24000, loss:0.0081, a:3.5586, b:-24.7653\n",
      "count:30000, loss:0.0066, a:3.7743, b:-26.2759\n",
      "count:36000, loss:0.0055, a:3.9523, b:-27.5220\n",
      "count:42000, loss:0.0047, a:4.1037, b:-28.5823\n",
      "count:48000, loss:0.0041, a:4.2354, b:-29.5047\n",
      "count:54000, loss:0.0037, a:4.3520, b:-30.3209\n",
      "count:60000, loss:0.0033, a:4.4565, b:-31.0527\n",
      "count:66000, loss:0.0030, a:4.5512, b:-31.7159\n",
      "count:72000, loss:0.0028, a:4.6378, b:-32.3222\n",
      "count:78000, loss:0.0026, a:4.7175, b:-32.8806\n",
      "count:84000, loss:0.0024, a:4.7914, b:-33.3980\n",
      "count:90000, loss:0.0022, a:4.8603, b:-33.8801\n",
      "count:96000, loss:0.0021, a:4.9247, b:-34.3313\n",
      "count:102000, loss:0.0020, a:4.9853, b:-34.7553\n",
      "count:108000, loss:0.0019, a:5.0425, b:-35.1553\n",
      "count:114000, loss:0.0018, a:5.0965, b:-35.5338\n",
      "count:120000, loss:0.0017, a:5.1478, b:-35.8930\n"
     ]
    }
   ],
   "source": [
    "# 학습을 시킵니다.\n",
    "with tf.Session() as sess:\n",
    "    sess.run(tf.global_variables_initializer())  # 초기화\n",
    "    for i in range(120001):\n",
    "        sess.run(gradient_descent)\n",
    "        if i % 6000 == 0:  # 6000번 마다 한 번씩 출력하기\n",
    "            print('count:%5d, loss:%.4f, a:%.4f, b:%.4f' % (i, sess.run(loss), sess.run(a), sess.run(b)))"
   ]
  }
 ],
 "metadata": {
  "kernelspec": {
   "display_name": "Python 3",
   "language": "python",
   "name": "python3"
  },
  "language_info": {
   "codemirror_mode": {
    "name": "ipython",
    "version": 3
   },
   "file_extension": ".py",
   "mimetype": "text/x-python",
   "name": "python",
   "nbconvert_exporter": "python",
   "pygments_lexer": "ipython3",
   "version": "3.6.10"
  }
 },
 "nbformat": 4,
 "nbformat_minor": 4
}
