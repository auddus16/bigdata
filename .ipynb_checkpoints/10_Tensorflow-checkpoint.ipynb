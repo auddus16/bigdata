{
 "cells": [
  {
   "cell_type": "markdown",
   "metadata": {},
   "source": [
    "# 텐서플로\n",
    "### 텐서플로는 구글에서 만든 딥러닝 프로그램을 쉽게 구현할 수 있도록 다양한 기능을 제공하는 라이브러리입니다. 텐서플로는 C++로 구현되어 있으며 다양한 언어를 지원하지만 파이썬을 최우선으로 지원하는 라이브러리입니다."
   ]
  },
  {
   "cell_type": "markdown",
   "metadata": {},
   "source": [
    "# 텐서플로 삭제\n",
    "### CPU의 경우 : pip uninstall tensorflow\n",
    "### GPU의 경우 : pip uninstall tensorflow\n",
    "\n",
    "# 텐서플로 1.15 설치\n",
    "### pip install tensorflow-gpu==1.15"
   ]
  },
  {
   "cell_type": "code",
   "execution_count": 3,
   "metadata": {},
   "outputs": [
    {
     "ename": "ModuleNotFoundError",
     "evalue": "No module named 'tensorflow'",
     "output_type": "error",
     "traceback": [
      "\u001b[1;31m---------------------------------------------------------------------------\u001b[0m",
      "\u001b[1;31mModuleNotFoundError\u001b[0m                       Traceback (most recent call last)",
      "\u001b[1;32m<ipython-input-3-8ba33586799b>\u001b[0m in \u001b[0;36m<module>\u001b[1;34m\u001b[0m\n\u001b[0;32m      1\u001b[0m \u001b[1;31m# import tensorflow as tf\u001b[0m\u001b[1;33m\u001b[0m\u001b[1;33m\u001b[0m\u001b[1;33m\u001b[0m\u001b[0m\n\u001b[1;32m----> 2\u001b[1;33m \u001b[1;32mimport\u001b[0m \u001b[0mtensorflow\u001b[0m\u001b[1;33m.\u001b[0m\u001b[0mcompat\u001b[0m\u001b[1;33m.\u001b[0m\u001b[0mv1\u001b[0m \u001b[1;32mas\u001b[0m \u001b[0mtf\u001b[0m  \u001b[1;31m# 텐서플로우 버전\u001b[0m\u001b[1;33m\u001b[0m\u001b[1;33m\u001b[0m\u001b[0m\n\u001b[0m\u001b[0;32m      3\u001b[0m \u001b[0mtf\u001b[0m\u001b[1;33m.\u001b[0m\u001b[0mdisable_v2_behavior\u001b[0m\u001b[1;33m(\u001b[0m\u001b[1;33m)\u001b[0m  \u001b[1;31m# 텐서플로우 버전 2를 사용하지 않겠음\u001b[0m\u001b[1;33m\u001b[0m\u001b[1;33m\u001b[0m\u001b[0m\n",
      "\u001b[1;31mModuleNotFoundError\u001b[0m: No module named 'tensorflow'"
     ]
    }
   ],
   "source": [
    "# import tensorflow as tf\n",
    "import tensorflow.compat.v1 as tf  # 텐서플로우 버전\n",
    "tf.disable_v2_behavior()  # 텐서플로우 버전 2를 사용하지 않겠음"
   ]
  },
  {
   "cell_type": "code",
   "execution_count": 4,
   "metadata": {},
   "outputs": [
    {
     "name": "stdout",
     "output_type": "stream",
     "text": [
      "Tensor(\"Add_2:0\", shape=(), dtype=int32)\n",
      "300\n"
     ]
    }
   ],
   "source": [
    "# tensorflow 상수 만들기\n",
    "# constant() : tensorflow에서 사용할 상수를 정의하는 함수\n",
    "a = tf.constant(100)\n",
    "b = tf.constant(200)\n",
    "c = tf.add(a, b)  # c = a + b\n",
    "print(c)  # Tensor(\"Add:0\", shape=(), dtype=int32) # 값이 객체에 숨겨져있음. 반드시 세션이라는 작업영역을 만든 후 상수, 변수, 수식을 대입하고 연산해야함.\n",
    "sess = tf.Session()\n",
    "print(sess.run(c)) # 300 # 값이 잘 나옴"
   ]
  },
  {
   "cell_type": "code",
   "execution_count": 7,
   "metadata": {},
   "outputs": [
    {
     "name": "stdout",
     "output_type": "stream",
     "text": [
      "50\n",
      "75\n"
     ]
    }
   ],
   "source": [
    "# Tensorflow 변수\n",
    "# Variable() : tensorflow에서 사용할 변수를 정의하는 함수\n",
    "a = tf.Variable(10)\n",
    "b = tf.Variable(5)\n",
    "c = tf.multiply(a, b) # c = a * b\n",
    "sess = tf.Session()\n",
    "# global_variables_initializer() : 변수를 초기화 하는 함수\n",
    "init = tf.global_variables_initializer()\n",
    "sess.run(init) # 세션 구간 초기화\n",
    "print(sess.run(c))\n",
    "\n",
    "a = tf.Variable(15)  # 기존 변수의 값을 변경\n",
    "c = a * b\n",
    "sess.run(tf.global_variables_initializer())  # 저장된 값이 변경되더라도 다시 초기화 시켜야합니다.\n",
    "print(sess.run(c))"
   ]
  },
  {
   "cell_type": "code",
   "execution_count": 13,
   "metadata": {},
   "outputs": [
    {
     "name": "stdout",
     "output_type": "stream",
     "text": [
      "tf.add(num1, num2) : 22.0\n",
      "tf.subtract(num1, num2) : 12.0\n",
      "tf.multiply(num1, num2) : 85.0\n",
      "tf.truediv(num1, num2) : 3.4000000953674316\n",
      "tf.mod(num1, num2) : 2.0\n"
     ]
    }
   ],
   "source": [
    "# tensorflow 기본 함수\n",
    "num1 = tf.constant(17.0)\n",
    "num2 = tf.constant(5.0)\n",
    "\n",
    "result = tf.add(num1, num2)  # 덧셈\n",
    "print(\"tf.add(num1, num2) : {}\".format(sess.run(result)))\n",
    "\n",
    "result = tf.subtract(num1, num2)  # 뺄셈\n",
    "print(\"tf.subtract(num1, num2) : {}\".format(sess.run(result)))\n",
    "\n",
    "result = tf.multiply(num1, num2)  # 곱셈\n",
    "print(\"tf.multiply(num1, num2) : {}\".format(sess.run(result)))\n",
    "\n",
    "result = tf.truediv(num1, num2)  # 나눗셈\n",
    "print(\"tf.truediv(num1, num2) : {}\".format(sess.run(result)))\n",
    "\n",
    "result = tf.mod(num1, num2)  # 나머지\n",
    "print(\"tf.mod(num1, num2) : {}\".format(sess.run(result)))"
   ]
  },
  {
   "cell_type": "code",
   "execution_count": 25,
   "metadata": {},
   "outputs": [
    {
     "name": "stdout",
     "output_type": "stream",
     "text": [
      "tf.abs(-num1) : 17.0\n",
      "tf.negative(num1) : -17.0\n",
      "tf.square(num2) : 25.0\n",
      "tf.sqrt(num2) : 2.2360680103302\n",
      "tf.maximum(num1, num2) : 17.0\n",
      "tf.minimum(num1, num2) : 5.0\n",
      "tf.pow(num2, 2) : 25.0\n",
      "tf.exp(num2) : 148.4131622314453\n",
      "tf.log(num2) : 1.6094379425048828\n",
      "tf.sin(num2) : -0.9589242935180664\n",
      "tf.cos(num2) : 0.28366219997406006\n"
     ]
    }
   ],
   "source": [
    "# tensorflow 수식 함수\n",
    "result = tf.abs(-num1)  # 절댓값\n",
    "print(\"tf.abs(-num1) : {}\".format(sess.run(result)))\n",
    "\n",
    "result = tf.negative(num1)  # 숫자를 음수로 변경하는 함수\n",
    "print(\"tf.negative(num1) : {}\".format(sess.run(result)))\n",
    "\n",
    "result = tf.square(num2)  # 제곱, x의 2승\n",
    "print(\"tf.square(num2) : {}\".format(sess.run(result)))\n",
    "\n",
    "result = tf.sqrt(num2)  # 제곱근\n",
    "print(\"tf.sqrt(num2) : {}\".format(sess.run(result)))\n",
    "\n",
    "result = tf.maximum(num1, num2)  # 최댓값\n",
    "print(\"tf.maximum(num1, num2) : {}\".format(sess.run(result)))\n",
    "\n",
    "result = tf.minimum(num1, num2)  # 최솟값\n",
    "print(\"tf.minimum(num1, num2) : {}\".format(sess.run(result)))\n",
    "\n",
    "result = tf.pow(num2, 2)  # 거듭제곱, x의 y승\n",
    "print(\"tf.pow(num2, 2) : {}\".format(sess.run(result)))\n",
    "\n",
    "result = tf.exp(num2)  # 지수\n",
    "print(\"tf.exp(num2) : {}\".format(sess.run(result)))\n",
    "\n",
    "result = tf.log(num2)  # 로그\n",
    "print(\"tf.log(num2) : {}\".format(sess.run(result)))\n",
    "\n",
    "result = tf.sin(num2)  # 사인\n",
    "print(\"tf.sin(num2) : {}\".format(sess.run(result)))\n",
    "\n",
    "result = tf.cos(num2)  # 코사인\n",
    "print(\"tf.cos(num2) : {}\".format(sess.run(result)))"
   ]
  },
  {
   "cell_type": "code",
   "execution_count": 26,
   "metadata": {},
   "outputs": [
    {
     "name": "stdout",
     "output_type": "stream",
     "text": [
      "[6. 6. 6. 6. 6.]\n"
     ]
    }
   ],
   "source": [
    "# tensorflow placeholder\n",
    "# placeholder() : 여러 학습 데이터를 저장하는 변수입니다.\n",
    "# placeholder(dtype, shape, name) -> dtype : placeholder에 저장되는 자료형, shape : 데이터의 차원(생략 가능), name : placeholder의 이름(생략 가능)\n",
    "\n",
    "xData = [1,2,3,4,5]\n",
    "yData = [5,4,3,2,1]\n",
    "\n",
    "X = tf.placeholder(dtype=tf.float32)\n",
    "Y = tf.placeholder(dtype=tf.float32)\n",
    "\n",
    "Z = X + Y\n",
    "\n",
    "sess = tf.Session()\n",
    "\n",
    "# Z에 정의한 수식을 실행합니다. Z에는 데이터가 채워져있지 않기 때문에 반드시 'feed_dict'라는 이름의 딕셔너리 타입을 사용해서 테이터를 채워줍니다.\n",
    "result = sess.run(Z, feed_dict = {X : xData, Y : yData})\n",
    "print(result)"
   ]
  },
  {
   "cell_type": "code",
   "execution_count": 28,
   "metadata": {},
   "outputs": [
    {
     "name": "stdout",
     "output_type": "stream",
     "text": [
      "[]\n",
      "[6, 6, 6, 6, 6]\n",
      "[0, 0, 0, 0, 0]\n",
      "[6, 6, 6, 6, 6]\n"
     ]
    }
   ],
   "source": [
    "result = []  # 빈 리스트를 선언합니다.\n",
    "print(result)\n",
    "\n",
    "input1 = [1,2,3,4,5]\n",
    "input2 = [5,4,3,2,1]\n",
    "\n",
    "for i in range(5):\n",
    "    result.append(input1[i] + input2[i])\n",
    "print(result)\n",
    "\n",
    "result = [0 for i in range(len(input1))]\n",
    "print(result)\n",
    "\n",
    "for i in range(len(input1)):\n",
    "    result[i] = input1[i] + input2[i]\n",
    "print(result)"
   ]
  }
 ],
 "metadata": {
  "kernelspec": {
   "display_name": "Python 3",
   "language": "python",
   "name": "python3"
  }
 },
 "nbformat": 4,
 "nbformat_minor": 2
}
