{
 "cells": [
  {
   "cell_type": "code",
   "execution_count": 7,
   "metadata": {},
   "outputs": [],
   "source": [
    "import tensorflow.compat.v1 as tf\n",
    "tf.disable_v2_behavior()\n",
    "import numpy as np\n",
    "import pandas as pd\n",
    "import matplotlib.pyplot as plt\n",
    "import seaborn as sb\n",
    "%matplotlib inline"
   ]
  },
  {
   "cell_type": "code",
   "execution_count": 9,
   "metadata": {},
   "outputs": [
    {
     "name": "stdout",
     "output_type": "stream",
     "text": [
      "    age kindCd neuterYn  processState sexCd  weight   noticeSdt   noticeEdt  \\\n",
      "0  2008     푸들        N             0     F    7.46  2020-01-20  2020-01-30   \n",
      "1  2019    믹스견        N             1     M    7.00  2020-01-02  2020-01-16   \n",
      "2  2018    믹스견        U             0     M    4.50  2020-01-02  2020-01-13   \n",
      "3  2019    진도견        N             0     M   10.00  2020-01-02  2020-01-10   \n",
      "4  2016    믹스견        N             0     M    6.00  2020-01-02  2020-01-10   \n",
      "\n",
      "   noticeDays  age2  \n",
      "0          10    12  \n",
      "1          14     1  \n",
      "2          11     2  \n",
      "3           8     1  \n",
      "4           8     4  \n"
     ]
    }
   ],
   "source": [
    "#doginfo.csv파일 데이터를 pandas를 이용해 읽어옵니다.\n",
    "dog_data=pd.read_csv(\"doginfo.csv\")\n",
    "print(dog_data.head())"
   ]
  },
  {
   "cell_type": "code",
   "execution_count": 11,
   "metadata": {},
   "outputs": [
    {
     "name": "stdout",
     "output_type": "stream",
     "text": [
      "[[2008 '푸들' 'N' ... '2020-01-30' 10 12]\n",
      " [2019 '믹스견' 'N' ... '2020-01-16' 14 1]\n",
      " [2018 '믹스견' 'U' ... '2020-01-13' 11 2]\n",
      " ...\n",
      " [2019 '믹스견' 'N' ... '2019-08-20' 10 0]\n",
      " [2016 '푸들' 'U' ... '2019-08-22' 12 3]\n",
      " [2019 '믹스견' 'N' ... '2019-08-20' 10 0]]\n",
      "<class 'numpy.ndarray'>\n"
     ]
    }
   ],
   "source": [
    "#읽어온 데이터를 파이썬에서 처리하기 적합하게 numpy 배열 형태로 변환합니다.\n",
    "data=np.array(dog_data)\n",
    "print(data)\n",
    "print(type(data))"
   ]
  },
  {
   "cell_type": "code",
   "execution_count": 19,
   "metadata": {},
   "outputs": [
    {
     "name": "stdout",
     "output_type": "stream",
     "text": [
      "[['푸들' 'N']\n",
      " ['믹스견' 'N']\n",
      " ['믹스견' 'U']\n",
      " ...\n",
      " ['믹스견' 'N']\n",
      " ['푸들' 'U']\n",
      " ['믹스견' 'N']]\n"
     ]
    }
   ],
   "source": [
    "#numpy 배열에서 데이터 변화요인(kindCd, neuterYn, sexCd, weight, noticeDays, age2)으로 사용할 데이터를 뽑아냅니다.\n",
    "xData=data[:, 1:3]\n",
    "print(xData)"
   ]
  },
  {
   "cell_type": "code",
   "execution_count": null,
   "metadata": {},
   "outputs": [],
   "source": []
  },
  {
   "cell_type": "code",
   "execution_count": null,
   "metadata": {},
   "outputs": [],
   "source": []
  },
  {
   "cell_type": "code",
   "execution_count": null,
   "metadata": {},
   "outputs": [],
   "source": []
  }
 ],
 "metadata": {
  "kernelspec": {
   "display_name": "Python 3",
   "language": "python",
   "name": "python3"
  },
  "language_info": {
   "codemirror_mode": {
    "name": "ipython",
    "version": 3
   },
   "file_extension": ".py",
   "mimetype": "text/x-python",
   "name": "python",
   "nbconvert_exporter": "python",
   "pygments_lexer": "ipython3",
   "version": "3.6.10"
  }
 },
 "nbformat": 4,
 "nbformat_minor": 4
}
