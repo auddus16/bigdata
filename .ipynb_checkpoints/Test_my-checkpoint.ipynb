{
 "cells": [
  {
   "cell_type": "code",
   "execution_count": 1,
   "metadata": {},
   "outputs": [
    {
     "name": "stdout",
     "output_type": "stream",
     "text": [
      "WARNING:tensorflow:From C:\\Users\\yunji\\anaconda3\\envs\\dbswls\\lib\\site-packages\\tensorflow_core\\python\\compat\\v2_compat.py:88: disable_resource_variables (from tensorflow.python.ops.variable_scope) is deprecated and will be removed in a future version.\n",
      "Instructions for updating:\n",
      "non-resource variables are not supported in the long term\n"
     ]
    }
   ],
   "source": [
    "# 학습 결과를 저장한 모델을 불러 실행합니다.\n",
    "import tensorflow.compat.v1 as tf\n",
    "tf.disable_v2_behavior()\n",
    "import numpy as np"
   ]
  },
  {
   "cell_type": "code",
   "execution_count": 2,
   "metadata": {},
   "outputs": [],
   "source": [
    "X = tf.placeholder(dtype = tf.float32, shape = [None, 6])\n",
    "Y = tf.placeholder(dtype = tf.float32, shape = [None, 1])  # 가격(실제값)이 들어있는 placeholder\n",
    "\n",
    "a = tf.Variable(tf.random_uniform([6, 1], dtype = tf.float32))\n",
    "b = tf.Variable(tf.random_uniform([1], dtype = tf.float32))  # y절편\n",
    "\n",
    "y = tf.sigmoid(tf.matmul(X, a) + b)"
   ]
  },
  {
   "cell_type": "code",
   "execution_count": 10,
   "metadata": {},
   "outputs": [
    {
     "name": "stdout",
     "output_type": "stream",
     "text": [
      "품종 :128\n",
      "중성화 여부 :0\n",
      "성별 :2\n",
      "몸무게 : 88\n",
      "공고일 수: 100\n",
      "나이: 20\n"
     ]
    }
   ],
   "source": [
    "# 배추 가격을 결정하는 4가지 변화 요인을 입력받습니다.\n",
    "kind = float(input('품종 :'))\n",
    "neuter = float(input('중성화 여부 :'))\n",
    "sex = float(input('성별 :'))\n",
    "weight = float(input('몸무게 : '))\n",
    "notice= float(input('공고일 수: '))\n",
    "age= float(input('나이: '))"
   ]
  },
  {
   "cell_type": "code",
   "execution_count": 11,
   "metadata": {},
   "outputs": [
    {
     "name": "stdout",
     "output_type": "stream",
     "text": [
      "INFO:tensorflow:Restoring parameters from ./dogsaved.ckpt\n",
      "result:[1.]\n"
     ]
    }
   ],
   "source": [
    "# 저장된 학습 모델을 불러와 적용시킵니다.\n",
    "# tf.train.Saver() : 학습된 모델을 디스크로 저장 또는 불러오는 객체를 생성하는 함수\n",
    "saver = tf.train.Saver()\n",
    "with tf.Session() as sess:\n",
    "    sess.run(tf.global_variables_initializer())\n",
    "    # save() 함수로 저장된 학습 모델은 restore() 함수를 사용하여 세션으로 불러올 수 있습니다.\n",
    "    # 정상적으로 결과가 출력될 때 학습에 사용하는 변수를 다시 선언하면 학습 모델을 restore() 함수를 사용해 읽어올 때 오류가 발생합니다.\n",
    "    # restore() 함수를 사용해 학습 모델을 읽어올 때 오류가 발생하면 주피터 노트북을 종료하고 다시 실행하면 됩니다.\n",
    "    saver.restore(sess, './dogsaved.ckpt')\n",
    "    # 키보드로 입력받은 데이터를 불러온 학습 모델에 사용하기 위해 numpy 배열로 만듭니다.\n",
    "    data = [[kind, neuter, sex, weight, notice, age], ]  # 끝에 , 꼭 찍기\n",
    "    new_data = np.array(data, dtype=np.float32)\n",
    "    # 불러온 학습 모델을 키보드로 입력한 데이터를 적용시켜 입력된 데이터에 따른 배추 가격을 예측합니다.\n",
    "    result = sess.run(y, feed_dict = {X: new_data})\n",
    "    print(\"result:{}\".format(result[0]))"
   ]
  }
 ],
 "metadata": {
  "kernelspec": {
   "display_name": "Python 3",
   "language": "python",
   "name": "python3"
  },
  "language_info": {
   "codemirror_mode": {
    "name": "ipython",
    "version": 3
   },
   "file_extension": ".py",
   "mimetype": "text/x-python",
   "name": "python",
   "nbconvert_exporter": "python",
   "pygments_lexer": "ipython3",
   "version": "3.7.7"
  }
 },
 "nbformat": 4,
 "nbformat_minor": 4
}
