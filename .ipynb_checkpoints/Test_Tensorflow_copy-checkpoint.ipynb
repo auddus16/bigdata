{
 "cells": [
  {
   "cell_type": "code",
   "execution_count": 1,
   "metadata": {},
   "outputs": [
    {
     "name": "stdout",
     "output_type": "stream",
     "text": [
      "WARNING:tensorflow:From C:\\Users\\yunji\\anaconda3\\envs\\dbswls\\lib\\site-packages\\tensorflow_core\\python\\compat\\v2_compat.py:88: disable_resource_variables (from tensorflow.python.ops.variable_scope) is deprecated and will be removed in a future version.\n",
      "Instructions for updating:\n",
      "non-resource variables are not supported in the long term\n"
     ]
    }
   ],
   "source": [
    "# 학습 결과를 저장한 모델을 불러 실행합니다.\n",
    "import tensorflow.compat.v1 as tf\n",
    "tf.disable_v2_behavior()\n",
    "import numpy as np\n",
    "import pandas as pd"
   ]
  },
  {
   "cell_type": "code",
   "execution_count": 2,
   "metadata": {},
   "outputs": [],
   "source": [
    "kind=pd.read_csv(\"testDogKind.csv\")\n",
    "kindCd=pd.read_csv(\"kindCd.csv\")\n",
    "\n",
    "kind=kind.dropna(axis=0)\n",
    "kindCd_data = kindCd.dropna(axis=0)"
   ]
  },
  {
   "cell_type": "code",
   "execution_count": 3,
   "metadata": {},
   "outputs": [],
   "source": [
    "#품종과 품종코드를 분리하여 array에 저장\n",
    "kind1=np.array(kind.KNm)\n",
    "kind2=np.array(kind.kindCd, dtype=np.float64)"
   ]
  },
  {
   "cell_type": "code",
   "execution_count": 4,
   "metadata": {},
   "outputs": [
    {
     "data": {
      "text/plain": [
       "{'골든 리트리버': 54.0,\n",
       " '그레이 하운드': 56.0,\n",
       " '그레이트 덴': 55.0,\n",
       " '그레이트 피레니즈': 118.0,\n",
       " '기타': 115.0,\n",
       " '꼬똥 드 뚤레아': 37.0,\n",
       " '네오폴리탄 마스티프': 81.0,\n",
       " '노르포크 테리어': 204.0,\n",
       " '노리치 테리어': 83.0,\n",
       " '뉴펀들랜드': 82.0,\n",
       " '닥스훈트': 38.0,\n",
       " '달마시안': 39.0,\n",
       " '댄디 딘몬트 테리어': 40.0,\n",
       " '도고 까니리오': 43.0,\n",
       " '도고 아르젠티노': 153.0,\n",
       " '도베르만': 41.0,\n",
       " '도사': 120.0,\n",
       " '동경견': 155.0,\n",
       " '라브라도 리트리버': 69.0,\n",
       " '라사 압소': 71.0,\n",
       " '라이카': 142.0,\n",
       " '래빗 닥스훈드': 93.0,\n",
       " '랫 테리어': 167.0,\n",
       " '레이크랜드 테리어': 70.0,\n",
       " '로디지안 리즈백': 166.0,\n",
       " '로트바일러': 94.0,\n",
       " '롯트와일러': 121.0,\n",
       " '마리노이즈': 152.0,\n",
       " '마스티프': 73.0,\n",
       " '말라뮤트': 146.0,\n",
       " '말티즈': 72.0,\n",
       " '맨체스터테리어': 159.0,\n",
       " '미니어쳐 닥스훈트': 76.0,\n",
       " '미니어쳐 불 테리어': 75.0,\n",
       " '미니어쳐 슈나우저': 79.0,\n",
       " '미니어쳐 푸들': 78.0,\n",
       " '미니어쳐 핀셔': 77.0,\n",
       " '미디엄 푸들': 74.0,\n",
       " '미텔 스피츠': 80.0,\n",
       " '믹스견': 114.0,\n",
       " '바센지': 133.0,\n",
       " '바셋 하운드': 12.0,\n",
       " '버니즈 마운틴 독': 17.0,\n",
       " '베들링턴 테리어': 15.0,\n",
       " '벨기에 그로넨달': 164.0,\n",
       " '벨기에 쉽독': 157.0,\n",
       " '벨기에 테뷰런': 148.0,\n",
       " '벨지안 셰퍼드 독': 16.0,\n",
       " '보더 콜리': 20.0,\n",
       " '보르조이': 21.0,\n",
       " '보스턴 테리어': 22.0,\n",
       " '복서': 24.0,\n",
       " '볼로네즈': 208.0,\n",
       " '부비에 데 플랑드르': 23.0,\n",
       " '불 테리어': 26.0,\n",
       " '불독': 27.0,\n",
       " '브뤼셀그리펀': 169.0,\n",
       " '브리타니 스파니엘': 25.0,\n",
       " '블랙 테리어': 19.0,\n",
       " '비글': 13.0,\n",
       " '비숑 프리제': 18.0,\n",
       " '비어디드 콜리': 14.0,\n",
       " '비즐라': 162.0,\n",
       " '빠삐용': 85.0,\n",
       " '사모예드': 96.0,\n",
       " '살루키': 95.0,\n",
       " '삽살개': 1.0,\n",
       " '샤페이': 34.0,\n",
       " '세인트 버나드': 104.0,\n",
       " '센트럴 아시안 오브차카': 31.0,\n",
       " '셔틀랜드 쉽독': 99.0,\n",
       " '셰퍼드': 122.0,\n",
       " '슈나우져': 123.0,\n",
       " '스코티쉬 테리어': 97.0,\n",
       " '스코티시 디어하운드': 132.0,\n",
       " '스탠다드 푸들': 105.0,\n",
       " '스테포드셔불테리어': 154.0,\n",
       " '스피츠': 124.0,\n",
       " '시바': 100.0,\n",
       " '시베리안 허스키': 103.0,\n",
       " '시베리안라이카': 151.0,\n",
       " '시잉프랑세즈': 139.0,\n",
       " '시츄': 101.0,\n",
       " '시코쿠': 102.0,\n",
       " '실리햄 테리어': 98.0,\n",
       " '실키테리어': 136.0,\n",
       " '아나톨리안 셰퍼드': 202.0,\n",
       " '아메리칸 불독': 160.0,\n",
       " '아메리칸 스태퍼드셔 테리어': 203.0,\n",
       " '아메리칸 아키다': 8.0,\n",
       " '아메리칸 에스키모': 131.0,\n",
       " '아메리칸 코카 스파니엘': 9.0,\n",
       " '아메리칸 핏불 테리어': 119.0,\n",
       " '아메리칸불리': 150.0,\n",
       " '아이리쉬 레드 앤 화이트 세터': 210.0,\n",
       " '아이리쉬 세터': 57.0,\n",
       " '아이리쉬 울프 하운드': 58.0,\n",
       " '아이리쉬소프트코튼휘튼테리어': 59.0,\n",
       " '아키다': 6.0,\n",
       " '아프간 하운드': 4.0,\n",
       " '알라스칸 말라뮤트': 7.0,\n",
       " '에어델 테리어': 5.0,\n",
       " '오브차카': 143.0,\n",
       " '오스트랄리안 셰퍼드 독': 11.0,\n",
       " '오스트랄리안 캐틀 독': 10.0,\n",
       " '올드 잉글리쉬 불독': 137.0,\n",
       " '올드 잉글리쉬 쉽독': 84.0,\n",
       " '와이마라너': 163.0,\n",
       " '와이어 폭스 테리어': 112.0,\n",
       " '요크셔 테리어': 113.0,\n",
       " '울프독': 149.0,\n",
       " '웨스트 시베리언 라이카': 211.0,\n",
       " '웨스트하이랜드화이트테리어': 110.0,\n",
       " '웰시 코기 카디건': 205.0,\n",
       " '웰시 코기 펨브로크': 108.0,\n",
       " '웰시 테리어': 109.0,\n",
       " '이탈리안 그레이 하운드': 60.0,\n",
       " '잉글리쉬 세터': 46.0,\n",
       " '잉글리쉬 스프링거 스파니엘': 47.0,\n",
       " '잉글리쉬 코카 스파니엘': 44.0,\n",
       " '잉글리쉬 포인터': 45.0,\n",
       " '자이언트 슈나우져': 53.0,\n",
       " '재패니즈 스피츠': 62.0,\n",
       " '잭 러셀 테리어': 61.0,\n",
       " '저먼 셰퍼드 독': 52.0,\n",
       " '저먼 와이어헤어드 포인터': 165.0,\n",
       " '저먼 포인터': 51.0,\n",
       " '제주개': 156.0,\n",
       " '제페니즈칭': 129.0,\n",
       " '진도견': 67.0,\n",
       " '차우차우': 35.0,\n",
       " '차이니즈 크레스티드 독': 33.0,\n",
       " '치와와': 32.0,\n",
       " '카레리안 베어독': 158.0,\n",
       " '카이훗': 144.0,\n",
       " '캐벌리어 킹 찰스 스파니엘': 30.0,\n",
       " '케니스펜더': 29.0,\n",
       " '케리 블루 테리어': 64.0,\n",
       " '케언 테리어': 207.0,\n",
       " '케인 코르소': 28.0,\n",
       " '코리아 트라이 하운드': 2.0,\n",
       " '코리안 마스티프': 68.0,\n",
       " '코카 스파니엘': 125.0,\n",
       " '코카 푸': 141.0,\n",
       " '코카시안오브차카': 145.0,\n",
       " '콜리': 36.0,\n",
       " '클라인스피츠': 66.0,\n",
       " '키슈': 65.0,\n",
       " '키스 훈드': 63.0,\n",
       " '토이 맨체스터 테리어': 140.0,\n",
       " '토이 푸들': 107.0,\n",
       " '티베탄 마스티프': 106.0,\n",
       " '파라오 하운드': 209.0,\n",
       " '파슨 러셀 테리어': 86.0,\n",
       " '팔렌': 88.0,\n",
       " '퍼그': 90.0,\n",
       " '페키니즈': 87.0,\n",
       " '페터데일테리어': 138.0,\n",
       " '포메라니안': 89.0,\n",
       " '포인터': 126.0,\n",
       " '폭스테리어': 127.0,\n",
       " '푸들': 128.0,\n",
       " '풀리': 91.0,\n",
       " '풍산견': 3.0,\n",
       " '프레사까나리오': 161.0,\n",
       " '프렌치 불독': 50.0,\n",
       " '프렌치 브리타니': 168.0,\n",
       " '플랫 코티드 리트리버': 49.0,\n",
       " '플롯하운드': 147.0,\n",
       " '피레니안 마운틴 독': 92.0,\n",
       " '필라 브라질레오': 48.0,\n",
       " '핏불테리어': 135.0,\n",
       " '허배너스': 206.0,\n",
       " '화이트리트리버': 130.0,\n",
       " '화이트테리어': 134.0,\n",
       " '휘펫': 111.0}"
      ]
     },
     "execution_count": 4,
     "metadata": {},
     "output_type": "execute_result"
    }
   ],
   "source": [
    "kind_dict={}\n",
    "for i in range(len(kind2)):\n",
    "    kind_dict[kind1[i]]=kind2[i]\n",
    "kind_dict"
   ]
  },
  {
   "cell_type": "code",
   "execution_count": 5,
   "metadata": {},
   "outputs": [],
   "source": [
    "X = tf.placeholder(dtype = tf.float64, shape = [None, 186])\n",
    "Y = tf.placeholder(dtype = tf.float64, shape = [None, 1])  # 가격(실제값)이 들어있는 placeholder\n",
    "\n",
    "a = tf.Variable(tf.random_uniform([186, 1], dtype = tf.float64))\n",
    "b = tf.Variable(tf.random_uniform([1], dtype = tf.float64))  # y절편\n",
    "\n",
    "y = tf.sigmoid(tf.matmul(X, a) + b)"
   ]
  },
  {
   "cell_type": "code",
   "execution_count": 6,
   "metadata": {},
   "outputs": [
    {
     "name": "stdout",
     "output_type": "stream",
     "text": [
      "품종 :푸들\n",
      "중성화 여부 :Y\n",
      "성별 :F\n",
      "몸무게 : 5\n",
      "공고일 수: 3\n",
      "나이: 2\n"
     ]
    }
   ],
   "source": [
    "# 배추 가격을 결정하는 4가지 변화 요인을 입력받습니다.\n",
    "kind = input('품종 :')\n",
    "neuter = input('중성화 여부 :')\n",
    "sex = input('성별 :')\n",
    "weight = float(input('몸무게 : '))\n",
    "notice= float(input('공고일 수: '))\n",
    "age= float(input('나이: '))"
   ]
  },
  {
   "cell_type": "code",
   "execution_count": 7,
   "metadata": {},
   "outputs": [
    {
     "name": "stdout",
     "output_type": "stream",
     "text": [
      "128.0\n"
     ]
    }
   ],
   "source": [
    "for cd, num in kind_dict.items():\n",
    "    if(kind==cd):\n",
    "        kind=num\n",
    "        break\n",
    "print(kind)"
   ]
  },
  {
   "cell_type": "code",
   "execution_count": 8,
   "metadata": {},
   "outputs": [
    {
     "name": "stdout",
     "output_type": "stream",
     "text": [
      "['N' 'U' 'Y']\n",
      "['F' 'M' 'Q']\n",
      "[ 54.  56.  55. 118. 115.  37.  81. 204.  83.  82.  38.  39.  40.  43.\n",
      "  42. 153.  41. 120. 155.  69.  71. 142.  93. 167.  70. 166.  94. 121.\n",
      " 152.  73. 146.  72. 159.  76.  75.  79.  78.  77.  74.  80. 114. 133.\n",
      "  12.  17.  15. 164. 157. 148.  16.  20.  21.  22.  24. 208.  23.  26.\n",
      "  27. 169.  25.  19.  13.  18.  14. 162.  85.  96.  95.   1.  34. 104.\n",
      "  31.  99. 122. 123.  97. 132. 105. 154. 124. 100. 103. 151. 139. 101.\n",
      " 102.  98. 136. 202. 160. 203.   8. 131.   9. 119. 150. 210.  57.  58.\n",
      "  59.   6.   4.   7.   5. 143.  11.  10. 137.  84. 163. 112. 113. 149.\n",
      " 211. 110. 205. 108. 109.  60.  46.  47.  44.  45.  53.  62.  61.  52.\n",
      " 165.  51. 156. 129.  67.  35.  33.  32. 158. 144.  30.  29.  64. 207.\n",
      "  28.   2.  68. 125. 141. 145.  36.  66.  65.  63. 140. 107. 106. 209.\n",
      "  86.  88.  90.  87. 138.  89. 126. 127. 128.  91.   3. 161.  50. 168.\n",
      "  49. 147.  92.  48. 135. 206. 130. 134. 111.]\n",
      "(177,)\n"
     ]
    }
   ],
   "source": [
    "kindCd = np.array(kindCd_data, dtype = np.float64)\n",
    "neuter_list=np.array(['N', 'U', 'Y'])\n",
    "sex_list=np.array(['F', 'M', 'Q'])\n",
    "\n",
    "neuter_list=neuter_list.reshape(3)\n",
    "sex_list=sex_list.reshape(3)\n",
    "kindCd = kindCd.reshape(177)\n",
    "\n",
    "print(neuter_list)\n",
    "print(sex_list)\n",
    "print(kindCd)\n",
    "print(kindCd.shape)"
   ]
  },
  {
   "cell_type": "code",
   "execution_count": 9,
   "metadata": {},
   "outputs": [
    {
     "data": {
      "text/html": [
       "<div>\n",
       "<style scoped>\n",
       "    .dataframe tbody tr th:only-of-type {\n",
       "        vertical-align: middle;\n",
       "    }\n",
       "\n",
       "    .dataframe tbody tr th {\n",
       "        vertical-align: top;\n",
       "    }\n",
       "\n",
       "    .dataframe thead th {\n",
       "        text-align: right;\n",
       "    }\n",
       "</style>\n",
       "<table border=\"1\" class=\"dataframe\">\n",
       "  <thead>\n",
       "    <tr style=\"text-align: right;\">\n",
       "      <th></th>\n",
       "      <th>kindNum</th>\n",
       "      <th>neuterYn</th>\n",
       "      <th>sexCd</th>\n",
       "      <th>weight</th>\n",
       "      <th>noticeDays</th>\n",
       "      <th>age2</th>\n",
       "    </tr>\n",
       "  </thead>\n",
       "  <tbody>\n",
       "    <tr>\n",
       "      <th>0</th>\n",
       "      <td>128.0</td>\n",
       "      <td>Y</td>\n",
       "      <td>F</td>\n",
       "      <td>5.0</td>\n",
       "      <td>3.0</td>\n",
       "      <td>2.0</td>\n",
       "    </tr>\n",
       "  </tbody>\n",
       "</table>\n",
       "</div>"
      ],
      "text/plain": [
       "   kindNum neuterYn sexCd  weight  noticeDays  age2\n",
       "0    128.0        Y     F     5.0         3.0   2.0"
      ]
     },
     "execution_count": 9,
     "metadata": {},
     "output_type": "execute_result"
    }
   ],
   "source": [
    "test={'kindNum':[kind], 'neuterYn':[neuter], 'sexCd':[sex], 'weight':[weight], 'noticeDays':[notice], 'age2':[age]}\n",
    "test=pd.DataFrame(test)\n",
    "test"
   ]
  },
  {
   "cell_type": "code",
   "execution_count": 10,
   "metadata": {},
   "outputs": [],
   "source": [
    "# kindNum을 원핫 인코딩\n",
    "kindCd= pd.concat((pd.get_dummies(test.kindNum, columns=kindCd), pd.DataFrame(columns=kindCd))).fillna(0)\n",
    "test.drop(['kindNum'], axis='columns', inplace=True)\n",
    "test=pd.concat([test, kindCd], axis=1)\n",
    "\n",
    "neuter_list = pd.concat((pd.get_dummies(test.neuterYn, columns=neuter_list), pd.DataFrame(columns=neuter_list))).fillna(0)\n",
    "test.drop(['neuterYn'], axis='columns', inplace=True)\n",
    "test=pd.concat([test, neuter_list], axis=1)\n",
    "\n",
    "sex_list = pd.concat((pd.get_dummies(test.sexCd, columns=sex_list), pd.DataFrame(columns=sex_list))).fillna(0)\n",
    "test.drop(['sexCd'], axis='columns', inplace=True)\n",
    "test=pd.concat([test, sex_list], axis=1)\n"
   ]
  },
  {
   "cell_type": "code",
   "execution_count": 11,
   "metadata": {},
   "outputs": [
    {
     "name": "stdout",
     "output_type": "stream",
     "text": [
      "INFO:tensorflow:Restoring parameters from ./dog.ckpt\n",
      "result:[0.99995491]\n"
     ]
    }
   ],
   "source": [
    "# 저장된 학습 모델을 불러와 적용시킵니다.\n",
    "# tf.train.Saver() : 학습된 모델을 디스크로 저장 또는 불러오는 객체를 생성하는 함수\n",
    "saver = tf.train.Saver()\n",
    "with tf.Session() as sess:\n",
    "    sess.run(tf.global_variables_initializer())\n",
    "    saver.restore(sess, './dog.ckpt')\n",
    "    test=np.array(test, dtype=np.float64)\n",
    "#     print(sess.run(y, feed_dict = {X: test}))\n",
    "    result = sess.run(y, feed_dict = {X: test})\n",
    "    print(\"result:{}\".format(result[0]))"
   ]
  }
 ],
 "metadata": {
  "kernelspec": {
   "display_name": "Python 3",
   "language": "python",
   "name": "python3"
  },
  "language_info": {
   "codemirror_mode": {
    "name": "ipython",
    "version": 3
   },
   "file_extension": ".py",
   "mimetype": "text/x-python",
   "name": "python",
   "nbconvert_exporter": "python",
   "pygments_lexer": "ipython3",
   "version": "3.6.10"
  }
 },
 "nbformat": 4,
 "nbformat_minor": 4
}
