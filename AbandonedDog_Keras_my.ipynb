{
 "cells": [
  {
   "cell_type": "code",
   "execution_count": 67,
   "metadata": {},
   "outputs": [],
   "source": [
    "import tensorflow.compat.v1 as tf\n",
    "from tensorflow import feature_column\n",
    "from tensorflow.keras import layers\n",
    "tf.disable_v2_behavior()\n",
    "import numpy as np\n",
    "import pandas as pd\n",
    "import matplotlib.pyplot as plt\n",
    "\n",
    "from tensorflow import keras\n",
    "from tensorflow.keras.models import Sequential # 케라스의 Sequential()을 임포트\n",
    "from tensorflow.keras.layers import Dense # 케라스의 Dense()를 임포트\n",
    "from tensorflow.keras import optimizers # 케라스의 옵티마이저를 임포트\n",
    "\n",
    "%matplotlib inline"
   ]
  },
  {
   "cell_type": "code",
   "execution_count": 68,
   "metadata": {
    "scrolled": true
   },
   "outputs": [],
   "source": [
    "#데이터를 pandas를 이용해 읽어옵니다.\n",
    "dog_data=pd.read_csv(\"doginfo_mmy.csv\")\n",
    "kindCd=pd.read_csv(\"kindCd.csv\")\n",
    "\n",
    "#값이 없는 열 삭제\n",
    "dog_data = dog_data.dropna(axis=0)\n",
    "kindCd_data = kindCd.dropna(axis=0)"
   ]
  },
  {
   "cell_type": "code",
   "execution_count": 71,
   "metadata": {},
   "outputs": [],
   "source": [
    "#품종코드 데이터 numpy배열로 저장\n",
    "kindCd = np.array(kindCd_data, dtype = np.float64)\n",
    "\n",
    "kindCd = kindCd.reshape(177)"
   ]
  },
  {
   "cell_type": "code",
   "execution_count": 72,
   "metadata": {},
   "outputs": [],
   "source": [
    "# kindNum을 원핫 인코딩\n",
    "kindCd = pd.concat((pd.get_dummies(dog_data.kindNum, columns=kindCd), pd.DataFrame(columns=kindCd))).fillna(0)\n",
    "\n",
    "\n",
    "# 학습데이터에서 kindNum 열을 삭제한 후, 원핫 인코딩된 kindCd를 붙임\n",
    "dog_data.drop(['kindNum'], axis='columns', inplace=True)\n",
    "dog_data = pd.concat([dog_data, kindCd], axis=1)"
   ]
  },
  {
   "cell_type": "code",
   "execution_count": 62,
   "metadata": {},
   "outputs": [],
   "source": [
    "#더미변수-원-핫인코딩\n",
    "def dummy_data(data, columns):\n",
    "    for column in columns:\n",
    "        data = pd.concat([data, pd.get_dummies(data[column], prefix = column)], axis = 1)\n",
    "        data = data.drop(column, axis = 1)\n",
    "    return data"
   ]
  },
  {
   "cell_type": "code",
   "execution_count": 73,
   "metadata": {},
   "outputs": [
    {
     "name": "stdout",
     "output_type": "stream",
     "text": [
      "      weight  noticeDays  age2  processState  1.0  2.0  3.0  4.0  5.0  6.0  \\\n",
      "0       7.46          10    12             0    0    0    0    0    0    0   \n",
      "1       7.00          14     1             1    0    0    0    0    0    0   \n",
      "2       4.50          11     2             0    0    0    0    0    0    0   \n",
      "3      10.00           8     1             0    0    0    0    0    0    0   \n",
      "4       6.00           8     4             0    0    0    0    0    0    0   \n",
      "...      ...         ...   ...           ...  ...  ...  ...  ...  ...  ...   \n",
      "1994    0.98          10     0             1    0    0    0    0    0    0   \n",
      "1995    1.20          10     0             1    0    0    0    0    0    0   \n",
      "1996   50.00          10     3             1    0    0    0    0    0    0   \n",
      "1997    9.00          10     3             0    0    0    0    0    0    0   \n",
      "1998   12.50          10     3             0    0    0    0    0    0    0   \n",
      "\n",
      "      ...  208.0  209.0  210.0  211.0  neuterYn_N  neuterYn_U  neuterYn_Y  \\\n",
      "0     ...      0      0      0      0           1           0           0   \n",
      "1     ...      0      0      0      0           1           0           0   \n",
      "2     ...      0      0      0      0           0           1           0   \n",
      "3     ...      0      0      0      0           1           0           0   \n",
      "4     ...      0      0      0      0           1           0           0   \n",
      "...   ...    ...    ...    ...    ...         ...         ...         ...   \n",
      "1994  ...      0      0      0      0           1           0           0   \n",
      "1995  ...      0      0      0      0           1           0           0   \n",
      "1996  ...      0      0      0      0           1           0           0   \n",
      "1997  ...      0      0      0      0           0           1           0   \n",
      "1998  ...      0      0      0      0           1           0           0   \n",
      "\n",
      "      sexCd_F  sexCd_M  sexCd_Q  \n",
      "0           1        0        0  \n",
      "1           0        1        0  \n",
      "2           0        1        0  \n",
      "3           0        1        0  \n",
      "4           0        1        0  \n",
      "...       ...      ...      ...  \n",
      "1994        0        1        0  \n",
      "1995        1        0        0  \n",
      "1996        0        1        0  \n",
      "1997        1        0        0  \n",
      "1998        1        0        0  \n",
      "\n",
      "[1995 rows x 187 columns]\n",
      "1276 훈련 샘플\n",
      "320 검증 샘플\n",
      "399 테스트 샘플\n"
     ]
    }
   ],
   "source": [
    "#중성화여부, 성별 원-핫 인코딩\n",
    "dummy_columns = [\"neuterYn\", \"sexCd\"]\n",
    "data = dummy_data(dog_data, dummy_columns)\n",
    "print(data)\n",
    "\n",
    "data = np.array(data, dtype = np.float64)\n",
    "\n",
    "from sklearn.model_selection import train_test_split\n",
    "#훈련, 검증, 테스트 샘플로 데이터 나누기\n",
    "train, test = train_test_split(data, test_size=0.2)\n",
    "train, val = train_test_split(train, test_size=0.2)\n",
    "print(len(train), '훈련 샘플')\n",
    "print(len(val), '검증 샘플')\n",
    "print(len(test), '테스트 샘플')"
   ]
  },
  {
   "cell_type": "code",
   "execution_count": 74,
   "metadata": {},
   "outputs": [],
   "source": [
    "#numpy 배열에서 데이터 변화요인(kindCd, neuterYn, sexCd, weight, noticeDays, age2)으로 사용할 데이터를 뽑아냅니다.\n",
    "a = train[:, :3]\n",
    "b = train[:, 4:]\n",
    "xData = np.concatenate([a, b], axis = 1)\n",
    "\n",
    "a=test[:, :3]\n",
    "b=test[:, 4:]\n",
    "testX=np.concatenate([a, b], axis = 1)\n",
    "\n",
    "a=val[:, :3]\n",
    "b=val[:, 4:]\n",
    "valX=np.concatenate([a, b], axis = 1)\n"
   ]
  },
  {
   "cell_type": "code",
   "execution_count": 75,
   "metadata": {},
   "outputs": [
    {
     "name": "stdout",
     "output_type": "stream",
     "text": [
      "[[0.]\n",
      " [1.]\n",
      " [0.]\n",
      " ...\n",
      " [0.]\n",
      " [1.]\n",
      " [0.]]\n"
     ]
    },
    {
     "data": {
      "text/plain": [
       "dtype('float64')"
      ]
     },
     "execution_count": 75,
     "metadata": {},
     "output_type": "execute_result"
    }
   ],
   "source": [
    "#numpy배열에서 결과(입양여부)로 사용할 데이터를 뽑아냅니다.\n",
    "yData=train[:,[3]]\n",
    "testY=test[:,[3]]\n",
    "valY=val[:,[3]]\n",
    "\n",
    "print(yData)\n",
    "type(yData)\n",
    "yData.dtype"
   ]
  },
  {
   "cell_type": "code",
   "execution_count": 80,
   "metadata": {},
   "outputs": [
    {
     "name": "stdout",
     "output_type": "stream",
     "text": [
      "Train on 1276 samples, validate on 320 samples\n",
      "Epoch 1/50\n",
      "1276/1276 [==============================] - 3s 3ms/sample - loss: 0.9395 - acc: 0.5039 - binary_crossentropy: 0.7068 - val_loss: 0.7653 - val_acc: 0.6094 - val_binary_crossentropy: 0.6761\n",
      "Epoch 2/50\n",
      "1276/1276 [==============================] - 1s 948us/sample - loss: 0.7409 - acc: 0.5713 - binary_crossentropy: 0.6799 - val_loss: 0.7038 - val_acc: 0.6438 - val_binary_crossentropy: 0.6592\n",
      "Epoch 3/50\n",
      "1276/1276 [==============================] - 1s 978us/sample - loss: 0.7090 - acc: 0.6176 - binary_crossentropy: 0.6694 - val_loss: 0.6872 - val_acc: 0.6812 - val_binary_crossentropy: 0.6507\n",
      "Epoch 4/50\n",
      "1276/1276 [==============================] - 1s 856us/sample - loss: 0.6984 - acc: 0.6191 - binary_crossentropy: 0.6628 - val_loss: 0.6676 - val_acc: 0.6625 - val_binary_crossentropy: 0.6327\n",
      "Epoch 5/50\n",
      "1276/1276 [==============================] - 1s 1000us/sample - loss: 0.6872 - acc: 0.6379 - binary_crossentropy: 0.6514 - val_loss: 0.6605 - val_acc: 0.6750 - val_binary_crossentropy: 0.6236\n",
      "Epoch 6/50\n",
      "1276/1276 [==============================] - 1s 902us/sample - loss: 0.6741 - acc: 0.6520 - binary_crossentropy: 0.6348 - val_loss: 0.6643 - val_acc: 0.6875 - val_binary_crossentropy: 0.6245\n",
      "Epoch 7/50\n",
      "1276/1276 [==============================] - 1s 918us/sample - loss: 0.6702 - acc: 0.6434 - binary_crossentropy: 0.6292 - val_loss: 0.6530 - val_acc: 0.6906 - val_binary_crossentropy: 0.6120\n",
      "Epoch 8/50\n",
      "1276/1276 [==============================] - 1s 1ms/sample - loss: 0.6633 - acc: 0.6607 - binary_crossentropy: 0.6218 - val_loss: 0.6369 - val_acc: 0.7094 - val_binary_crossentropy: 0.5954\n",
      "Epoch 9/50\n",
      "1276/1276 [==============================] - 1s 1ms/sample - loss: 0.6580 - acc: 0.6669 - binary_crossentropy: 0.6153 - val_loss: 0.6500 - val_acc: 0.6938 - val_binary_crossentropy: 0.6078\n",
      "Epoch 10/50\n",
      "1276/1276 [==============================] - 1s 908us/sample - loss: 0.6533 - acc: 0.6732 - binary_crossentropy: 0.6109 - val_loss: 0.6396 - val_acc: 0.7125 - val_binary_crossentropy: 0.5970\n",
      "Epoch 11/50\n",
      "1276/1276 [==============================] - 1s 958us/sample - loss: 0.6531 - acc: 0.6669 - binary_crossentropy: 0.6109 - val_loss: 0.6331 - val_acc: 0.6781 - val_binary_crossentropy: 0.5902\n",
      "Epoch 12/50\n",
      "1276/1276 [==============================] - 1s 984us/sample - loss: 0.6482 - acc: 0.6779 - binary_crossentropy: 0.6059 - val_loss: 0.6231 - val_acc: 0.7063 - val_binary_crossentropy: 0.5803\n",
      "Epoch 13/50\n",
      "1276/1276 [==============================] - 1s 1ms/sample - loss: 0.6511 - acc: 0.6661 - binary_crossentropy: 0.6092 - val_loss: 0.6193 - val_acc: 0.6750 - val_binary_crossentropy: 0.5775\n",
      "Epoch 14/50\n",
      "1276/1276 [==============================] - 1s 1ms/sample - loss: 0.6451 - acc: 0.6771 - binary_crossentropy: 0.6037 - val_loss: 0.6211 - val_acc: 0.6687 - val_binary_crossentropy: 0.5789\n",
      "Epoch 15/50\n",
      "1276/1276 [==============================] - 1s 967us/sample - loss: 0.6465 - acc: 0.6701 - binary_crossentropy: 0.6039 - val_loss: 0.6244 - val_acc: 0.7000 - val_binary_crossentropy: 0.5829\n",
      "Epoch 16/50\n",
      "1276/1276 [==============================] - 2s 1ms/sample - loss: 0.6416 - acc: 0.6826 - binary_crossentropy: 0.6004 - val_loss: 0.6190 - val_acc: 0.6625 - val_binary_crossentropy: 0.5780\n",
      "Epoch 17/50\n",
      "1276/1276 [==============================] - 1s 1ms/sample - loss: 0.6407 - acc: 0.6897 - binary_crossentropy: 0.5992 - val_loss: 0.6138 - val_acc: 0.6906 - val_binary_crossentropy: 0.5728\n",
      "Epoch 18/50\n",
      "1276/1276 [==============================] - 1s 1ms/sample - loss: 0.6395 - acc: 0.6857 - binary_crossentropy: 0.5991 - val_loss: 0.6217 - val_acc: 0.6750 - val_binary_crossentropy: 0.5812\n",
      "Epoch 19/50\n",
      "1276/1276 [==============================] - 1s 1ms/sample - loss: 0.6397 - acc: 0.6787 - binary_crossentropy: 0.5994 - val_loss: 0.6163 - val_acc: 0.7031 - val_binary_crossentropy: 0.5765\n",
      "Epoch 20/50\n",
      "1276/1276 [==============================] - 1s 814us/sample - loss: 0.6355 - acc: 0.6818 - binary_crossentropy: 0.5949 - val_loss: 0.6161 - val_acc: 0.7031 - val_binary_crossentropy: 0.5769\n",
      "Epoch 21/50\n",
      "1276/1276 [==============================] - 1s 1ms/sample - loss: 0.6411 - acc: 0.6771 - binary_crossentropy: 0.6014 - val_loss: 0.6202 - val_acc: 0.6938 - val_binary_crossentropy: 0.5804\n",
      "Epoch 22/50\n",
      "1276/1276 [==============================] - 1s 981us/sample - loss: 0.6349 - acc: 0.6912 - binary_crossentropy: 0.5948 - val_loss: 0.6186 - val_acc: 0.7031 - val_binary_crossentropy: 0.5807\n",
      "Epoch 23/50\n",
      "1276/1276 [==============================] - 1s 810us/sample - loss: 0.6347 - acc: 0.6803 - binary_crossentropy: 0.5969 - val_loss: 0.6163 - val_acc: 0.6969 - val_binary_crossentropy: 0.5779\n",
      "Epoch 24/50\n",
      "1276/1276 [==============================] - 1s 972us/sample - loss: 0.6341 - acc: 0.6889 - binary_crossentropy: 0.5952 - val_loss: 0.6305 - val_acc: 0.6938 - val_binary_crossentropy: 0.5928\n",
      "Epoch 25/50\n",
      "1276/1276 [==============================] - 1s 1ms/sample - loss: 0.6334 - acc: 0.6787 - binary_crossentropy: 0.5964 - val_loss: 0.6092 - val_acc: 0.7094 - val_binary_crossentropy: 0.5714\n",
      "Epoch 26/50\n",
      "1276/1276 [==============================] - 1s 966us/sample - loss: 0.6326 - acc: 0.6787 - binary_crossentropy: 0.5947 - val_loss: 0.6106 - val_acc: 0.7031 - val_binary_crossentropy: 0.5727\n",
      "Epoch 27/50\n",
      "1276/1276 [==============================] - 1s 802us/sample - loss: 0.6333 - acc: 0.6897 - binary_crossentropy: 0.5958 - val_loss: 0.6085 - val_acc: 0.6906 - val_binary_crossentropy: 0.5711\n",
      "Epoch 28/50\n",
      "1276/1276 [==============================] - 1s 1ms/sample - loss: 0.6325 - acc: 0.6920 - binary_crossentropy: 0.5955 - val_loss: 0.6156 - val_acc: 0.7000 - val_binary_crossentropy: 0.5776\n",
      "Epoch 29/50\n",
      "1276/1276 [==============================] - 1s 1ms/sample - loss: 0.6321 - acc: 0.6912 - binary_crossentropy: 0.5946 - val_loss: 0.6273 - val_acc: 0.6656 - val_binary_crossentropy: 0.5898\n",
      "Epoch 30/50\n",
      "1276/1276 [==============================] - 1s 1ms/sample - loss: 0.6285 - acc: 0.6991 - binary_crossentropy: 0.5910 - val_loss: 0.6135 - val_acc: 0.6750 - val_binary_crossentropy: 0.5765\n",
      "Epoch 31/50\n",
      "1276/1276 [==============================] - 1s 1ms/sample - loss: 0.6328 - acc: 0.6850 - binary_crossentropy: 0.5967 - val_loss: 0.6192 - val_acc: 0.6844 - val_binary_crossentropy: 0.5825\n",
      "Epoch 32/50\n",
      "1276/1276 [==============================] - 2s 1ms/sample - loss: 0.6298 - acc: 0.6810 - binary_crossentropy: 0.5930 - val_loss: 0.6104 - val_acc: 0.6938 - val_binary_crossentropy: 0.5748\n",
      "Epoch 33/50\n",
      "1276/1276 [==============================] - 1s 1ms/sample - loss: 0.6286 - acc: 0.6881 - binary_crossentropy: 0.5926 - val_loss: 0.6145 - val_acc: 0.6781 - val_binary_crossentropy: 0.5793\n",
      "Epoch 34/50\n",
      "1276/1276 [==============================] - 1s 772us/sample - loss: 0.6284 - acc: 0.6889 - binary_crossentropy: 0.5926 - val_loss: 0.6220 - val_acc: 0.7094 - val_binary_crossentropy: 0.5871\n",
      "Epoch 35/50\n",
      "1276/1276 [==============================] - 1s 811us/sample - loss: 0.6285 - acc: 0.6881 - binary_crossentropy: 0.5938 - val_loss: 0.6244 - val_acc: 0.7125 - val_binary_crossentropy: 0.5895\n",
      "Epoch 36/50\n",
      "1276/1276 [==============================] - 1s 784us/sample - loss: 0.6308 - acc: 0.6795 - binary_crossentropy: 0.5961 - val_loss: 0.6146 - val_acc: 0.6719 - val_binary_crossentropy: 0.5807\n",
      "Epoch 37/50\n",
      "1276/1276 [==============================] - 1s 889us/sample - loss: 0.6246 - acc: 0.7014 - binary_crossentropy: 0.5906 - val_loss: 0.6222 - val_acc: 0.7125 - val_binary_crossentropy: 0.5881\n",
      "Epoch 38/50\n",
      "1276/1276 [==============================] - 1s 829us/sample - loss: 0.6247 - acc: 0.6803 - binary_crossentropy: 0.5907 - val_loss: 0.6066 - val_acc: 0.6687 - val_binary_crossentropy: 0.5731\n",
      "Epoch 39/50\n",
      "1276/1276 [==============================] - 1s 860us/sample - loss: 0.6212 - acc: 0.6897 - binary_crossentropy: 0.5874 - val_loss: 0.6259 - val_acc: 0.6625 - val_binary_crossentropy: 0.5925\n",
      "Epoch 40/50\n",
      "1276/1276 [==============================] - 1s 989us/sample - loss: 0.6263 - acc: 0.6936 - binary_crossentropy: 0.5931 - val_loss: 0.6018 - val_acc: 0.6750 - val_binary_crossentropy: 0.5691\n",
      "Epoch 41/50\n"
     ]
    },
    {
     "name": "stdout",
     "output_type": "stream",
     "text": [
      "1276/1276 [==============================] - 1s 824us/sample - loss: 0.6255 - acc: 0.6857 - binary_crossentropy: 0.5923 - val_loss: 0.6053 - val_acc: 0.7031 - val_binary_crossentropy: 0.5721\n",
      "Epoch 42/50\n",
      "1276/1276 [==============================] - 1s 864us/sample - loss: 0.6230 - acc: 0.6975 - binary_crossentropy: 0.5897 - val_loss: 0.6070 - val_acc: 0.6812 - val_binary_crossentropy: 0.5743\n",
      "Epoch 43/50\n",
      "1276/1276 [==============================] - 1s 1ms/sample - loss: 0.6225 - acc: 0.6920 - binary_crossentropy: 0.5896 - val_loss: 0.6065 - val_acc: 0.7000 - val_binary_crossentropy: 0.5735\n",
      "Epoch 44/50\n",
      "1276/1276 [==============================] - 1s 882us/sample - loss: 0.6231 - acc: 0.6936 - binary_crossentropy: 0.5895 - val_loss: 0.6153 - val_acc: 0.7125 - val_binary_crossentropy: 0.5828\n",
      "Epoch 45/50\n",
      "1276/1276 [==============================] - 1s 796us/sample - loss: 0.6229 - acc: 0.6889 - binary_crossentropy: 0.5904 - val_loss: 0.6021 - val_acc: 0.7125 - val_binary_crossentropy: 0.5698\n",
      "Epoch 46/50\n",
      "1276/1276 [==============================] - 1s 834us/sample - loss: 0.6205 - acc: 0.6857 - binary_crossentropy: 0.5883 - val_loss: 0.6031 - val_acc: 0.6906 - val_binary_crossentropy: 0.5713\n",
      "Epoch 47/50\n",
      "1276/1276 [==============================] - 1s 838us/sample - loss: 0.6185 - acc: 0.6944 - binary_crossentropy: 0.5866 - val_loss: 0.6498 - val_acc: 0.6687 - val_binary_crossentropy: 0.6174\n",
      "Epoch 48/50\n",
      "1276/1276 [==============================] - 1s 863us/sample - loss: 0.6236 - acc: 0.6967 - binary_crossentropy: 0.5911 - val_loss: 0.6254 - val_acc: 0.6938 - val_binary_crossentropy: 0.5933\n",
      "Epoch 49/50\n",
      "1276/1276 [==============================] - 1s 849us/sample - loss: 0.6203 - acc: 0.6936 - binary_crossentropy: 0.5880 - val_loss: 0.6072 - val_acc: 0.6969 - val_binary_crossentropy: 0.5760\n",
      "Epoch 50/50\n",
      "1276/1276 [==============================] - 1s 916us/sample - loss: 0.6207 - acc: 0.6912 - binary_crossentropy: 0.5894 - val_loss: 0.6177 - val_acc: 0.7000 - val_binary_crossentropy: 0.5863\n",
      "train, loss and metric: [0.6268114475976854, 0.6716792, 0.59543633]\n"
     ]
    },
    {
     "data": {
      "image/png": "[encoded data removed]",
      "text/plain": [
       "<Figure size 432x288 with 1 Axes>"
      ]
     },
     "metadata": {
      "needs_background": "light"
     },
     "output_type": "display_data"
    },
    {
     "data": {
      "image/png": "[encoded data removed]",
      "text/plain": [
       "<Figure size 432x288 with 1 Axes>"
      ]
     },
     "metadata": {
      "needs_background": "light"
     },
     "output_type": "display_data"
    }
   ],
   "source": [
    "# L2규제\n",
    "l2_model = keras.models.Sequential([\n",
    "    keras.layers.Dense(16, kernel_regularizer=keras.regularizers.l2(0.01),\n",
    "                       activation=tf.nn.relu, input_shape=(186,)),\n",
    "    keras.layers.Dense(16, kernel_regularizer=keras.regularizers.l2(0.01),\n",
    "                       activation=tf.nn.relu, input_shape=(186,)),\n",
    "    keras.layers.Dense(16, kernel_regularizer=keras.regularizers.l2(0.01),\n",
    "                       activation=tf.nn.relu),\n",
    "    keras.layers.Dense(1, activation=tf.nn.sigmoid)\n",
    "])\n",
    "\n",
    "Nadam = optimizers.Nadam(lr=0.002, beta_1=0.9, beta_2=0.999, epsilon=None, schedule_decay=0.004)\n",
    "\n",
    "l2_model.compile(optimizer='Nadam',\n",
    "                 loss='binary_crossentropy',\n",
    "                 metrics=['accuracy', 'binary_crossentropy'])\n",
    "\n",
    "l2_model_history = l2_model.fit(xData, yData,\n",
    "                                epochs=50,\n",
    "                                batch_size=5,\n",
    "                                validation_data=(valX, valY),\n",
    "                                verbose=1)\n",
    "\n",
    "loss_and_metric = l2_model.evaluate(testX, testY, batch_size=10, verbose=0)\n",
    "print(\"train, loss and metric: {}\".format(loss_and_metric))\n",
    "\n",
    "#정확도 그래프\n",
    "plt.plot(l2_model_history.history['acc'])\n",
    "plt.plot(l2_model_history.history['val_acc'])\n",
    "plt.title('model accuracy')\n",
    "plt.ylabel('accuracy')\n",
    "plt.xlabel('epoch')\n",
    "plt.legend(['train', 'test'], loc='upper left')\n",
    "plt.show()\n",
    "#손실 그래프\n",
    "plt.plot(l2_model_history.history['loss'])\n",
    "plt.plot(l2_model_history.history['val_loss'])\n",
    "plt.title('model loss')\n",
    "plt.ylabel('loss')\n",
    "plt.xlabel('epoch')\n",
    "plt.legend(['train', 'test'], loc='upper left')\n",
    "plt.show()\n",
    "\n",
    "# l2_model.save('l2_model_Nadam')\n"
   ]
  }
 ],
 "metadata": {
  "kernelspec": {
   "display_name": "Python 3",
   "language": "python",
   "name": "python3"
  },
  "language_info": {
   "codemirror_mode": {
    "name": "ipython",
    "version": 3
   },
   "file_extension": ".py",
   "mimetype": "text/x-python",
   "name": "python",
   "nbconvert_exporter": "python",
   "pygments_lexer": "ipython3",
   "version": "3.6.10"
  }
 },
 "nbformat": 4,
 "nbformat_minor": 4
}
