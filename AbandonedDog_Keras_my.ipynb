{
 "cells": [
  {
   "cell_type": "code",
   "execution_count": 134,
   "metadata": {},
   "outputs": [],
   "source": [
    "import tensorflow.compat.v1 as tf\n",
    "from tensorflow import feature_column\n",
    "from tensorflow.keras import layers\n",
    "tf.disable_v2_behavior()\n",
    "import numpy as np\n",
    "import pandas as pd\n",
    "import matplotlib.pyplot as plt\n",
    "\n",
    "from tensorflow import keras\n",
    "from tensorflow.keras.models import Sequential # 케라스의 Sequential()을 임포트\n",
    "from tensorflow.keras.layers import Dense # 케라스의 Dense()를 임포트\n",
    "from tensorflow.keras import optimizers # 케라스의 옵티마이저를 임포트\n",
    "\n",
    "%matplotlib inline"
   ]
  },
  {
   "cell_type": "code",
   "execution_count": 135,
   "metadata": {
    "scrolled": true
   },
   "outputs": [],
   "source": [
    "#데이터를 pandas를 이용해 읽어옵니다.\n",
    "dog_data=pd.read_csv(\"doginfo_mmy.csv\")\n",
    "kindCd=pd.read_csv(\"kindCd.csv\")\n",
    "\n",
    "#값이 없는 열 삭제\n",
    "dog_data = dog_data.dropna(axis=0)\n",
    "kindCd_data = kindCd.dropna(axis=0)"
   ]
  },
  {
   "cell_type": "code",
   "execution_count": 136,
   "metadata": {},
   "outputs": [],
   "source": [
    "#품종코드 데이터 numpy배열로 저장\n",
    "kindCd = np.array(kindCd_data, dtype = np.float64)\n",
    "\n",
    "kindCd = kindCd.reshape(177)"
   ]
  },
  {
   "cell_type": "code",
   "execution_count": 137,
   "metadata": {},
   "outputs": [],
   "source": [
    "# kindNum을 원핫 인코딩\n",
    "kindCd = pd.concat((pd.get_dummies(dog_data.kindNum, columns=kindCd), pd.DataFrame(columns=kindCd))).fillna(0)\n",
    "\n",
    "\n",
    "# 학습데이터에서 kindNum 열을 삭제한 후, 원핫 인코딩된 kindCd를 붙임\n",
    "dog_data.drop(['kindNum'], axis='columns', inplace=True)\n",
    "dog_data = pd.concat([dog_data, kindCd], axis=1)"
   ]
  },
  {
   "cell_type": "code",
   "execution_count": 138,
   "metadata": {},
   "outputs": [],
   "source": [
    "#더미변수-원-핫인코딩\n",
    "def dummy_data(data, columns):\n",
    "    for column in columns:\n",
    "        data = pd.concat([data, pd.get_dummies(data[column], prefix = column)], axis = 1)\n",
    "        data = data.drop(column, axis = 1)\n",
    "    return data"
   ]
  },
  {
   "cell_type": "code",
   "execution_count": 139,
   "metadata": {},
   "outputs": [
    {
     "name": "stdout",
     "output_type": "stream",
     "text": [
      "      weight  noticeDays  age2  processState  1.0  2.0  3.0  4.0  5.0  6.0  \\\n",
      "0       7.46          10    12             0    0    0    0    0    0    0   \n",
      "1       7.00          14     1             1    0    0    0    0    0    0   \n",
      "2       4.50          11     2             0    0    0    0    0    0    0   \n",
      "3      10.00           8     1             0    0    0    0    0    0    0   \n",
      "4       6.00           8     4             0    0    0    0    0    0    0   \n",
      "...      ...         ...   ...           ...  ...  ...  ...  ...  ...  ...   \n",
      "1994    0.98          10     0             1    0    0    0    0    0    0   \n",
      "1995    1.20          10     0             1    0    0    0    0    0    0   \n",
      "1996   50.00          10     3             1    0    0    0    0    0    0   \n",
      "1997    9.00          10     3             0    0    0    0    0    0    0   \n",
      "1998   12.50          10     3             0    0    0    0    0    0    0   \n",
      "\n",
      "      ...  208.0  209.0  210.0  211.0  neuterYn_N  neuterYn_U  neuterYn_Y  \\\n",
      "0     ...      0      0      0      0           1           0           0   \n",
      "1     ...      0      0      0      0           1           0           0   \n",
      "2     ...      0      0      0      0           0           1           0   \n",
      "3     ...      0      0      0      0           1           0           0   \n",
      "4     ...      0      0      0      0           1           0           0   \n",
      "...   ...    ...    ...    ...    ...         ...         ...         ...   \n",
      "1994  ...      0      0      0      0           1           0           0   \n",
      "1995  ...      0      0      0      0           1           0           0   \n",
      "1996  ...      0      0      0      0           1           0           0   \n",
      "1997  ...      0      0      0      0           0           1           0   \n",
      "1998  ...      0      0      0      0           1           0           0   \n",
      "\n",
      "      sexCd_F  sexCd_M  sexCd_Q  \n",
      "0           1        0        0  \n",
      "1           0        1        0  \n",
      "2           0        1        0  \n",
      "3           0        1        0  \n",
      "4           0        1        0  \n",
      "...       ...      ...      ...  \n",
      "1994        0        1        0  \n",
      "1995        1        0        0  \n",
      "1996        0        1        0  \n",
      "1997        1        0        0  \n",
      "1998        1        0        0  \n",
      "\n",
      "[1995 rows x 187 columns]\n",
      "1276 훈련 샘플\n",
      "320 검증 샘플\n",
      "399 테스트 샘플\n"
     ]
    }
   ],
   "source": [
    "#중성화여부, 성별 원-핫 인코딩\n",
    "dummy_columns = [\"neuterYn\", \"sexCd\"]\n",
    "data = dummy_data(dog_data, dummy_columns)\n",
    "print(data)\n",
    "\n",
    "data = np.array(data, dtype = np.float64)\n",
    "\n",
    "from sklearn.model_selection import train_test_split\n",
    "#훈련, 검증, 테스트 샘플로 데이터 나누기\n",
    "train, test = train_test_split(data, test_size=0.2)\n",
    "train, val = train_test_split(train, test_size=0.2)\n",
    "print(len(train), '훈련 샘플')\n",
    "print(len(val), '검증 샘플')\n",
    "print(len(test), '테스트 샘플')"
   ]
  },
  {
   "cell_type": "code",
   "execution_count": 140,
   "metadata": {},
   "outputs": [],
   "source": [
    "#numpy 배열에서 데이터 변화요인(kindCd, neuterYn, sexCd, weight, noticeDays, age2)으로 사용할 데이터를 뽑아냅니다.\n",
    "a = train[:, :3]\n",
    "b = train[:, 4:]\n",
    "xData = np.concatenate([a, b], axis = 1)\n",
    "\n",
    "a=test[:, :3]\n",
    "b=test[:, 4:]\n",
    "testX=np.concatenate([a, b], axis = 1)\n",
    "\n",
    "a=val[:, :3]\n",
    "b=val[:, 4:]\n",
    "valX=np.concatenate([a, b], axis = 1)\n"
   ]
  },
  {
   "cell_type": "code",
   "execution_count": 141,
   "metadata": {},
   "outputs": [
    {
     "name": "stdout",
     "output_type": "stream",
     "text": [
      "[[0.]\n",
      " [0.]\n",
      " [0.]\n",
      " ...\n",
      " [1.]\n",
      " [1.]\n",
      " [1.]]\n"
     ]
    },
    {
     "data": {
      "text/plain": [
       "dtype('float64')"
      ]
     },
     "execution_count": 141,
     "metadata": {},
     "output_type": "execute_result"
    }
   ],
   "source": [
    "#numpy배열에서 결과(입양여부)로 사용할 데이터를 뽑아냅니다.\n",
    "yData=train[:,[3]]\n",
    "testY=test[:,[3]]\n",
    "valY=val[:,[3]]\n",
    "\n",
    "print(yData)\n",
    "type(yData)\n",
    "yData.dtype"
   ]
  },
  {
   "cell_type": "code",
   "execution_count": 142,
   "metadata": {},
   "outputs": [
    {
     "name": "stdout",
     "output_type": "stream",
     "text": [
      "Train on 1276 samples, validate on 320 samples\n",
      "Epoch 1/50\n",
      "1276/1276 [==============================] - 3s 3ms/sample - loss: 0.9487 - acc: 0.5815 - binary_crossentropy: 0.6773 - val_loss: 0.7899 - val_acc: 0.5813 - val_binary_crossentropy: 0.6698\n",
      "Epoch 2/50\n",
      "1276/1276 [==============================] - 1s 1ms/sample - loss: 0.7515 - acc: 0.6097 - binary_crossentropy: 0.6661 - val_loss: 0.7253 - val_acc: 0.6219 - val_binary_crossentropy: 0.6610\n",
      "Epoch 3/50\n",
      "1276/1276 [==============================] - 1s 837us/sample - loss: 0.7135 - acc: 0.6199 - binary_crossentropy: 0.6577 - val_loss: 0.7034 - val_acc: 0.6562 - val_binary_crossentropy: 0.6543\n",
      "Epoch 4/50\n",
      "1276/1276 [==============================] - 1s 849us/sample - loss: 0.6978 - acc: 0.6411 - binary_crossentropy: 0.6508 - val_loss: 0.7011 - val_acc: 0.6000 - val_binary_crossentropy: 0.6570\n",
      "Epoch 5/50\n",
      "1276/1276 [==============================] - 2s 1ms/sample - loss: 0.6853 - acc: 0.6513 - binary_crossentropy: 0.6417 - val_loss: 0.6741 - val_acc: 0.6625 - val_binary_crossentropy: 0.6313\n",
      "Epoch 6/50\n",
      "1276/1276 [==============================] - 1s 1ms/sample - loss: 0.6757 - acc: 0.6411 - binary_crossentropy: 0.6331 - val_loss: 0.6691 - val_acc: 0.6500 - val_binary_crossentropy: 0.6261\n",
      "Epoch 7/50\n",
      "1276/1276 [==============================] - 2s 1ms/sample - loss: 0.6709 - acc: 0.6513 - binary_crossentropy: 0.6268 - val_loss: 0.6535 - val_acc: 0.6500 - val_binary_crossentropy: 0.6094\n",
      "Epoch 8/50\n",
      "1276/1276 [==============================] - 1s 854us/sample - loss: 0.6619 - acc: 0.6622 - binary_crossentropy: 0.6170 - val_loss: 0.6445 - val_acc: 0.6469 - val_binary_crossentropy: 0.5995\n",
      "Epoch 9/50\n",
      "1276/1276 [==============================] - 1s 921us/sample - loss: 0.6545 - acc: 0.6732 - binary_crossentropy: 0.6092 - val_loss: 0.6869 - val_acc: 0.6062 - val_binary_crossentropy: 0.6420\n",
      "Epoch 10/50\n",
      "1276/1276 [==============================] - 1s 1ms/sample - loss: 0.6534 - acc: 0.6740 - binary_crossentropy: 0.6087 - val_loss: 0.6311 - val_acc: 0.6656 - val_binary_crossentropy: 0.5862\n",
      "Epoch 11/50\n",
      "1276/1276 [==============================] - 1s 970us/sample - loss: 0.6505 - acc: 0.6693 - binary_crossentropy: 0.6057 - val_loss: 0.6320 - val_acc: 0.6969 - val_binary_crossentropy: 0.5876\n",
      "Epoch 12/50\n",
      "1276/1276 [==============================] - 1s 1ms/sample - loss: 0.6466 - acc: 0.6795 - binary_crossentropy: 0.6022 - val_loss: 0.6335 - val_acc: 0.6938 - val_binary_crossentropy: 0.5895\n",
      "Epoch 13/50\n",
      "1276/1276 [==============================] - 1s 903us/sample - loss: 0.6456 - acc: 0.6693 - binary_crossentropy: 0.6017 - val_loss: 0.6394 - val_acc: 0.6781 - val_binary_crossentropy: 0.5963\n",
      "Epoch 14/50\n",
      "1276/1276 [==============================] - 1s 966us/sample - loss: 0.6409 - acc: 0.6787 - binary_crossentropy: 0.5976 - val_loss: 0.6181 - val_acc: 0.6938 - val_binary_crossentropy: 0.5753\n",
      "Epoch 15/50\n",
      "1276/1276 [==============================] - 1s 1ms/sample - loss: 0.6407 - acc: 0.6771 - binary_crossentropy: 0.5983 - val_loss: 0.6154 - val_acc: 0.7125 - val_binary_crossentropy: 0.5737\n",
      "Epoch 16/50\n",
      "1276/1276 [==============================] - 1s 1ms/sample - loss: 0.6386 - acc: 0.6857 - binary_crossentropy: 0.5968 - val_loss: 0.6726 - val_acc: 0.6313 - val_binary_crossentropy: 0.6318\n",
      "Epoch 17/50\n",
      "1276/1276 [==============================] - 2s 1ms/sample - loss: 0.6442 - acc: 0.6803 - binary_crossentropy: 0.6033 - val_loss: 0.6155 - val_acc: 0.6906 - val_binary_crossentropy: 0.5752\n",
      "Epoch 18/50\n",
      "1276/1276 [==============================] - 1s 1ms/sample - loss: 0.6349 - acc: 0.6873 - binary_crossentropy: 0.5945 - val_loss: 0.6111 - val_acc: 0.7156 - val_binary_crossentropy: 0.5705\n",
      "Epoch 19/50\n",
      "1276/1276 [==============================] - 1s 1ms/sample - loss: 0.6373 - acc: 0.6748 - binary_crossentropy: 0.5972 - val_loss: 0.6092 - val_acc: 0.7250 - val_binary_crossentropy: 0.5694\n",
      "Epoch 20/50\n",
      "1276/1276 [==============================] - 1s 952us/sample - loss: 0.6335 - acc: 0.6834 - binary_crossentropy: 0.5932 - val_loss: 0.6080 - val_acc: 0.7063 - val_binary_crossentropy: 0.5685\n",
      "Epoch 21/50\n",
      "1276/1276 [==============================] - 1s 1ms/sample - loss: 0.6351 - acc: 0.6842 - binary_crossentropy: 0.5955 - val_loss: 0.6064 - val_acc: 0.7125 - val_binary_crossentropy: 0.5668\n",
      "Epoch 22/50\n",
      "1276/1276 [==============================] - 2s 1ms/sample - loss: 0.6333 - acc: 0.6771 - binary_crossentropy: 0.5941 - val_loss: 0.6059 - val_acc: 0.7156 - val_binary_crossentropy: 0.5666\n",
      "Epoch 23/50\n",
      "1276/1276 [==============================] - 1s 878us/sample - loss: 0.6307 - acc: 0.6779 - binary_crossentropy: 0.5906 - val_loss: 0.6041 - val_acc: 0.7188 - val_binary_crossentropy: 0.5657\n",
      "Epoch 24/50\n",
      "1276/1276 [==============================] - 1s 1ms/sample - loss: 0.6323 - acc: 0.6795 - binary_crossentropy: 0.5935 - val_loss: 0.6023 - val_acc: 0.7219 - val_binary_crossentropy: 0.5643\n",
      "Epoch 25/50\n",
      "1276/1276 [==============================] - 1s 885us/sample - loss: 0.6313 - acc: 0.6842 - binary_crossentropy: 0.5933 - val_loss: 0.6113 - val_acc: 0.6875 - val_binary_crossentropy: 0.5737\n",
      "Epoch 26/50\n",
      "1276/1276 [==============================] - 1s 947us/sample - loss: 0.6289 - acc: 0.6803 - binary_crossentropy: 0.5914 - val_loss: 0.6132 - val_acc: 0.7188 - val_binary_crossentropy: 0.5757\n",
      "Epoch 27/50\n",
      "1276/1276 [==============================] - 2s 1ms/sample - loss: 0.6326 - acc: 0.6677 - binary_crossentropy: 0.5951 - val_loss: 0.5993 - val_acc: 0.7344 - val_binary_crossentropy: 0.5624\n",
      "Epoch 28/50\n",
      "1276/1276 [==============================] - 1s 899us/sample - loss: 0.6283 - acc: 0.6803 - binary_crossentropy: 0.5915 - val_loss: 0.6030 - val_acc: 0.7156 - val_binary_crossentropy: 0.5657\n",
      "Epoch 29/50\n",
      "1276/1276 [==============================] - 1s 1ms/sample - loss: 0.6274 - acc: 0.6881 - binary_crossentropy: 0.5898 - val_loss: 0.6028 - val_acc: 0.7125 - val_binary_crossentropy: 0.5662\n",
      "Epoch 30/50\n",
      "1276/1276 [==============================] - 1s 1ms/sample - loss: 0.6280 - acc: 0.6897 - binary_crossentropy: 0.5914 - val_loss: 0.5973 - val_acc: 0.7219 - val_binary_crossentropy: 0.5609\n",
      "Epoch 31/50\n",
      "1276/1276 [==============================] - 1s 1ms/sample - loss: 0.6263 - acc: 0.6904 - binary_crossentropy: 0.5898 - val_loss: 0.6184 - val_acc: 0.6812 - val_binary_crossentropy: 0.5827\n",
      "Epoch 32/50\n",
      "1276/1276 [==============================] - 1s 1ms/sample - loss: 0.6247 - acc: 0.6889 - binary_crossentropy: 0.5887 - val_loss: 0.5917 - val_acc: 0.7375 - val_binary_crossentropy: 0.5554\n",
      "Epoch 33/50\n",
      "1276/1276 [==============================] - 1s 947us/sample - loss: 0.6257 - acc: 0.6881 - binary_crossentropy: 0.5891 - val_loss: 0.6050 - val_acc: 0.7188 - val_binary_crossentropy: 0.5689\n",
      "Epoch 34/50\n",
      "1276/1276 [==============================] - 1s 1ms/sample - loss: 0.6246 - acc: 0.6912 - binary_crossentropy: 0.5889 - val_loss: 0.5917 - val_acc: 0.7375 - val_binary_crossentropy: 0.5562\n",
      "Epoch 35/50\n",
      "1276/1276 [==============================] - 1s 850us/sample - loss: 0.6213 - acc: 0.6818 - binary_crossentropy: 0.5853 - val_loss: 0.5967 - val_acc: 0.7188 - val_binary_crossentropy: 0.5616\n",
      "Epoch 36/50\n",
      "1276/1276 [==============================] - 1s 1ms/sample - loss: 0.6237 - acc: 0.6873 - binary_crossentropy: 0.5887 - val_loss: 0.6020 - val_acc: 0.7094 - val_binary_crossentropy: 0.5676\n",
      "Epoch 37/50\n",
      "1276/1276 [==============================] - 2s 1ms/sample - loss: 0.6230 - acc: 0.6842 - binary_crossentropy: 0.5886 - val_loss: 0.6296 - val_acc: 0.6781 - val_binary_crossentropy: 0.5952\n",
      "Epoch 38/50\n",
      "1276/1276 [==============================] - 1s 896us/sample - loss: 0.6250 - acc: 0.6850 - binary_crossentropy: 0.5904 - val_loss: 0.5916 - val_acc: 0.7281 - val_binary_crossentropy: 0.5573\n",
      "Epoch 39/50\n",
      "1276/1276 [==============================] - 1s 1ms/sample - loss: 0.6198 - acc: 0.6944 - binary_crossentropy: 0.5850 - val_loss: 0.5889 - val_acc: 0.7437 - val_binary_crossentropy: 0.5546\n",
      "Epoch 40/50\n",
      "1276/1276 [==============================] - 1s 857us/sample - loss: 0.6223 - acc: 0.6795 - binary_crossentropy: 0.5883 - val_loss: 0.5873 - val_acc: 0.7312 - val_binary_crossentropy: 0.5539\n",
      "Epoch 41/50\n"
     ]
    },
    {
     "name": "stdout",
     "output_type": "stream",
     "text": [
      "1276/1276 [==============================] - 1s 962us/sample - loss: 0.6198 - acc: 0.7030 - binary_crossentropy: 0.5866 - val_loss: 0.5917 - val_acc: 0.7250 - val_binary_crossentropy: 0.5583\n",
      "Epoch 42/50\n",
      "1276/1276 [==============================] - 2s 1ms/sample - loss: 0.6226 - acc: 0.6951 - binary_crossentropy: 0.5898 - val_loss: 0.5855 - val_acc: 0.7344 - val_binary_crossentropy: 0.5520\n",
      "Epoch 43/50\n",
      "1276/1276 [==============================] - 1s 999us/sample - loss: 0.6210 - acc: 0.6810 - binary_crossentropy: 0.5870 - val_loss: 0.6547 - val_acc: 0.6125 - val_binary_crossentropy: 0.6217\n",
      "Epoch 44/50\n",
      "1276/1276 [==============================] - 1s 914us/sample - loss: 0.6255 - acc: 0.6881 - binary_crossentropy: 0.5929 - val_loss: 0.5876 - val_acc: 0.7281 - val_binary_crossentropy: 0.5552\n",
      "Epoch 45/50\n",
      "1276/1276 [==============================] - 1s 850us/sample - loss: 0.6183 - acc: 0.6865 - binary_crossentropy: 0.5855 - val_loss: 0.5882 - val_acc: 0.7156 - val_binary_crossentropy: 0.5555\n",
      "Epoch 46/50\n",
      "1276/1276 [==============================] - 1s 838us/sample - loss: 0.6183 - acc: 0.6951 - binary_crossentropy: 0.5858 - val_loss: 0.5844 - val_acc: 0.7375 - val_binary_crossentropy: 0.5520\n",
      "Epoch 47/50\n",
      "1276/1276 [==============================] - 2s 1ms/sample - loss: 0.6187 - acc: 0.6920 - binary_crossentropy: 0.5862 - val_loss: 0.5859 - val_acc: 0.7250 - val_binary_crossentropy: 0.5540\n",
      "Epoch 48/50\n",
      "1276/1276 [==============================] - 1s 1ms/sample - loss: 0.6209 - acc: 0.6826 - binary_crossentropy: 0.5886 - val_loss: 0.5871 - val_acc: 0.7500 - val_binary_crossentropy: 0.5551\n",
      "Epoch 49/50\n",
      "1276/1276 [==============================] - 1s 970us/sample - loss: 0.6243 - acc: 0.6975 - binary_crossentropy: 0.5922 - val_loss: 0.5856 - val_acc: 0.7344 - val_binary_crossentropy: 0.5546\n",
      "Epoch 50/50\n",
      "1276/1276 [==============================] - 1s 886us/sample - loss: 0.6165 - acc: 0.6881 - binary_crossentropy: 0.5852 - val_loss: 0.5834 - val_acc: 0.7281 - val_binary_crossentropy: 0.5513\n",
      "train, loss and metric: [0.6377916262860883, 0.6666667, 0.60569525]\n"
     ]
    },
    {
     "data": {
      "image/png": "[encoded data removed]",
      "text/plain": [
       "<Figure size 432x288 with 1 Axes>"
      ]
     },
     "metadata": {
      "needs_background": "light"
     },
     "output_type": "display_data"
    },
    {
     "data": {
      "image/png": "[encoded data removed]",
      "text/plain": [
       "<Figure size 432x288 with 1 Axes>"
      ]
     },
     "metadata": {
      "needs_background": "light"
     },
     "output_type": "display_data"
    }
   ],
   "source": [
    "# L2규제\n",
    "l2_model = keras.models.Sequential([\n",
    "    keras.layers.Dense(16, kernel_regularizer=keras.regularizers.l2(0.01),\n",
    "                       activation=tf.nn.relu, input_shape=(186,)),\n",
    "    keras.layers.Dense(16, kernel_regularizer=keras.regularizers.l2(0.01),\n",
    "                       activation=tf.nn.relu, input_shape=(186,)),\n",
    "    keras.layers.Dense(16, kernel_regularizer=keras.regularizers.l2(0.01),\n",
    "                       activation=tf.nn.relu),\n",
    "    keras.layers.Dense(1, activation=tf.nn.sigmoid)\n",
    "])\n",
    "\n",
    "Nadam = optimizers.Nadam(lr=0.002, beta_1=0.9, beta_2=0.999, epsilon=None, schedule_decay=0.004)\n",
    "\n",
    "l2_model.compile(optimizer='Nadam',\n",
    "                 loss='binary_crossentropy',\n",
    "                 metrics=['accuracy', 'binary_crossentropy'])\n",
    "\n",
    "l2_model_history = l2_model.fit(xData, yData,\n",
    "                                epochs=50,\n",
    "                                batch_size=5,\n",
    "                                validation_data=(valX, valY),\n",
    "                                verbose=1)\n",
    "\n",
    "loss_and_metric = l2_model.evaluate(testX, testY, batch_size=10, verbose=0)\n",
    "print(\"train, loss and metric: {}\".format(loss_and_metric))\n",
    "\n",
    "#정확도 그래프\n",
    "plt.plot(l2_model_history.history['acc'])\n",
    "plt.plot(l2_model_history.history['val_acc'])\n",
    "plt.title('model accuracy')\n",
    "plt.ylabel('accuracy')\n",
    "plt.xlabel('epoch')\n",
    "plt.legend(['train', 'test'], loc='upper left')\n",
    "plt.show()\n",
    "#손실 그래프\n",
    "plt.plot(l2_model_history.history['loss'])\n",
    "plt.plot(l2_model_history.history['val_loss'])\n",
    "plt.title('model loss')\n",
    "plt.ylabel('loss')\n",
    "plt.xlabel('epoch')\n",
    "plt.legend(['train', 'test'], loc='upper left')\n",
    "plt.show()\n",
    "\n",
    "l2_model.save('l2_model_Nadam')\n"
   ]
  }
 ],
 "metadata": {
  "kernelspec": {
   "display_name": "Python 3",
   "language": "python",
   "name": "python3"
  },
  "language_info": {
   "codemirror_mode": {
    "name": "ipython",
    "version": 3
   },
   "file_extension": ".py",
   "mimetype": "text/x-python",
   "name": "python",
   "nbconvert_exporter": "python",
   "pygments_lexer": "ipython3",
   "version": "3.6.10"
  }
 },
 "nbformat": 4,
 "nbformat_minor": 4
}
