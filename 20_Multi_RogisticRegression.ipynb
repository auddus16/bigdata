{
 "cells": [
  {
   "cell_type": "code",
   "execution_count": 1,
   "metadata": {},
   "outputs": [
    {
     "name": "stdout",
     "output_type": "stream",
     "text": [
      "WARNING:tensorflow:From C:\\Users\\auddu\\anaconda3\\envs\\auddus\\lib\\site-packages\\tensorflow_core\\python\\compat\\v2_compat.py:68: disable_resource_variables (from tensorflow.python.ops.variable_scope) is deprecated and will be removed in a future version.\n",
      "Instructions for updating:\n",
      "non-resource variables are not supported in the long term\n"
     ]
    }
   ],
   "source": [
    "import tensorflow.compat.v1 as tf\n",
    "tf.disable_v2_behavior()\n",
    "import numpy as np"
   ]
  },
  {
   "cell_type": "code",
   "execution_count": 2,
   "metadata": {},
   "outputs": [],
   "source": [
    "seed = 0\n",
    "# a = tf.Variable(tf.random_normal([1], dtype=tf.float64, seed=0))\n",
    "# b = tf.Variable(tf.random_normal([1], dtype=tf.float64, seed=0))\n",
    "\n",
    "# tensorflow, numpy 랜덤 값을 설정합니다.\n",
    "tf.set_random_seed(seed)\n",
    "np.random.seed(seed)"
   ]
  },
  {
   "cell_type": "code",
   "execution_count": 3,
   "metadata": {},
   "outputs": [
    {
     "name": "stdout",
     "output_type": "stream",
     "text": [
      "[[ 2  3]\n",
      " [ 4  3]\n",
      " [ 6  4]\n",
      " [ 8  6]\n",
      " [10  7]\n",
      " [12  8]\n",
      " [14  9]]\n"
     ]
    },
    {
     "data": {
      "text/plain": [
       "'\\n[[ 2  3]\\n [ 4  3]\\n [ 6  4]\\n [ 8  6]\\n [10  7]\\n [12  8]\\n [14  9]]\\n'"
      ]
     },
     "execution_count": 3,
     "metadata": {},
     "output_type": "execute_result"
    }
   ],
   "source": [
    "# 학습할 데이터를 만듭니다. [공부 시간, 과외 시간]\n",
    "# xData = [[2, 3], [4, 3], [6, 4], [8, 6], [10, 7], [12, 8], [14, 9]]\n",
    "xData = np.array([[2, 3], [4, 3], [6, 4], [8, 6], [10, 7], [12, 8], [14, 9]])  # 7행 2열 numpy 배열\n",
    "print(xData)\n",
    "'''\n",
    "[[ 2  3]\n",
    " [ 4  3]\n",
    " [ 6  4]\n",
    " [ 8  6]\n",
    " [10  7]\n",
    " [12  8]\n",
    " [14  9]]\n",
    "'''"
   ]
  },
  {
   "cell_type": "code",
   "execution_count": 4,
   "metadata": {},
   "outputs": [
    {
     "name": "stdout",
     "output_type": "stream",
     "text": [
      "[0 0 0 1 1 1 1]\n",
      "[[0]\n",
      " [0]\n",
      " [0]\n",
      " [1]\n",
      " [1]\n",
      " [1]\n",
      " [1]]\n"
     ]
    },
    {
     "data": {
      "text/plain": [
       "'\\n[[0]\\n [0]\\n [0]\\n [1]\\n [1]\\n [1]\\n [1]]\\n'"
      ]
     },
     "execution_count": 4,
     "metadata": {},
     "output_type": "execute_result"
    }
   ],
   "source": [
    "# yData -> [합격 여부] -> 실제값\n",
    "yData = np.array([0, 0, 0, 1, 1, 1, 1])  # 1행 7열\n",
    "print(yData)  # [0 0 0 1 1 1 1]\n",
    "# reshape() : numpy에서 데이터는 그대로 유지한채 배열의 형태(차원)을 변경합니다.\n",
    "# 1행 7열 numpy 배열 -> 7행 1열 numpy 배열\n",
    "yData = np.array([0, 0, 0, 1, 1, 1, 1]).reshape(7, 1)\n",
    "print(yData)\n",
    "'''\n",
    "[[0]\n",
    " [0]\n",
    " [0]\n",
    " [1]\n",
    " [1]\n",
    " [1]\n",
    " [1]]\n",
    "'''"
   ]
  },
  {
   "cell_type": "code",
   "execution_count": 5,
   "metadata": {},
   "outputs": [],
   "source": [
    "# xData와 yData를 저장할 placeholder를 만듭니다.\n",
    "# placeholder에 numpy 배열이 대입되는 경우 shape 속성을 이용해 대입되는 numpy 배열의 차원을 지정해야합니다.\n",
    "# [None, 2] -> numpy 행의 개수는 몇 개라도 상관없고 열의 개수는 2개입니다.\n",
    "X = tf.placeholder(dtype=tf.float64, shape=[None, 2])  # xData가 대입될 placeholder\n",
    "Y = tf.placeholder(dtype=tf.float64, shape=[None, 1])  # yData가 대입될 placeholder\n",
    "\n",
    "# 기울기(가중치) a와 y절편(바이어스) b의 값을 임의(random)로 정합니다.\n",
    "# xData 1건은 1행 2열인 행렬이므로 가중치 a를 2행 1열인 난수로 발생시키면 행렬의 곱을 이용해 편리하게 연산할 수 있습니다.\n",
    "a = tf.Variable(tf.random_uniform([2, 1], dtype=tf.float64))  # 난수를 2행 1열로 발생시킵니다.\n",
    "b = tf.Variable(tf.random_uniform([1], dtype=tf.float64))\n",
    "\n",
    "# 시그모이드 방정식을 만듭니다.\n",
    "y = tf.sigmoid(tf.matmul(X, a) + b)\n",
    "# 오차 함수\n",
    "loss = -tf.reduce_mean(Y * tf.log(y) + (1 - Y) * tf.log(1 - y))\n",
    "# 경사 하강 알고리즘\n",
    "gradient_descent = tf.train.GradientDescentOptimizer(0.1).minimize(loss)"
   ]
  },
  {
   "cell_type": "code",
   "execution_count": 6,
   "metadata": {},
   "outputs": [],
   "source": [
    "# sigmoid() 함수의 실행 결과(y) 값이 0.5 이상이면 1을 0.5 미만이면 0을 리턴시킵니다.\n",
    "# tf.cast(캐스팅할 데이터, dtype=캐스팅 될 데이터 타입) : tensorflow에서 형변환을 실행하는 함수\n",
    "# predicted = tf.cast(tf.constant([1.9, 2.1]), dtype=tf.int32)  # [1, 2] -> 실수(부동소수점 데이터)를 정수형 데이터로 변경합니다.\n",
    "# predicted = tf.cast(0.4 >= 0.5, dtype = tf.float64)  # 조건 비교 결과가 False이므로 0으로 캐스팅\n",
    "# predicted = tf.cast(0.5 >= 0.5, dtype = tf.float64)  # 조건 비교 결과가 True이므로 1으로 캐스팅\n",
    "\n",
    "predicted = tf.cast(y >= 0.5, dtype = tf.float64)\n",
    "\n",
    "# 예상값이 실제값과 일치하는 정도(정확도)를 계산합니다.\n",
    "# tf.equal(): tensorflow에서 인수로 지정된 값이 같으면 True, 다르면 False 결과를 tf.float64로 캐스팅 시키고 시행된 전체 평균을 계산합니다.\n",
    "accuracy = tf.reduce_mean(tf.cast(tf.equal(predicted, Y), dtype = tf.float64))  # 정확도 (0 또는 1)"
   ]
  },
  {
   "cell_type": "code",
   "execution_count": 7,
   "metadata": {},
   "outputs": [
    {
     "name": "stdout",
     "output_type": "stream",
     "text": [
      "count : 0, a1 = [0.25118072], a2 = [0.05875504], b = [0.38868172], loss = 1.1966611300171819\n",
      "count : 300, a1 = [0.84299619], a2 = [-0.59907759], b = [-2.39673194], loss = 0.2690116781272744\n",
      "count : 600, a1 = [0.83458742], a2 = [-0.31546725], b = [-3.86712423], loss = 0.19306874571428928\n",
      "count : 900, a1 = [0.74193938], a2 = [0.01643036], b = [-4.93425912], loss = 0.15087532451981553\n",
      "count : 1200, a1 = [0.63686218], a2 = [0.32545894], b = [-5.77901242], loss = 0.12342360182966228\n",
      "count : 1500, a1 = [0.5369818], a2 = [0.60050694], b = [-6.47963601], loss = 0.10414846895097606\n",
      "count : 1800, a1 = [0.44679619], a2 = [0.84289343], b = [-7.07862596], loss = 0.08992549558026533\n",
      "count : 2100, a1 = [0.36675363], a2 = [1.05674097], b = [-7.60194881], loss = 0.07903756057398525\n",
      "count : 2400, a1 = [0.29601079], a2 = [1.24640116], b = [-8.06670069], loss = 0.07045799696643298\n",
      "count : 2700, a1 = [0.23338994], a2 = [1.4157457], b = [-8.48474978], loss = 0.06353632488784815\n",
      "count : 3000, a1 = [0.17772311], a2 = [1.56802783], b = [-8.86467441], loss = 0.05784183954068974\n",
      "[[6 5]]\n",
      "공부 시간 : 6, 과외 시간 : 5\n",
      "합격 여부(sigmoid() 함수 실행 결과를 0.5 이상은 1, 미만은 0으로 반환) : 1, 합격 확률(sigmoid() 함수 실행 결과) : 0.510449)\n",
      "공부 시간 : 0, 과외 시간 :  0,합격 여부 : 불합격, 합격 확률 :   0.0141%\n",
      "공부 시간 : 0, 과외 시간 :  1,합격 여부 : 불합격, 합격 확률 :   0.0677%\n",
      "공부 시간 : 0, 과외 시간 :  2,합격 여부 : 불합격, 합격 확률 :   0.3241%\n",
      "공부 시간 : 0, 과외 시간 :  3,합격 여부 : 불합격, 합격 확률 :   1.5359%\n",
      "공부 시간 : 0, 과외 시간 :  4,합격 여부 : 불합격, 합격 확률 :   6.9619%\n",
      "공부 시간 : 0, 과외 시간 :  5,합격 여부 : 불합격, 합격 확률 :  26.4145%\n",
      "공부 시간 : 0, 과외 시간 :  6,합격 여부 : 합격, 합격 확률 :  63.2625%\n",
      "공부 시간 : 0, 과외 시간 :  7,합격 여부 : 합격, 합격 확률 :  89.2018%\n",
      "공부 시간 : 0, 과외 시간 :  8,합격 여부 : 합격, 합격 확률 :  97.5387%\n",
      "공부 시간 : 0, 과외 시간 :  9,합격 여부 : 합격, 합격 확률 :  99.4767%\n",
      "공부 시간 : 0, 과외 시간 : 10,합격 여부 : 합격, 합격 확률 :  99.8905%\n"
     ]
    }
   ],
   "source": [
    "with tf.Session() as sess:  # 세션 구간을 만듦\n",
    "    sess.run(tf.global_variables_initializer())\n",
    "    for i in range(3001):\n",
    "        # count : 학습 횟수, a1 : 기울기(공부 시간), a2 : 기울기(과외 시간), b : y절편, loss : 오차 함수\n",
    "        a_, b_, loss_, _ = sess.run([a, b, loss, gradient_descent], feed_dict = {X:xData, Y:yData})\n",
    "        if i % 300 == 0:\n",
    "            print('count : {}, a1 = {}, a2 = {}, b = {}, loss = {}'.format(i, a_[0], a_[1], b_, loss_)) # 학습시킨 데이터 출력\n",
    "            \n",
    "# 학습 완료 -----------------------------------------------------------------------------------------------------\n",
    "# 테스트 데이터\n",
    "\n",
    "    new_x = np.array([6, 5]).reshape(1, 2)  # reshape() 함수를 이용해서 1행 2열인 2차원 numpy 배열을 만듭니다.\n",
    "    print(new_x)\n",
    "    # sigmoid() 함수 연산 결과에 테스트 데이터를 대입시켜 연산합니다.\n",
    "    result, new_y = sess.run([predicted, y], feed_dict = {X:new_x})\n",
    "    print('공부 시간 : %d, 과외 시간 : %d' % (new_x[:, 0], new_x[:, 1]))\n",
    "    print('합격 여부(sigmoid() 함수 실행 결과를 0.5 이상은 1, 미만은 0으로 반환) : %d, 합격 확률(sigmoid() 함수 실행 결과) : %f)' % (result, new_y))\n",
    "    \n",
    "    for i in range(11):\n",
    "        new_x = np.array([0, i]).reshape(1, 2)  # 과외 시간만 계속 늘림\n",
    "        result, new_y = sess.run([predicted, y], feed_dict={X:new_x})\n",
    "        print('공부 시간 : %d, 과외 시간 : %2d' % (new_x[:, 0], new_x[:, 1]), end=',')\n",
    "        print('합격 여부 : %s, 합격 확률 : %8.4f%%' % ('합격' if result == 1 else '불합격', new_y*100))"
   ]
  }
 ],
 "metadata": {
  "kernelspec": {
   "display_name": "Python 3",
   "language": "python",
   "name": "python3"
  },
  "language_info": {
   "codemirror_mode": {
    "name": "ipython",
    "version": 3
   },
   "file_extension": ".py",
   "mimetype": "text/x-python",
   "name": "python",
   "nbconvert_exporter": "python",
   "pygments_lexer": "ipython3",
   "version": "3.6.10"
  }
 },
 "nbformat": 4,
 "nbformat_minor": 4
}
