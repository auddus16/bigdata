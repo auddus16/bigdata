{
 "cells": [
  {
   "cell_type": "code",
   "execution_count": 72,
   "metadata": {},
   "outputs": [],
   "source": [
    "import tensorflow.compat.v1 as tf\n",
    "from tensorflow import feature_column\n",
    "from tensorflow.keras import layers\n",
    "tf.disable_v2_behavior()\n",
    "import numpy as np\n",
    "import pandas as pd\n",
    "import matplotlib.pyplot as plt\n",
    "import seaborn as sb\n",
    "\n",
    "from tensorflow import keras\n",
    "from tensorflow.keras.models import Sequential # 케라스의 Sequential()을 임포트\n",
    "from tensorflow.keras.layers import Dense # 케라스의 Dense()를 임포트\n",
    "from tensorflow.keras import optimizers # 케라스의 옵티마이저를 임포트\n",
    "%matplotlib inline"
   ]
  },
  {
   "cell_type": "code",
   "execution_count": 73,
   "metadata": {},
   "outputs": [],
   "source": [
    "seed = 0\n",
    "# a = tf.Variable(tf.random_normal([1], dtype=tf.float64, seed=0))\n",
    "# b = tf.Variable(tf.random_normal([1], dtype=tf.float64, seed=0))\n",
    "\n",
    "# tensorflow, numpy 랜덤 값을 설정합니다.\n",
    "tf.set_random_seed(seed)\n",
    "np.random.seed(seed)"
   ]
  },
  {
   "cell_type": "code",
   "execution_count": 74,
   "metadata": {
    "scrolled": true
   },
   "outputs": [
    {
     "data": {
      "text/html": [
       "<div>\n",
       "<style scoped>\n",
       "    .dataframe tbody tr th:only-of-type {\n",
       "        vertical-align: middle;\n",
       "    }\n",
       "\n",
       "    .dataframe tbody tr th {\n",
       "        vertical-align: top;\n",
       "    }\n",
       "\n",
       "    .dataframe thead th {\n",
       "        text-align: right;\n",
       "    }\n",
       "</style>\n",
       "<table border=\"1\" class=\"dataframe\">\n",
       "  <thead>\n",
       "    <tr style=\"text-align: right;\">\n",
       "      <th></th>\n",
       "      <th>kindNum</th>\n",
       "      <th>neuterYn</th>\n",
       "      <th>sexCd</th>\n",
       "      <th>weight</th>\n",
       "      <th>noticeDays</th>\n",
       "      <th>age2</th>\n",
       "      <th>processState</th>\n",
       "    </tr>\n",
       "  </thead>\n",
       "  <tbody>\n",
       "    <tr>\n",
       "      <th>0</th>\n",
       "      <td>128.0</td>\n",
       "      <td>N</td>\n",
       "      <td>F</td>\n",
       "      <td>7.46</td>\n",
       "      <td>10</td>\n",
       "      <td>12</td>\n",
       "      <td>0</td>\n",
       "    </tr>\n",
       "    <tr>\n",
       "      <th>1</th>\n",
       "      <td>114.0</td>\n",
       "      <td>N</td>\n",
       "      <td>M</td>\n",
       "      <td>7.00</td>\n",
       "      <td>14</td>\n",
       "      <td>1</td>\n",
       "      <td>1</td>\n",
       "    </tr>\n",
       "    <tr>\n",
       "      <th>2</th>\n",
       "      <td>114.0</td>\n",
       "      <td>U</td>\n",
       "      <td>M</td>\n",
       "      <td>4.50</td>\n",
       "      <td>11</td>\n",
       "      <td>2</td>\n",
       "      <td>0</td>\n",
       "    </tr>\n",
       "    <tr>\n",
       "      <th>3</th>\n",
       "      <td>67.0</td>\n",
       "      <td>N</td>\n",
       "      <td>M</td>\n",
       "      <td>10.00</td>\n",
       "      <td>8</td>\n",
       "      <td>1</td>\n",
       "      <td>0</td>\n",
       "    </tr>\n",
       "    <tr>\n",
       "      <th>4</th>\n",
       "      <td>114.0</td>\n",
       "      <td>N</td>\n",
       "      <td>M</td>\n",
       "      <td>6.00</td>\n",
       "      <td>8</td>\n",
       "      <td>4</td>\n",
       "      <td>0</td>\n",
       "    </tr>\n",
       "    <tr>\n",
       "      <th>...</th>\n",
       "      <td>...</td>\n",
       "      <td>...</td>\n",
       "      <td>...</td>\n",
       "      <td>...</td>\n",
       "      <td>...</td>\n",
       "      <td>...</td>\n",
       "      <td>...</td>\n",
       "    </tr>\n",
       "    <tr>\n",
       "      <th>1994</th>\n",
       "      <td>114.0</td>\n",
       "      <td>N</td>\n",
       "      <td>M</td>\n",
       "      <td>0.98</td>\n",
       "      <td>10</td>\n",
       "      <td>0</td>\n",
       "      <td>1</td>\n",
       "    </tr>\n",
       "    <tr>\n",
       "      <th>1995</th>\n",
       "      <td>114.0</td>\n",
       "      <td>N</td>\n",
       "      <td>F</td>\n",
       "      <td>1.20</td>\n",
       "      <td>10</td>\n",
       "      <td>0</td>\n",
       "      <td>1</td>\n",
       "    </tr>\n",
       "    <tr>\n",
       "      <th>1996</th>\n",
       "      <td>106.0</td>\n",
       "      <td>N</td>\n",
       "      <td>M</td>\n",
       "      <td>50.00</td>\n",
       "      <td>10</td>\n",
       "      <td>3</td>\n",
       "      <td>1</td>\n",
       "    </tr>\n",
       "    <tr>\n",
       "      <th>1997</th>\n",
       "      <td>114.0</td>\n",
       "      <td>U</td>\n",
       "      <td>F</td>\n",
       "      <td>9.00</td>\n",
       "      <td>10</td>\n",
       "      <td>3</td>\n",
       "      <td>0</td>\n",
       "    </tr>\n",
       "    <tr>\n",
       "      <th>1998</th>\n",
       "      <td>114.0</td>\n",
       "      <td>N</td>\n",
       "      <td>F</td>\n",
       "      <td>12.50</td>\n",
       "      <td>10</td>\n",
       "      <td>3</td>\n",
       "      <td>0</td>\n",
       "    </tr>\n",
       "  </tbody>\n",
       "</table>\n",
       "<p>1995 rows × 7 columns</p>\n",
       "</div>"
      ],
      "text/plain": [
       "      kindNum neuterYn sexCd  weight  noticeDays  age2  processState\n",
       "0       128.0        N     F    7.46          10    12             0\n",
       "1       114.0        N     M    7.00          14     1             1\n",
       "2       114.0        U     M    4.50          11     2             0\n",
       "3        67.0        N     M   10.00           8     1             0\n",
       "4       114.0        N     M    6.00           8     4             0\n",
       "...       ...      ...   ...     ...         ...   ...           ...\n",
       "1994    114.0        N     M    0.98          10     0             1\n",
       "1995    114.0        N     F    1.20          10     0             1\n",
       "1996    106.0        N     M   50.00          10     3             1\n",
       "1997    114.0        U     F    9.00          10     3             0\n",
       "1998    114.0        N     F   12.50          10     3             0\n",
       "\n",
       "[1995 rows x 7 columns]"
      ]
     },
     "execution_count": 74,
     "metadata": {},
     "output_type": "execute_result"
    }
   ],
   "source": [
    "#doginfo.csv파일 데이터를 pandas를 이용해 읽어옵니다.\n",
    "dog_data=pd.read_csv(\"doginfo_mmy.csv\")\n",
    "dog_train=pd.read_csv(\"testDog.csv\")\n",
    "kindCd=pd.read_csv(\"kindCd.csv\")\n",
    "\n",
    "dog_data = dog_data.dropna(axis=0)\n",
    "dog_train = dog_train.dropna(axis=0)\n",
    "kindCd_data = kindCd.dropna(axis=0)\n",
    "\n",
    "dog_data\n",
    "# print(dog_train)\n",
    "# print(kindCd)"
   ]
  },
  {
   "cell_type": "code",
   "execution_count": 75,
   "metadata": {},
   "outputs": [],
   "source": [
    "# dog_data['sexF']=dog_data['sexCd'].apply(lambda x:1 if x=='F' else 0)\n",
    "# dog_data['sexM']=dog_data['sexCd'].apply(lambda x:1 if x=='M' else 0)\n",
    "# dog_data['sexQ']=dog_data['sexCd'].apply(lambda x:1 if x=='Q' else 0)\n",
    "\n",
    "# dog_data['neuterY']=dog_data['neuterYn'].apply(lambda x:1 if x=='Y' else 0)\n",
    "# dog_data['neuterN']=dog_data['neuterYn'].apply(lambda x:1 if x=='N' else 0)\n",
    "# dog_data['neuterU']=dog_data['neuterYn'].apply(lambda x:1 if x=='U' else 0)\n",
    "# dog_data\n",
    "\n",
    "dog_data['sexCd']=dog_data['sexCd'].map({'F':1, 'M':0, 'Q':2})\n",
    "dog_data['neuterYn']=dog_data['neuterYn'].map({'Y':1, 'N':0, 'U':2})\n",
    "\n",
    "dog_train['sexCd']=dog_train['sexCd'].map({'F':1, 'M':0, 'Q':2})\n",
    "dog_train['neuterYn']=dog_train['neuterYn'].map({'Y':1, 'N':0, 'U':2})"
   ]
  },
  {
   "cell_type": "code",
   "execution_count": 76,
   "metadata": {},
   "outputs": [
    {
     "name": "stdout",
     "output_type": "stream",
     "text": [
      "[[128.     0.     1.     7.46  10.    12.  ]\n",
      " [114.     0.     0.     7.    14.     1.  ]\n",
      " [114.     2.     0.     4.5   11.     2.  ]\n",
      " ...\n",
      " [106.     0.     0.    50.    10.     3.  ]\n",
      " [114.     2.     1.     9.    10.     3.  ]\n",
      " [114.     0.     1.    12.5   10.     3.  ]]\n"
     ]
    }
   ],
   "source": [
    "dog_data=np.array(dog_data)\n",
    "dog_train=np.array(dog_train)\n",
    "\n",
    "# a = dog_data[:, :3]\n",
    "# b = dog_data[:, 4:]\n",
    "\n",
    "# print(a[0,:])\n",
    "# print(b)\n",
    "\n",
    "#numpy 배열에서 데이터 변화요인(kindCd, neuterYn, sexCd, weight, noticeDays, age2)으로 사용할 데이터를 뽑아냅니다.\n",
    "xData = dog_data[:, :6]\n",
    "\n",
    "# a=dog_train[:, :3]\n",
    "# b=dog_train[:, 4:]\n",
    "testX=dog_train[:, :6]\n",
    "\n",
    "print(xData)\n",
    "# type(xData)\n",
    "# xData.shape"
   ]
  },
  {
   "cell_type": "code",
   "execution_count": 77,
   "metadata": {},
   "outputs": [
    {
     "name": "stdout",
     "output_type": "stream",
     "text": [
      "[[0.]\n",
      " [1.]\n",
      " [0.]\n",
      " ...\n",
      " [1.]\n",
      " [0.]\n",
      " [0.]]\n"
     ]
    },
    {
     "data": {
      "text/plain": [
       "dtype('float64')"
      ]
     },
     "execution_count": 77,
     "metadata": {},
     "output_type": "execute_result"
    }
   ],
   "source": [
    "#numpy배열에서 결과(입양여부)로 사용할 데이터를 뽑아냅니다.\n",
    "yData=dog_data[:,[6]]\n",
    "testY=dog_train[:,[6]]\n",
    "# yData = yData.astype('int32')\n",
    "print(yData)\n",
    "type(yData)\n",
    "yData.dtype"
   ]
  },
  {
   "cell_type": "code",
   "execution_count": 78,
   "metadata": {},
   "outputs": [],
   "source": [
    "def model_performance(y_test, y_pred):    \n",
    "    print('confusion matrix')\n",
    "    print(metrics.confusion_matrix(y_test, y_pred))\n",
    "    print('accuracy : {}'.format(metrics.accuracy_score(y_test, y_pred)))\n",
    "    print('precision : {}'.format(metrics.precision_score(y_test, y_pred)))\n",
    "    print('recall : {}'.format(metrics.recall_score(y_test, y_pred)))\n",
    "    print('F1 : {}'.format(metrics.f1_score(y_test, y_pred)))"
   ]
  },
  {
   "cell_type": "code",
   "execution_count": 79,
   "metadata": {},
   "outputs": [
    {
     "name": "stderr",
     "output_type": "stream",
     "text": [
      "C:\\Users\\auddu\\anaconda3\\envs\\auddus\\lib\\site-packages\\ipykernel_launcher.py:10: DataConversionWarning: A column-vector y was passed when a 1d array was expected. Please change the shape of y to (n_samples,), for example using ravel().\n",
      "  # Remove the CWD from sys.path while we load stuff.\n"
     ]
    },
    {
     "name": "stdout",
     "output_type": "stream",
     "text": [
      "confusion matrix\n",
      "[[185 123]\n",
      " [ 96 206]]\n",
      "accuracy : 0.6409836065573771\n",
      "precision : 0.6261398176291794\n",
      "recall : 0.6821192052980133\n",
      "F1 : 0.652931854199683\n"
     ]
    }
   ],
   "source": [
    "from sklearn.ensemble import RandomForestClassifier\n",
    "from sklearn import metrics\n",
    "# model = RandomForestClassifier()\n",
    "# model.fit(X_all_train, y_train)\n",
    "# y_pred = model.predict(X_all_test)\n",
    "# model_performance(y_test, y_pred)\n",
    "\n",
    "\n",
    "model = RandomForestClassifier(n_estimators=100, max_depth=12, min_samples_leaf=3, min_samples_split=16)\n",
    "rf_model=model.fit(xData, yData)\n",
    "y_pred = rf_model.predict(testX)\n",
    "model_performance(testY, y_pred)"
   ]
  },
  {
   "cell_type": "code",
   "execution_count": 71,
   "metadata": {},
   "outputs": [
    {
     "data": {
      "text/plain": [
       "array([[0.09601083, 0.90398917],\n",
       "       [0.5835028 , 0.4164972 ],\n",
       "       [0.76038066, 0.23961934],\n",
       "       [0.09540756, 0.90459244],\n",
       "       [0.84608651, 0.15391349],\n",
       "       [0.84608651, 0.15391349]])"
      ]
     },
     "execution_count": 71,
     "metadata": {},
     "output_type": "execute_result"
    }
   ],
   "source": [
    "# testX.shape\n",
    "rf_model.predict_proba(testX[:6])"
   ]
  },
  {
   "cell_type": "code",
   "execution_count": 62,
   "metadata": {},
   "outputs": [
    {
     "data": {
      "text/plain": [
       "['randomforest.pkl']"
      ]
     },
     "execution_count": 62,
     "metadata": {},
     "output_type": "execute_result"
    }
   ],
   "source": [
    "# from sklearn.external.joblib as extjoblib\n",
    "import joblib\n",
    "joblib.dump(rf_model, 'randomforest.pkl')"
   ]
  }
 ],
 "metadata": {
  "kernelspec": {
   "display_name": "Python 3",
   "language": "python",
   "name": "python3"
  },
  "language_info": {
   "codemirror_mode": {
    "name": "ipython",
    "version": 3
   },
   "file_extension": ".py",
   "mimetype": "text/x-python",
   "name": "python",
   "nbconvert_exporter": "python",
   "pygments_lexer": "ipython3",
   "version": "3.6.10"
  }
 },
 "nbformat": 4,
 "nbformat_minor": 4
}
