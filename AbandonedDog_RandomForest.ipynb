{
 "cells": [
  {
   "cell_type": "code",
   "execution_count": 56,
   "metadata": {},
   "outputs": [],
   "source": [
    "from sklearn.ensemble import RandomForestClassifier\n",
    "from sklearn import metrics\n",
    "import joblib\n",
    "import numpy as np\n",
    "import pandas as pd"
   ]
  },
  {
   "cell_type": "code",
   "execution_count": 69,
   "metadata": {
    "scrolled": true
   },
   "outputs": [
    {
     "name": "stdout",
     "output_type": "stream",
     "text": [
      "       kindNum neuterYn sexCd  weight  noticeDays  age2  processState\n",
      "0        128.0        N     F    7.46          10    12             0\n",
      "1        114.0        N     M    7.00          14     1             1\n",
      "2        114.0        U     M    4.50          11     2             0\n",
      "3         67.0        N     M   10.00           8     1             0\n",
      "4        114.0        N     M    6.00           8     4             0\n",
      "...        ...      ...   ...     ...         ...   ...           ...\n",
      "22787    114.0        N     M    1.00          10     0             1\n",
      "22788    114.0        N     M    1.00          10     0             1\n",
      "22789    114.0        N     M    1.00          10     0             1\n",
      "22790    128.0        U     F    6.00          12     3             0\n",
      "22791    114.0        N     M    3.50          10     0             0\n",
      "\n",
      "[22777 rows x 7 columns]\n",
      "     kindNum neuterYn sexCd  weight  noticeDays  age2  processState\n",
      "0      128.0        N     M     0.8          10     0             1\n",
      "1      114.0        N     M     5.0          10     1             0\n",
      "2       12.0        N     F     5.0          10    13             0\n",
      "3       17.0        N     M     5.0          10     3             0\n",
      "4      114.0        N     M    15.0          10     7             0\n",
      "..       ...      ...   ...     ...         ...   ...           ...\n",
      "606     77.0        Y     M     6.4          11    10             0\n",
      "607    114.0        U     F     1.7          11     0             0\n",
      "608    114.0        U     F     1.7          11     0             1\n",
      "609     72.0        U     F     3.6          11     2             1\n",
      "610     72.0        N     M     3.1          11     2             0\n",
      "\n",
      "[610 rows x 7 columns]\n",
      "     kindCd\n",
      "0        54\n",
      "1        56\n",
      "2        55\n",
      "3       118\n",
      "4       115\n",
      "..      ...\n",
      "172     135\n",
      "173     206\n",
      "174     130\n",
      "175     134\n",
      "176     111\n",
      "\n",
      "[177 rows x 1 columns]\n"
     ]
    }
   ],
   "source": [
    "#doginfo.csv파일 데이터를 pandas를 이용해 읽어옵니다.\n",
    "dog_data=pd.read_csv(\"doginfo.csv\")\n",
    "dog_train=pd.read_csv(\"testDog.csv\")\n",
    "kindCd=pd.read_csv(\"kindCd.csv\")\n",
    "\n",
    "dog_data = dog_data.dropna(axis=0)\n",
    "dog_train = dog_train.dropna(axis=0)\n",
    "kindCd_data = kindCd.dropna(axis=0)\n",
    "\n",
    "print(dog_data)\n",
    "print(dog_train)\n",
    "print(kindCd_data)"
   ]
  },
  {
   "cell_type": "code",
   "execution_count": 71,
   "metadata": {},
   "outputs": [
    {
     "name": "stdout",
     "output_type": "stream",
     "text": [
      "[ 54.  56.  55. 118. 115.  37.  81. 204.  83.  82.  38.  39.  40.  43.\n",
      "  42. 153.  41. 120. 155.  69.  71. 142.  93. 167.  70. 166.  94. 121.\n",
      " 152.  73. 146.  72. 159.  76.  75.  79.  78.  77.  74.  80. 114. 133.\n",
      "  12.  17.  15. 164. 157. 148.  16.  20.  21.  22.  24. 208.  23.  26.\n",
      "  27. 169.  25.  19.  13.  18.  14. 162.  85.  96.  95.   1.  34. 104.\n",
      "  31.  99. 122. 123.  97. 132. 105. 154. 124. 100. 103. 151. 139. 101.\n",
      " 102.  98. 136. 202. 160. 203.   8. 131.   9. 119. 150. 210.  57.  58.\n",
      "  59.   6.   4.   7.   5. 143.  11.  10. 137.  84. 163. 112. 113. 149.\n",
      " 211. 110. 205. 108. 109.  60.  46.  47.  44.  45.  53.  62.  61.  52.\n",
      " 165.  51. 156. 129.  67.  35.  33.  32. 158. 144.  30.  29.  64. 207.\n",
      "  28.   2.  68. 125. 141. 145.  36.  66.  65.  63. 140. 107. 106. 209.\n",
      "  86.  88.  90.  87. 138.  89. 126. 127. 128.  91.   3. 161.  50. 168.\n",
      "  49. 147.  92.  48. 135. 206. 130. 134. 111.]\n",
      "(177,)\n"
     ]
    }
   ],
   "source": [
    "kindCd = np.array(kindCd_data, dtype = np.float64)\n",
    "kindCd_train=np.array(kindCd_data, dtype=np.float64)\n",
    "\n",
    "kindCd = kindCd.reshape(177)\n",
    "kindCd_train=kindCd_train.reshape(177)\n",
    "\n",
    "print(kindCd)\n",
    "print(kindCd.shape)"
   ]
  },
  {
   "cell_type": "code",
   "execution_count": 72,
   "metadata": {
    "scrolled": true
   },
   "outputs": [
    {
     "name": "stdout",
     "output_type": "stream",
     "text": [
      "      neuterYn sexCd  weight  noticeDays  age2  processState  1.0  2.0  3.0  \\\n",
      "0            N     F    7.46          10    12             0    0    0    0   \n",
      "1            N     M    7.00          14     1             1    0    0    0   \n",
      "2            U     M    4.50          11     2             0    0    0    0   \n",
      "3            N     M   10.00           8     1             0    0    0    0   \n",
      "4            N     M    6.00           8     4             0    0    0    0   \n",
      "...        ...   ...     ...         ...   ...           ...  ...  ...  ...   \n",
      "22787        N     M    1.00          10     0             1    0    0    0   \n",
      "22788        N     M    1.00          10     0             1    0    0    0   \n",
      "22789        N     M    1.00          10     0             1    0    0    0   \n",
      "22790        U     F    6.00          12     3             0    0    0    0   \n",
      "22791        N     M    3.50          10     0             0    0    0    0   \n",
      "\n",
      "       4.0  ...  202.0  203.0  204.0  205.0  206.0  207.0  208.0  209.0  \\\n",
      "0        0  ...      0      0      0      0      0      0      0      0   \n",
      "1        0  ...      0      0      0      0      0      0      0      0   \n",
      "2        0  ...      0      0      0      0      0      0      0      0   \n",
      "3        0  ...      0      0      0      0      0      0      0      0   \n",
      "4        0  ...      0      0      0      0      0      0      0      0   \n",
      "...    ...  ...    ...    ...    ...    ...    ...    ...    ...    ...   \n",
      "22787    0  ...      0      0      0      0      0      0      0      0   \n",
      "22788    0  ...      0      0      0      0      0      0      0      0   \n",
      "22789    0  ...      0      0      0      0      0      0      0      0   \n",
      "22790    0  ...      0      0      0      0      0      0      0      0   \n",
      "22791    0  ...      0      0      0      0      0      0      0      0   \n",
      "\n",
      "       210.0  211.0  \n",
      "0          0      0  \n",
      "1          0      0  \n",
      "2          0      0  \n",
      "3          0      0  \n",
      "4          0      0  \n",
      "...      ...    ...  \n",
      "22787      0      0  \n",
      "22788      0      0  \n",
      "22789      0      0  \n",
      "22790      0      0  \n",
      "22791      0      0  \n",
      "\n",
      "[22777 rows x 183 columns]\n",
      "    neuterYn sexCd  weight  noticeDays  age2  processState  1.0  2.0  3.0  \\\n",
      "0          N     M     0.8          10     0             1    0    0    0   \n",
      "1          N     M     5.0          10     1             0    0    0    0   \n",
      "2          N     F     5.0          10    13             0    0    0    0   \n",
      "3          N     M     5.0          10     3             0    0    0    0   \n",
      "4          N     M    15.0          10     7             0    0    0    0   \n",
      "..       ...   ...     ...         ...   ...           ...  ...  ...  ...   \n",
      "606        Y     M     6.4          11    10             0    0    0    0   \n",
      "607        U     F     1.7          11     0             0    0    0    0   \n",
      "608        U     F     1.7          11     0             1    0    0    0   \n",
      "609        U     F     3.6          11     2             1    0    0    0   \n",
      "610        N     M     3.1          11     2             0    0    0    0   \n",
      "\n",
      "     4.0  ...  202.0  203.0  204.0  205.0  206.0  207.0  208.0  209.0  210.0  \\\n",
      "0      0  ...      0      0      0      0      0      0      0      0      0   \n",
      "1      0  ...      0      0      0      0      0      0      0      0      0   \n",
      "2      0  ...      0      0      0      0      0      0      0      0      0   \n",
      "3      0  ...      0      0      0      0      0      0      0      0      0   \n",
      "4      0  ...      0      0      0      0      0      0      0      0      0   \n",
      "..   ...  ...    ...    ...    ...    ...    ...    ...    ...    ...    ...   \n",
      "606    0  ...      0      0      0      0      0      0      0      0      0   \n",
      "607    0  ...      0      0      0      0      0      0      0      0      0   \n",
      "608    0  ...      0      0      0      0      0      0      0      0      0   \n",
      "609    0  ...      0      0      0      0      0      0      0      0      0   \n",
      "610    0  ...      0      0      0      0      0      0      0      0      0   \n",
      "\n",
      "     211.0  \n",
      "0        0  \n",
      "1        0  \n",
      "2        0  \n",
      "3        0  \n",
      "4        0  \n",
      "..     ...  \n",
      "606      0  \n",
      "607      0  \n",
      "608      0  \n",
      "609      0  \n",
      "610      0  \n",
      "\n",
      "[610 rows x 183 columns]\n"
     ]
    }
   ],
   "source": [
    "# kindNum을 원핫 인코딩\n",
    "kindCd = pd.concat((pd.get_dummies(dog_data.kindNum, columns=kindCd), pd.DataFrame(columns=kindCd))).fillna(0)\n",
    "# kindCd\n",
    "\n",
    "# 학습데이터에서 kindNum 열을 삭제한 후, 원핫 인코딩된 kindCd를 붙임\n",
    "dog_data.drop(['kindNum'], axis='columns', inplace=True)\n",
    "dog_data = pd.concat([dog_data, kindCd], axis=1)\n",
    "\n",
    "\n",
    "# kindNum을 원핫 인코딩\n",
    "kindCd_train = pd.concat((pd.get_dummies(dog_train.kindNum, columns=kindCd_train), pd.DataFrame(columns=kindCd_train))).fillna(0)\n",
    "\n",
    "# 테스트데이터에서 kindNum 열을 삭제한 후, 원핫 인코딩된 kindCd를 붙임\n",
    "dog_train.drop(['kindNum'], axis='columns', inplace=True)\n",
    "dog_train = pd.concat([dog_train, kindCd_train], axis=1)\n",
    "\n",
    "print(dog_data)\n",
    "print(dog_train)"
   ]
  },
  {
   "cell_type": "code",
   "execution_count": 61,
   "metadata": {},
   "outputs": [],
   "source": [
    "def dummy_data(data, columns):\n",
    "    for column in columns:\n",
    "        data = pd.concat([data, pd.get_dummies(data[column], prefix = column)], axis = 1)\n",
    "        data = data.drop(column, axis = 1)\n",
    "    return data"
   ]
  },
  {
   "cell_type": "code",
   "execution_count": 73,
   "metadata": {},
   "outputs": [
    {
     "name": "stdout",
     "output_type": "stream",
     "text": [
      "   weight  noticeDays  age2  processState  1.0  2.0  3.0  4.0  5.0  6.0  ...  \\\n",
      "0    7.46          10    12             0    0    0    0    0    0    0  ...   \n",
      "1    7.00          14     1             1    0    0    0    0    0    0  ...   \n",
      "2    4.50          11     2             0    0    0    0    0    0    0  ...   \n",
      "3   10.00           8     1             0    0    0    0    0    0    0  ...   \n",
      "4    6.00           8     4             0    0    0    0    0    0    0  ...   \n",
      "\n",
      "   208.0  209.0  210.0  211.0  neuterYn_N  neuterYn_U  neuterYn_Y  sexCd_F  \\\n",
      "0      0      0      0      0           1           0           0        1   \n",
      "1      0      0      0      0           1           0           0        0   \n",
      "2      0      0      0      0           0           1           0        0   \n",
      "3      0      0      0      0           1           0           0        0   \n",
      "4      0      0      0      0           1           0           0        0   \n",
      "\n",
      "   sexCd_M  sexCd_Q  \n",
      "0        0        0  \n",
      "1        1        0  \n",
      "2        1        0  \n",
      "3        1        0  \n",
      "4        1        0  \n",
      "\n",
      "[5 rows x 187 columns]\n",
      "   weight  noticeDays  age2  processState  1.0  2.0  3.0  4.0  5.0  6.0  ...  \\\n",
      "0     0.8          10     0             1    0    0    0    0    0    0  ...   \n",
      "1     5.0          10     1             0    0    0    0    0    0    0  ...   \n",
      "2     5.0          10    13             0    0    0    0    0    0    0  ...   \n",
      "3     5.0          10     3             0    0    0    0    0    0    0  ...   \n",
      "4    15.0          10     7             0    0    0    0    0    0    0  ...   \n",
      "\n",
      "   208.0  209.0  210.0  211.0  neuterYn_N  neuterYn_U  neuterYn_Y  sexCd_F  \\\n",
      "0      0      0      0      0           1           0           0        0   \n",
      "1      0      0      0      0           1           0           0        0   \n",
      "2      0      0      0      0           1           0           0        1   \n",
      "3      0      0      0      0           1           0           0        0   \n",
      "4      0      0      0      0           1           0           0        0   \n",
      "\n",
      "   sexCd_M  sexCd_Q  \n",
      "0        1        0  \n",
      "1        1        0  \n",
      "2        0        0  \n",
      "3        1        0  \n",
      "4        1        0  \n",
      "\n",
      "[5 rows x 187 columns]\n"
     ]
    }
   ],
   "source": [
    "dummy_columns = [\"neuterYn\", \"sexCd\"]\n",
    "data = dummy_data(dog_data, dummy_columns)\n",
    "train_data = dummy_data(dog_train, dummy_columns)\n",
    "\n",
    "print(data.head())\n",
    "print(train_data.head())\n",
    "\n",
    "data = np.array(data, dtype = np.float64)\n",
    "train_data = np.array(train_data, dtype = np.float64)"
   ]
  },
  {
   "cell_type": "code",
   "execution_count": 74,
   "metadata": {},
   "outputs": [],
   "source": [
    "a = data[:, :3]\n",
    "b = data[:, 4:]\n",
    "\n",
    "#numpy 배열에서 데이터 변화요인(kindCd, neuterYn, sexCd, weight, noticeDays, age2)으로 사용할 데이터를 뽑아냅니다.\n",
    "xData = np.concatenate([a, b], axis = 1)\n",
    "\n",
    "a=train_data[:, :3]\n",
    "b=train_data[:, 4:]\n",
    "\n",
    "testX=np.concatenate([a, b], axis = 1)"
   ]
  },
  {
   "cell_type": "code",
   "execution_count": 77,
   "metadata": {},
   "outputs": [],
   "source": [
    "#numpy배열에서 결과(입양여부)로 사용할 데이터를 뽑아냅니다.\n",
    "yData=data[:,[3]]\n",
    "testY=train_data[:,[3]]"
   ]
  },
  {
   "cell_type": "code",
   "execution_count": 78,
   "metadata": {},
   "outputs": [],
   "source": [
    "def model_performance(y_test, y_pred):    \n",
    "    print('confusion matrix')\n",
    "    print(metrics.confusion_matrix(y_test, y_pred))\n",
    "    print('accuracy : {}'.format(metrics.accuracy_score(y_test, y_pred)))\n",
    "    print('precision : {}'.format(metrics.precision_score(y_test, y_pred)))\n",
    "    print('recall : {}'.format(metrics.recall_score(y_test, y_pred)))\n",
    "    print('F1 : {}'.format(metrics.f1_score(y_test, y_pred)))"
   ]
  },
  {
   "cell_type": "code",
   "execution_count": 79,
   "metadata": {},
   "outputs": [
    {
     "name": "stderr",
     "output_type": "stream",
     "text": [
      "C:\\Users\\auddu\\anaconda3\\envs\\auddus\\lib\\site-packages\\ipykernel_launcher.py:2: DataConversionWarning: A column-vector y was passed when a 1d array was expected. Please change the shape of y to (n_samples,), for example using ravel().\n",
      "  \n"
     ]
    },
    {
     "name": "stdout",
     "output_type": "stream",
     "text": [
      "confusion matrix\n",
      "[[10948  1460]\n",
      " [ 2361  8008]]\n",
      "accuracy : 0.8322430522017825\n",
      "precision : 0.8457963667089142\n",
      "recall : 0.7723020542000193\n",
      "F1 : 0.8073801482078944\n"
     ]
    }
   ],
   "source": [
    "model = RandomForestClassifier(n_estimators=100)\n",
    "rf_model=model.fit(xData, yData)\n",
    "y_pred = rf_model.predict(xData)\n",
    "model_performance(yData, y_pred)"
   ]
  },
  {
   "cell_type": "code",
   "execution_count": 80,
   "metadata": {},
   "outputs": [
    {
     "data": {
      "text/plain": [
       "array([[0.        , 1.        ],\n",
       "       [0.64494874, 0.35505126],\n",
       "       [0.5       , 0.5       ],\n",
       "       [0.44796212, 0.55203788],\n",
       "       [0.90261905, 0.09738095],\n",
       "       [0.90261905, 0.09738095]])"
      ]
     },
     "execution_count": 80,
     "metadata": {},
     "output_type": "execute_result"
    }
   ],
   "source": [
    "rf_model.predict_proba(testX[:6])"
   ]
  },
  {
   "cell_type": "code",
   "execution_count": 81,
   "metadata": {},
   "outputs": [
    {
     "data": {
      "text/plain": [
       "['randomforest.pkl']"
      ]
     },
     "execution_count": 81,
     "metadata": {},
     "output_type": "execute_result"
    }
   ],
   "source": [
    "joblib.dump(rf_model, 'randomforest.pkl')"
   ]
  }
 ],
 "metadata": {
  "kernelspec": {
   "display_name": "Python 3",
   "language": "python",
   "name": "python3"
  },
  "language_info": {
   "codemirror_mode": {
    "name": "ipython",
    "version": 3
   },
   "file_extension": ".py",
   "mimetype": "text/x-python",
   "name": "python",
   "nbconvert_exporter": "python",
   "pygments_lexer": "ipython3",
   "version": "3.6.10"
  }
 },
 "nbformat": 4,
 "nbformat_minor": 4
}
