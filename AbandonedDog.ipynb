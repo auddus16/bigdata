{
 "cells": [
  {
   "cell_type": "code",
   "execution_count": 120,
   "metadata": {},
   "outputs": [],
   "source": [
    "import tensorflow.compat.v1 as tf\n",
    "from tensorflow import feature_column\n",
    "from tensorflow.keras import layers\n",
    "tf.disable_v2_behavior()\n",
    "import numpy as np\n",
    "import pandas as pd\n",
    "import matplotlib.pyplot as plt\n",
    "import seaborn as sb\n",
    "\n",
    "%matplotlib inline"
   ]
  },
  {
   "cell_type": "code",
   "execution_count": 121,
   "metadata": {},
   "outputs": [
    {
     "name": "stdout",
     "output_type": "stream",
     "text": [
      "  kindCd  kindNum neuterYn sexCd  weight  noticeDays  age2  processState  \\\n",
      "0     푸들    128.0        N     F    7.46          10    12             0   \n",
      "1    믹스견    114.0        N     M    7.00          14     1             1   \n",
      "2    믹스견    114.0        U     M    4.50          11     2             0   \n",
      "3    진도견     67.0        N     M   10.00           8     1             0   \n",
      "4    믹스견    114.0        N     M    6.00           8     4             0   \n",
      "\n",
      "   Unnamed: 8   kindCd.1  kindNum.1  \n",
      "0         NaN    골든 리트리버       54.0  \n",
      "1         NaN    그레이 하운드       56.0  \n",
      "2         NaN     그레이트 덴       55.0  \n",
      "3         NaN  그레이트 피레니즈      118.0  \n",
      "4         NaN         기타      115.0  \n"
     ]
    }
   ],
   "source": [
    "#doginfo.csv파일 데이터를 pandas를 이용해 읽어옵니다.\n",
    "dog_data=pd.read_csv(\"doginfo.csv\")\n",
    "print(dog_data.head())\n"
   ]
  },
  {
   "cell_type": "code",
   "execution_count": 122,
   "metadata": {},
   "outputs": [],
   "source": [
    "# example_batch= next(iter(train_ds))[0]\n",
    "# def demo(feature_column):\n",
    "#     feature_layer = layers.DenseFeatures(feature_column)\n",
    "#     print(feature_layer(example_batch).numpy())"
   ]
  },
  {
   "cell_type": "code",
   "execution_count": 123,
   "metadata": {},
   "outputs": [
    {
     "name": "stdout",
     "output_type": "stream",
     "text": [
      "[[128.   0.   1. ...  10.  12.   0.]\n",
      " [114.   0.   0. ...  14.   1.   1.]\n",
      " [114.   1.   0. ...  11.   2.   0.]\n",
      " ...\n",
      " [114.   0.   0. ...  10.   0.   1.]\n",
      " [128.   1.   1. ...  12.   3.   0.]\n",
      " [114.   0.   0. ...  10.   0.   0.]]\n",
      "<class 'numpy.ndarray'>\n"
     ]
    }
   ],
   "source": [
    "# kindCd_embedding=feature_column.embedding_column(kindCd, dimension=114)\n",
    "# demo(kindCd_embedding)\n",
    "\n",
    "#읽어온 데이터를 파이썬에서 처리하기 적합하게 numpy 배열 형태로 변환합니다.\n",
    "\n",
    "dog_data.loc[dog_data[\"neuterYn\"] == \"N\", \"neuterYn\"] = 0\n",
    "dog_data.loc[dog_data[\"neuterYn\"] == \"U\", \"neuterYn\"] = 1\n",
    "dog_data.loc[dog_data[\"neuterYn\"] == \"Y\", \"neuterYn\"] = 2\n",
    "\n",
    "dog_data.loc[dog_data[\"sexCd\"] == \"M\", \"sexCd\"] = 0\n",
    "dog_data.loc[dog_data[\"sexCd\"] == \"F\", \"sexCd\"] = 1\n",
    "dog_data.loc[dog_data[\"sexCd\"] == \"Q\", \"sexCd\"] = 2\n",
    "\n",
    "# del dog_data['kindCd']\n",
    "# del dog_data['kindCd.1']\n",
    "\n",
    "dog_data.drop(['kindCd', 'Unnamed: 8', 'kindCd.1', 'kindNum.1'], axis='columns', inplace=True)\n",
    "\n",
    "\n",
    "data=np.array(dog_data, dtype=np.float32)\n",
    "\n",
    "\n",
    "print(data)\n",
    "print(type(data))"
   ]
  },
  {
   "cell_type": "code",
   "execution_count": 124,
   "metadata": {},
   "outputs": [
    {
     "name": "stdout",
     "output_type": "stream",
     "text": [
      "[[128.     0.     1.     7.46  10.    12.  ]\n",
      " [114.     0.     0.     7.    14.     1.  ]\n",
      " [114.     1.     0.     4.5   11.     2.  ]\n",
      " ...\n",
      " [114.     0.     0.     1.    10.     0.  ]\n",
      " [128.     1.     1.     6.    12.     3.  ]\n",
      " [114.     0.     0.     3.5   10.     0.  ]]\n"
     ]
    }
   ],
   "source": [
    "#numpy 배열에서 데이터 변화요인(kindCd, neuterYn, sexCd, weight, noticeDays, age2)으로 사용할 데이터를 뽑아냅니다.\n",
    "xData=data[:, :6]\n",
    "print(xData)"
   ]
  },
  {
   "cell_type": "code",
   "execution_count": 125,
   "metadata": {},
   "outputs": [
    {
     "name": "stdout",
     "output_type": "stream",
     "text": [
      "[[0.]\n",
      " [1.]\n",
      " [0.]\n",
      " ...\n",
      " [1.]\n",
      " [0.]\n",
      " [0.]]\n"
     ]
    }
   ],
   "source": [
    "#numpy배열에서 결과(입양여부)로 사용할 데이터를 뽑아냅니다.\n",
    "yData=data[:,[6]]\n",
    "print(yData)"
   ]
  },
  {
   "cell_type": "code",
   "execution_count": 129,
   "metadata": {},
   "outputs": [],
   "source": [
    "#뽑아낸 데이터를 tensorflow로 처리하기 위해 placeholder를 만듭니다.\n",
    "X=tf.placeholder(dtype=tf.float32, shape=[None, 6])\n",
    "Y=tf.placeholder(dtype=tf.float32, shape=[None, 1])\n",
    "#다변인 선형 회귀 모델의 기울기와 y절편을 임의의 값으로 초기화합니다.\n",
    "a=tf.Variable(tf.random_uniform([6, 1], dtype=tf.float32))#6행 1열 난수를 발생시킵니다.\n",
    "b=tf.Variable(tf.random_uniform([1], dtype=tf.float32)) #1행 1열 난수를 발생시킵니다.\n",
    "# print(X)\n",
    "# print(a)"
   ]
  },
  {
   "cell_type": "code",
   "execution_count": 135,
   "metadata": {},
   "outputs": [],
   "source": [
    "# #행렬의 곱셈 연산을 이용해 다변인 성형 회귀 모델의 가설 식을 세웁니다. ->예측값\n",
    "# y=tf.matmul(X, a)+b\n",
    "# #y=tf.clip_by_value(y, 1e-5, 1-(1e-5))\n",
    "\n",
    "# #오차 함수를 만듭니다.\n",
    "# loss= tf.reduce_mean(tf.square(y-Y))\n",
    "# #loss= tf.clip_by_value(loss, 1e-5, 1-(1e-5))\n",
    "\n",
    "# #경사하강법 알고리즘을 사용해서 오차 함수 결과를 최소로 하는 식을 만듭니다. \n",
    "# gradient_descent=tf.train.GradientDescentOptimizer(0.1).minimize(loss)\n",
    "\n",
    "\n",
    "# 시그모이드 방정식을 만듭니다.\n",
    "y = tf.sigmoid(tf.matmul(X, a) + b)\n",
    "# 오차 함수\n",
    "loss = -tf.reduce_mean(Y * tf.log(y) + (1 - Y) * tf.log(1 - y))\n",
    "# 경사 하강 알고리즘\n",
    "gradient_descent = tf.train.GradientDescentOptimizer(0.01).minimize(loss)"
   ]
  },
  {
   "cell_type": "code",
   "execution_count": 136,
   "metadata": {},
   "outputs": [],
   "source": [
    "# sigmoid() 함수의 실행 결과(y) 값이 0.5 이상이면 1을 0.5 미만이면 0을 리턴시킵니다.\n",
    "# tf.cast(캐스팅할 데이터, dtype=캐스팅 될 데이터 타입) : tensorflow에서 형변환을 실행하는 함수\n",
    "# predicted = tf.cast(tf.constant([1.9, 2.1]), dtype=tf.int32)  # [1, 2] -> 실수(부동소수점 데이터)를 정수형 데이터로 변경합니다.\n",
    "# predicted = tf.cast(0.4 >= 0.5, dtype = tf.float64)  # 조건 비교 결과가 False이므로 0으로 캐스팅\n",
    "# predicted = tf.cast(0.5 >= 0.5, dtype = tf.float64)  # 조건 비교 결과가 True이므로 1으로 캐스팅\n",
    "\n",
    "predicted = tf.cast(y >= 0.5, dtype = tf.float32)\n",
    "\n",
    "# 예상값이 실제값과 일치하는 정도(정확도)를 계산합니다.\n",
    "# tf.equal(): tensorflow에서 인수로 지정된 값이 같으면 True, 다르면 False 결과를 tf.float64로 캐스팅 시키고 시행된 전체 평균을 계산합니다.\n",
    "accuracy = tf.reduce_mean(tf.cast(tf.equal(predicted, Y), dtype = tf.float64))  # 정확도 (0 또는 1)"
   ]
  },
  {
   "cell_type": "code",
   "execution_count": 137,
   "metadata": {},
   "outputs": [
    {
     "name": "stdout",
     "output_type": "stream",
     "text": [
      "count : 0, a1 = [nan], a2 = [nan], a3 = [nan], a4 = [nan], a5 = [nan], a6 = [nan], b = [nan], loss = nan\n",
      "count : 300, a1 = [nan], a2 = [nan], a3 = [nan], a4 = [nan], a5 = [nan], a6 = [nan], b = [nan], loss = nan\n",
      "count : 600, a1 = [nan], a2 = [nan], a3 = [nan], a4 = [nan], a5 = [nan], a6 = [nan], b = [nan], loss = nan\n",
      "count : 900, a1 = [nan], a2 = [nan], a3 = [nan], a4 = [nan], a5 = [nan], a6 = [nan], b = [nan], loss = nan\n",
      "count : 1200, a1 = [nan], a2 = [nan], a3 = [nan], a4 = [nan], a5 = [nan], a6 = [nan], b = [nan], loss = nan\n",
      "count : 1500, a1 = [nan], a2 = [nan], a3 = [nan], a4 = [nan], a5 = [nan], a6 = [nan], b = [nan], loss = nan\n",
      "count : 1800, a1 = [nan], a2 = [nan], a3 = [nan], a4 = [nan], a5 = [nan], a6 = [nan], b = [nan], loss = nan\n",
      "count : 2100, a1 = [nan], a2 = [nan], a3 = [nan], a4 = [nan], a5 = [nan], a6 = [nan], b = [nan], loss = nan\n",
      "count : 2400, a1 = [nan], a2 = [nan], a3 = [nan], a4 = [nan], a5 = [nan], a6 = [nan], b = [nan], loss = nan\n",
      "count : 2700, a1 = [nan], a2 = [nan], a3 = [nan], a4 = [nan], a5 = [nan], a6 = [nan], b = [nan], loss = nan\n",
      "count : 3000, a1 = [nan], a2 = [nan], a3 = [nan], a4 = [nan], a5 = [nan], a6 = [nan], b = [nan], loss = nan\n"
     ]
    }
   ],
   "source": [
    "# #학습을 시킨 후 학습된 모델을 저장합니다.\n",
    "# with tf.Session() as sess:\n",
    "#     sess.run(tf.global_variables_initializer())\n",
    "#     for i in range(10001):\n",
    "#         loss_, y_, _ = sess.run([loss, y, gradient_descent], feed_dict={X:xData, Y:yData})\n",
    "#         if i % 500 ==0:\n",
    "#             print(\"count:%6d, loss=%12.3f. print=%6.1f\" %(i, loss_, y_[0]))\n",
    "\n",
    "\n",
    "with tf.Session() as sess:  # 세션 구간을 만듦\n",
    "    sess.run(tf.global_variables_initializer())\n",
    "    for i in range(3001):\n",
    "        # count : 학습 횟수, a1 : 기울기(공부 시간), a2 : 기울기(과외 시간), b : y절편, loss : 오차 함수\n",
    "        a_, b_, loss_, _ = sess.run([a, b, loss, gradient_descent], feed_dict = {X:xData, Y:yData})\n",
    "        if i % 300 == 0:\n",
    "            print('count : {}, a1 = {}, a2 = {}, a3 = {}, a4 = {}, a5 = {}, a6 = {}, b = {}, loss = {}'.format(i, a_[0], a_[1], a_[2], a_[3], a_[4], a_[5], b_, loss_)) # 학습시킨 데이터 출력\n",
    "            \n",
    "# 학습 완료 -----------------------------------------------------------------------------------------------------\n",
    "# 테스트 데이터\n",
    "\n",
    "#     new_x = np.array([6, 5]).reshape(1, 6)  # reshape() 함수를 이용해서 1행 2열인 2차원 numpy 배열을 만듭니다.\n",
    "    \n",
    "#     # sigmoid() 함수 연산 결과에 테스트 데이터를 대입시켜 연산합니다.\n",
    "#     result, new_y = sess.run([predicted, y], feed_dict = {X:new_x})\n",
    "#     print('공부 시간 : %d, 과외 시간 : %d' % (new_x[:, 0], new_x[:, 1]))\n",
    "#     print('합격 여부(sigmoid() 함수 실행 결과를 0.5 이상은 1, 미만은 0으로 반환) : %d, 합격 확률(sigmoid() 함수 실행 결과) : %f)' % (result, new_y))\n",
    "    \n",
    "#     for i in range(11):\n",
    "# #         new_x = np.array([0, i]).reshape(1, 6)  # 과외 시간만 계속 늘림\n",
    "#         result, new_y = sess.run([predicted, y], feed_dict={X:new_x})\n",
    "# #         print('품종 : %d, 과외 시간 : %2d, ' % (new_x[:, 0], new_x[:, 1]), end=',')\n",
    "#         print('입양 여부 : %s, 입양 확률 : %8.4f%%' % ('합격' if result == 1 else '불합격', new_y*100))\n",
    "\n",
    "\n",
    "# 학습이 완료되면 학습된 모델을 디스크에 저장합니다.\n",
    "# tf.train.Saver(): 학습된 모델을 디스트로 저장 또는 불로오는 객체를 생성하는 함수\n",
    "    saver= tf.train.Saver()\n",
    "    saver_path=saver.save(sess, './dogsave.ckpt')"
   ]
  }
 ],
 "metadata": {
  "kernelspec": {
   "display_name": "Python 3",
   "language": "python",
   "name": "python3"
  },
  "language_info": {
   "codemirror_mode": {
    "name": "ipython",
    "version": 3
   },
   "file_extension": ".py",
   "mimetype": "text/x-python",
   "name": "python",
   "nbconvert_exporter": "python",
   "pygments_lexer": "ipython3",
   "version": "3.7.7"
  }
 },
 "nbformat": 4,
 "nbformat_minor": 4
}
