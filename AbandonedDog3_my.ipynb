{
 "cells": [
  {
   "cell_type": "code",
   "execution_count": 1,
   "metadata": {},
   "outputs": [
    {
     "name": "stdout",
     "output_type": "stream",
     "text": [
      "WARNING:tensorflow:From C:\\Users\\auddu\\anaconda3\\envs\\auddus\\lib\\site-packages\\tensorflow_core\\python\\compat\\v2_compat.py:68: disable_resource_variables (from tensorflow.python.ops.variable_scope) is deprecated and will be removed in a future version.\n",
      "Instructions for updating:\n",
      "non-resource variables are not supported in the long term\n"
     ]
    }
   ],
   "source": [
    "import tensorflow.compat.v1 as tf\n",
    "tf.disable_v2_behavior()\n",
    "tf.enable_eager_execution()\n",
    "\n",
    "# import tensorflow as tf\n",
    "# import tensorflow.contrib.eager as tfe\n",
    "\n",
    "# tfe.enable_eager_execution()\n",
    "\n",
    "from tensorflow import feature_column\n",
    "from tensorflow.keras import layers\n",
    "from tensorflow import keras\n",
    "import tensorflow_datasets as tfds\n",
    "tfds.disable_progress_bar()\n",
    "# tf.disable_v2_behavior()\n",
    "\n",
    "import numpy as np\n",
    "import pandas as pd\n",
    "import matplotlib.pyplot as plt\n",
    "import seaborn as sb\n",
    "from sklearn.model_selection import train_test_split\n",
    "\n",
    "%matplotlib inline"
   ]
  },
  {
   "cell_type": "code",
   "execution_count": 6,
   "metadata": {},
   "outputs": [
    {
     "name": "stdout",
     "output_type": "stream",
     "text": [
      "      kindCd neuterYn sexCd  weight  noticeDays  age2  processState\n",
      "0         푸들        N     F    7.46          10    12             0\n",
      "1        믹스견        N     M    7.00          14     1             1\n",
      "2        믹스견        U     M    4.50          11     2             0\n",
      "3        진도견        N     M   10.00           8     1             0\n",
      "4        믹스견        N     M    6.00           8     4             0\n",
      "...      ...      ...   ...     ...         ...   ...           ...\n",
      "22787    믹스견        N     M    1.00          10     0             1\n",
      "22788    믹스견        N     M    1.00          10     0             1\n",
      "22789    믹스견        N     M    1.00          10     0             1\n",
      "22790     푸들        U     F    6.00          12     3             0\n",
      "22791    믹스견        N     M    3.50          10     0             0\n",
      "\n",
      "[22792 rows x 7 columns]\n"
     ]
    }
   ],
   "source": [
    "dataframe = pd.read_csv(\"doginfo.csv\")\n",
    "#dataframe.head()\n",
    "print(dataframe)"
   ]
  },
  {
   "cell_type": "code",
   "execution_count": 7,
   "metadata": {},
   "outputs": [],
   "source": [
    "# # 특성 열을 만들고 배치 데이터를 변환하는 함수\n",
    "# def demo(feature_column):\n",
    "#   feature_layer = layers.DenseFeatures(feature_column)\n",
    "#   print(feature_layer(example_batch).numpy())"
   ]
  },
  {
   "cell_type": "code",
   "execution_count": 14,
   "metadata": {},
   "outputs": [
    {
     "ename": "AttributeError",
     "evalue": "'list' object has no attribute 'numpy'",
     "output_type": "error",
     "traceback": [
      "\u001b[1;31m---------------------------------------------------------------------------\u001b[0m",
      "\u001b[1;31mAttributeError\u001b[0m                            Traceback (most recent call last)",
      "\u001b[1;32m<ipython-input-14-1cb36d26b624>\u001b[0m in \u001b[0;36m<module>\u001b[1;34m\u001b[0m\n\u001b[0;32m     24\u001b[0m \u001b[1;31m# demo(feature_column.indicator_column(kindCd_hashed))\u001b[0m\u001b[1;33m\u001b[0m\u001b[1;33m\u001b[0m\u001b[1;33m\u001b[0m\u001b[0m\n\u001b[0;32m     25\u001b[0m \u001b[1;33m\u001b[0m\u001b[0m\n\u001b[1;32m---> 26\u001b[1;33m \u001b[0mprint\u001b[0m\u001b[1;33m(\u001b[0m\u001b[0mfeature_columns\u001b[0m\u001b[1;33m.\u001b[0m\u001b[0mnumpy\u001b[0m\u001b[1;33m(\u001b[0m\u001b[1;33m)\u001b[0m\u001b[1;33m)\u001b[0m\u001b[1;33m\u001b[0m\u001b[1;33m\u001b[0m\u001b[0m\n\u001b[0m\u001b[0;32m     27\u001b[0m \u001b[1;33m\u001b[0m\u001b[0m\n\u001b[0;32m     28\u001b[0m \u001b[1;31m#demo(neuterYn_one_hot)\u001b[0m\u001b[1;33m\u001b[0m\u001b[1;33m\u001b[0m\u001b[1;33m\u001b[0m\u001b[0m\n",
      "\u001b[1;31mAttributeError\u001b[0m: 'list' object has no attribute 'numpy'"
     ]
    }
   ],
   "source": [
    "feature_columns=[]\n",
    "neuterYn = feature_column.categorical_column_with_vocabulary_list(\n",
    "      'neuterYn', ['N', 'U', 'Y'])\n",
    "\n",
    "neuterYn_one_hot = feature_column.indicator_column(neuterYn)\n",
    "feature_columns.append(neuterYn_one_hot)\n",
    "# demo(neuterYn_one_hot)\n",
    "\n",
    "sexCd = feature_column.categorical_column_with_vocabulary_list(\n",
    "      'sexCd', ['F', 'M', 'Q'])\n",
    "\n",
    "sexCd_one_hot = feature_column.indicator_column(sexCd)\n",
    "feature_columns.append(sexCd_one_hot)\n",
    "# demo(sexCd_one_hot)\n",
    "\n",
    "# kindCd = feature_column.categorical_column_with_vocabulary_list(\n",
    "#       'kindCd', ['푸들', '믹스견', '말티즈'])\n",
    "\n",
    "# kindCd_one_hot = feature_column.indicator_column(kindCd)\n",
    "# feature_columns.append(kindCd_one_hot)\n",
    "\n",
    "kindCd_hashed= feature_column.categorical_column_with_hash_bucket('kindCd', hash_bucket_size=1000)\n",
    "feature_columns.append(kindCd_hashed)\n",
    "# demo(feature_column.indicator_column(kindCd_hashed))\n",
    "\n",
    "print(feature_columns.numpy())\n",
    "\n",
    "#demo(neuterYn_one_hot)"
   ]
  },
  {
   "cell_type": "code",
   "execution_count": null,
   "metadata": {},
   "outputs": [],
   "source": []
  },
  {
   "cell_type": "code",
   "execution_count": 9,
   "metadata": {},
   "outputs": [],
   "source": [
    "for header in ['weight', 'noticeDays', 'age2']:\n",
    "    feature_columns.append(feature_column.numeric_column(header))"
   ]
  },
  {
   "cell_type": "code",
   "execution_count": 21,
   "metadata": {},
   "outputs": [
    {
     "name": "stdout",
     "output_type": "stream",
     "text": [
      "[[ 0.    1.    0.    0.   10.    0.    1.    0.    1.7 ]\n",
      " [ 3.    1.    0.    0.   10.    0.    1.    0.    6.5 ]\n",
      " [ 0.    0.    1.    0.   11.    0.    1.    0.    6.28]\n",
      " [ 0.    1.    0.    0.   10.    1.    0.    0.    1.  ]\n",
      " [ 2.    1.    0.    0.   10.    0.    1.    0.    4.  ]]\n",
      "<tensorflow.python.feature_column.dense_features.DenseFeatures object at 0x0000018ED53787F0>\n"
     ]
    }
   ],
   "source": [
    "# 임베딩 열의 입력은 앞서 만든 범주형 열입니다.\n",
    "# kindCd_embedding = feature_column.embedding_column(kindCd, dimension=114)\n",
    "# demo(kindCd_embedding)\n"
   ]
  },
  {
   "cell_type": "code",
   "execution_count": 11,
   "metadata": {},
   "outputs": [],
   "source": [
    "feature_layer=tf.keras.layers.DenseFeatures(feature_columns)"
   ]
  },
  {
   "cell_type": "code",
   "execution_count": 13,
   "metadata": {},
   "outputs": [],
   "source": [
    "batch_size = 32\n",
    "train_ds = df_to_dataset(train, batch_size=batch_size)\n",
    "val_ds = df_to_dataset(val, shuffle=False, batch_size=batch_size)\n",
    "test_ds = df_to_dataset(test, shuffle=False, batch_size=batch_size)\n",
    "\n",
    "print(feature_layer())"
   ]
  },
  {
   "cell_type": "code",
   "execution_count": 15,
   "metadata": {},
   "outputs": [
    {
     "name": "stdout",
     "output_type": "stream",
     "text": [
      "Epoch 1/5\n",
      "456/456 [==============================] - 3s 7ms/step - loss: 0.6718 - acc: 0.5937 - val_loss: 0.0000e+00 - val_acc: 0.0000e+00\n",
      "Epoch 2/5\n",
      "456/456 [==============================] - 2s 5ms/step - loss: 0.6626 - acc: 0.6063 - val_loss: 0.6583 - val_acc: 0.6046\n",
      "Epoch 3/5\n",
      "456/456 [==============================] - 1s 3ms/step - loss: 0.6595 - acc: 0.6104 - val_loss: 0.6599 - val_acc: 0.6046\n",
      "Epoch 4/5\n",
      "456/456 [==============================] - 1s 3ms/step - loss: 0.6574 - acc: 0.6135 - val_loss: 0.6562 - val_acc: 0.6106\n",
      "Epoch 5/5\n",
      "456/456 [==============================] - 1s 3ms/step - loss: 0.6562 - acc: 0.6140 - val_loss: 0.6548 - val_acc: 0.6139\n"
     ]
    },
    {
     "data": {
      "text/plain": [
       "<tensorflow.python.keras.callbacks.History at 0x18ed8a01208>"
      ]
     },
     "execution_count": 15,
     "metadata": {},
     "output_type": "execute_result"
    }
   ],
   "source": [
    "model = tf.keras.Sequential([\n",
    "  feature_layer,\n",
    "  layers.Dense(128, activation='relu'),\n",
    "  layers.Dense(128, activation='relu'),\n",
    "  layers.Dense(1, activation='sigmoid')\n",
    "])\n",
    "\n",
    "model.compile(optimizer='adam',\n",
    "              loss='binary_crossentropy',\n",
    "              metrics=['accuracy'])\n",
    "\n",
    "model.fit(train_ds,\n",
    "          validation_data=val_ds,\n",
    "          epochs=5)"
   ]
  },
  {
   "cell_type": "code",
   "execution_count": 16,
   "metadata": {},
   "outputs": [
    {
     "name": "stdout",
     "output_type": "stream",
     "text": [
      "143/143 [==============================] - 0s 3ms/step - loss: 0.6525 - acc: 0.6140\n",
      "정확도 0.61395043\n"
     ]
    }
   ],
   "source": [
    "loss, accuracy = model.evaluate(test_ds)\n",
    "print(\"정확도\", accuracy)"
   ]
  }
 ],
 "metadata": {
  "kernelspec": {
   "display_name": "Python 3",
   "language": "python",
   "name": "python3"
  },
  "language_info": {
   "codemirror_mode": {
    "name": "ipython",
    "version": 3
   },
   "file_extension": ".py",
   "mimetype": "text/x-python",
   "name": "python",
   "nbconvert_exporter": "python",
   "pygments_lexer": "ipython3",
   "version": "3.6.10"
  }
 },
 "nbformat": 4,
 "nbformat_minor": 4
}
