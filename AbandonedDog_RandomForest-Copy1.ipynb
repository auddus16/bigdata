{
 "cells": [
  {
   "cell_type": "code",
   "execution_count": 34,
   "metadata": {},
   "outputs": [],
   "source": [
    "from sklearn.ensemble import RandomForestClassifier\n",
    "from sklearn import metrics\n",
    "import joblib\n",
    "import numpy as np\n",
    "import pandas as pd\n",
    "import matplotlib.pyplot as plt\n",
    "%matplotlib inline"
   ]
  },
  {
   "cell_type": "code",
   "execution_count": 35,
   "metadata": {
    "scrolled": true
   },
   "outputs": [
    {
     "name": "stdout",
     "output_type": "stream",
     "text": [
      "      neuterYn sexCd  weight  noticeDays  age2  processState\n",
      "0            N     F    7.46          10    12             0\n",
      "1            N     M    7.00          14     1             1\n",
      "2            U     M    4.50          11     2             0\n",
      "3            N     M   10.00           8     1             0\n",
      "4            N     M    6.00           8     4             0\n",
      "...        ...   ...     ...         ...   ...           ...\n",
      "22787        N     M    1.00          10     0             1\n",
      "22788        N     M    1.00          10     0             1\n",
      "22789        N     M    1.00          10     0             1\n",
      "22790        U     F    6.00          12     3             0\n",
      "22791        N     M    3.50          10     0             0\n",
      "\n",
      "[22792 rows x 6 columns]\n",
      "    neuterYn sexCd  weight  noticeDays  age2  processState\n",
      "0          N     M     0.8          10     0             1\n",
      "1          N     M     5.0          10     1             0\n",
      "2          N     F     5.0          10    13             0\n",
      "3          N     M     5.0          10     3             0\n",
      "4          N     M    15.0          10     7             0\n",
      "..       ...   ...     ...         ...   ...           ...\n",
      "606        Y     M     6.4          11    10             0\n",
      "607        U     F     1.7          11     0             0\n",
      "608        U     F     1.7          11     0             1\n",
      "609        U     F     3.6          11     2             1\n",
      "610        N     M     3.1          11     2             0\n",
      "\n",
      "[611 rows x 6 columns]\n",
      "     kindCd\n",
      "0        54\n",
      "1        56\n",
      "2        55\n",
      "3       118\n",
      "4       115\n",
      "..      ...\n",
      "172     135\n",
      "173     206\n",
      "174     130\n",
      "175     134\n",
      "176     111\n",
      "\n",
      "[177 rows x 1 columns]\n"
     ]
    }
   ],
   "source": [
    "#doginfo.csv파일 데이터를 pandas를 이용해 읽어옵니다.\n",
    "dog_data=pd.read_csv(\"doginfo2.csv\")\n",
    "dog_train=pd.read_csv(\"testDog2.csv\")\n",
    "kindCd=pd.read_csv(\"kindCd.csv\")\n",
    "\n",
    "dog_data = dog_data.dropna(axis=0)\n",
    "dog_train = dog_train.dropna(axis=0)\n",
    "kindCd_data = kindCd.dropna(axis=0)\n",
    "\n",
    "print(dog_data)\n",
    "print(dog_train)\n",
    "print(kindCd_data)"
   ]
  },
  {
   "cell_type": "code",
   "execution_count": 36,
   "metadata": {},
   "outputs": [],
   "source": [
    "# kindCd = np.array(kindCd_data, dtype = np.float64)\n",
    "# kindCd_train=np.array(kindCd_data, dtype=np.float64)\n",
    "\n",
    "# kindCd = kindCd.reshape(177)\n",
    "# kindCd_train=kindCd_train.reshape(177)\n",
    "\n",
    "# print(kindCd)\n",
    "# print(kindCd.shape)"
   ]
  },
  {
   "cell_type": "code",
   "execution_count": 37,
   "metadata": {
    "scrolled": true
   },
   "outputs": [],
   "source": [
    "# # kindNum을 원핫 인코딩\n",
    "# kindCd = pd.concat((pd.get_dummies(dog_data.kindNum, columns=kindCd), pd.DataFrame(columns=kindCd))).fillna(0)\n",
    "# # kindCd\n",
    "\n",
    "# # 학습데이터에서 kindNum 열을 삭제한 후, 원핫 인코딩된 kindCd를 붙임\n",
    "# dog_data.drop(['kindNum'], axis='columns', inplace=True)\n",
    "# dog_data = pd.concat([dog_data, kindCd], axis=1)\n",
    "\n",
    "\n",
    "# # kindNum을 원핫 인코딩\n",
    "# kindCd_train = pd.concat((pd.get_dummies(dog_train.kindNum, columns=kindCd_train), pd.DataFrame(columns=kindCd_train))).fillna(0)\n",
    "\n",
    "# # 테스트데이터에서 kindNum 열을 삭제한 후, 원핫 인코딩된 kindCd를 붙임\n",
    "# dog_train.drop(['kindNum'], axis='columns', inplace=True)\n",
    "# dog_train = pd.concat([dog_train, kindCd_train], axis=1)\n",
    "\n",
    "# print(dog_data)\n",
    "# print(dog_train)"
   ]
  },
  {
   "cell_type": "code",
   "execution_count": 38,
   "metadata": {},
   "outputs": [],
   "source": [
    "def dummy_data(data, columns):\n",
    "    for column in columns:\n",
    "        data = pd.concat([data, pd.get_dummies(data[column], prefix = column)], axis = 1)\n",
    "        data = data.drop(column, axis = 1)\n",
    "    return data"
   ]
  },
  {
   "cell_type": "code",
   "execution_count": 39,
   "metadata": {},
   "outputs": [
    {
     "name": "stdout",
     "output_type": "stream",
     "text": [
      "   weight  noticeDays  age2  processState  neuterYn_N  neuterYn_U  neuterYn_Y  \\\n",
      "0    7.46          10    12             0           1           0           0   \n",
      "1    7.00          14     1             1           1           0           0   \n",
      "2    4.50          11     2             0           0           1           0   \n",
      "3   10.00           8     1             0           1           0           0   \n",
      "4    6.00           8     4             0           1           0           0   \n",
      "\n",
      "   sexCd_F  sexCd_M  sexCd_Q  \n",
      "0        1        0        0  \n",
      "1        0        1        0  \n",
      "2        0        1        0  \n",
      "3        0        1        0  \n",
      "4        0        1        0  \n",
      "   weight  noticeDays  age2  processState  neuterYn_N  neuterYn_U  neuterYn_Y  \\\n",
      "0     0.8          10     0             1           1           0           0   \n",
      "1     5.0          10     1             0           1           0           0   \n",
      "2     5.0          10    13             0           1           0           0   \n",
      "3     5.0          10     3             0           1           0           0   \n",
      "4    15.0          10     7             0           1           0           0   \n",
      "\n",
      "   sexCd_F  sexCd_M  sexCd_Q  \n",
      "0        0        1        0  \n",
      "1        0        1        0  \n",
      "2        1        0        0  \n",
      "3        0        1        0  \n",
      "4        0        1        0  \n"
     ]
    }
   ],
   "source": [
    "dummy_columns = [\"neuterYn\", \"sexCd\"]\n",
    "data = dummy_data(dog_data, dummy_columns)\n",
    "train_data = dummy_data(dog_train, dummy_columns)\n",
    "\n",
    "print(data.head())\n",
    "print(train_data.head())\n",
    "\n",
    "data = np.array(data, dtype = np.float64)\n",
    "train_data = np.array(train_data, dtype = np.float64)"
   ]
  },
  {
   "cell_type": "code",
   "execution_count": 40,
   "metadata": {},
   "outputs": [],
   "source": [
    "a = data[:, :3]\n",
    "b = data[:, 4:]\n",
    "\n",
    "#numpy 배열에서 데이터 변화요인(kindCd, neuterYn, sexCd, weight, noticeDays, age2)으로 사용할 데이터를 뽑아냅니다.\n",
    "xData = np.concatenate([a, b], axis = 1)\n",
    "\n",
    "a=train_data[:, :3]\n",
    "b=train_data[:, 4:]\n",
    "\n",
    "testX=np.concatenate([a, b], axis = 1)"
   ]
  },
  {
   "cell_type": "code",
   "execution_count": 41,
   "metadata": {},
   "outputs": [],
   "source": [
    "#numpy배열에서 결과(입양여부)로 사용할 데이터를 뽑아냅니다.\n",
    "yData=data[:,[3]]\n",
    "testY=train_data[:,[3]]"
   ]
  },
  {
   "cell_type": "code",
   "execution_count": 42,
   "metadata": {},
   "outputs": [],
   "source": [
    "def model_performance(y_test, y_pred):    \n",
    "    print('confusion matrix')\n",
    "    print(metrics.confusion_matrix(y_test, y_pred))\n",
    "    print('accuracy : {}'.format(metrics.accuracy_score(y_test, y_pred)))\n",
    "    print('precision : {}'.format(metrics.precision_score(y_test, y_pred)))\n",
    "    print('recall : {}'.format(metrics.recall_score(y_test, y_pred)))\n",
    "    print('F1 : {}'.format(metrics.f1_score(y_test, y_pred)))"
   ]
  },
  {
   "cell_type": "code",
   "execution_count": 43,
   "metadata": {
    "scrolled": true
   },
   "outputs": [
    {
     "name": "stdout",
     "output_type": "stream",
     "text": [
      "Fitting 3 folds for each of 72 candidates, totalling 216 fits\n"
     ]
    },
    {
     "name": "stderr",
     "output_type": "stream",
     "text": [
      "[Parallel(n_jobs=-1)]: Using backend LokyBackend with 8 concurrent workers.\n",
      "[Parallel(n_jobs=-1)]: Done  34 tasks      | elapsed:   12.6s\n",
      "[Parallel(n_jobs=-1)]: Done 184 tasks      | elapsed:   40.4s\n",
      "[Parallel(n_jobs=-1)]: Done 216 out of 216 | elapsed:   47.0s finished\n",
      "C:\\Users\\yunji\\anaconda3\\envs\\dbswls\\lib\\site-packages\\sklearn\\model_selection\\_search.py:765: DataConversionWarning: A column-vector y was passed when a 1d array was expected. Please change the shape of y to (n_samples,), for example using ravel().\n",
      "  self.best_estimator_.fit(X, y, **fit_params)\n"
     ]
    },
    {
     "name": "stdout",
     "output_type": "stream",
     "text": [
      "최적 하이퍼 파라미터:  {'max_depth': 12, 'min_samples_leaf': 18, 'min_samples_split': 8, 'n_estimators': 100}\n",
      "최고 예측 정확도: 0.6292\n"
     ]
    }
   ],
   "source": [
    "from sklearn.model_selection import GridSearchCV\n",
    "params = { 'n_estimators' : [10, 100],\n",
    "           'max_depth' : [6, 8, 10, 12],\n",
    "           'min_samples_leaf' : [8, 12, 18],\n",
    "           'min_samples_split' : [8, 16, 20]\n",
    "            }\n",
    "\n",
    "# RandomForestClassifier 객체 생성 후 GridSearchCV 수행\n",
    "rf_clf = RandomForestClassifier(random_state = 0, n_jobs = -1)\n",
    "grid_cv = GridSearchCV(rf_clf, param_grid = params, cv = 3, n_jobs = -1, verbose = 1)\n",
    "grid_cv.fit(xData, yData)\n",
    "\n",
    "print('최적 하이퍼 파라미터: ', grid_cv.best_params_)\n",
    "print('최고 예측 정확도: {:.4f}'.format(grid_cv.best_score_))"
   ]
  },
  {
   "cell_type": "code",
   "execution_count": 33,
   "metadata": {},
   "outputs": [
    {
     "name": "stderr",
     "output_type": "stream",
     "text": [
      "C:\\Users\\yunji\\anaconda3\\envs\\dbswls\\lib\\site-packages\\ipykernel_launcher.py:7: DataConversionWarning: A column-vector y was passed when a 1d array was expected. Please change the shape of y to (n_samples,), for example using ravel().\n",
      "  import sys\n"
     ]
    },
    {
     "name": "stdout",
     "output_type": "stream",
     "text": [
      "confusion matrix\n",
      "[[189 119]\n",
      " [113 189]]\n",
      "accuracy : 0.6196721311475409\n",
      "precision : 0.6136363636363636\n",
      "recall : 0.6258278145695364\n",
      "F1 : 0.6196721311475409\n",
      "총 테스트 개수 : 610, 오류 개수 : 186068\n",
      "정확도 : 0.62\n"
     ]
    }
   ],
   "source": [
    "model = RandomForestClassifier(n_estimators = 100, \n",
    "                                max_depth = 12,\n",
    "                                min_samples_leaf = 8,\n",
    "                                min_samples_split = 8,\n",
    "                                random_state = 0,\n",
    "                                n_jobs = -1)\n",
    "rf_model=model.fit(xData, yData)\n",
    "y_pred = rf_model.predict(testX)\n",
    "model_performance(testY, y_pred)\n",
    "# len(y_pred)\n",
    "\n",
    "print('총 테스트 개수 : %d, 오류 개수 : %d' %(len(testY), (testY != y_pred).sum()))\n",
    "print('정확도 : %.2f' %metrics.accuracy_score(testY, y_pred))"
   ]
  },
  {
   "cell_type": "code",
   "execution_count": 80,
   "metadata": {},
   "outputs": [
    {
     "data": {
      "text/plain": [
       "array([[0.        , 1.        ],\n",
       "       [0.64494874, 0.35505126],\n",
       "       [0.5       , 0.5       ],\n",
       "       [0.44796212, 0.55203788],\n",
       "       [0.90261905, 0.09738095],\n",
       "       [0.90261905, 0.09738095]])"
      ]
     },
     "execution_count": 80,
     "metadata": {},
     "output_type": "execute_result"
    }
   ],
   "source": [
    "rf_model.predict_proba(testX[:6])"
   ]
  },
  {
   "cell_type": "code",
   "execution_count": 81,
   "metadata": {},
   "outputs": [
    {
     "data": {
      "text/plain": [
       "['randomforest.pkl']"
      ]
     },
     "execution_count": 81,
     "metadata": {},
     "output_type": "execute_result"
    }
   ],
   "source": [
    "joblib.dump(rf_model, 'randomforest.pkl')"
   ]
  }
 ],
 "metadata": {
  "kernelspec": {
   "display_name": "Python 3",
   "language": "python",
   "name": "python3"
  },
  "language_info": {
   "codemirror_mode": {
    "name": "ipython",
    "version": 3
   },
   "file_extension": ".py",
   "mimetype": "text/x-python",
   "name": "python",
   "nbconvert_exporter": "python",
   "pygments_lexer": "ipython3",
   "version": "3.7.7"
  }
 },
 "nbformat": 4,
 "nbformat_minor": 4
}
