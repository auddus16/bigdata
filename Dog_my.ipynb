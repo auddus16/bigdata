{
 "cells": [
  {
   "cell_type": "code",
   "execution_count": 1,
   "metadata": {},
   "outputs": [
    {
     "name": "stdout",
     "output_type": "stream",
     "text": [
      "WARNING:tensorflow:From C:\\Users\\auddu\\anaconda3\\envs\\auddus\\lib\\site-packages\\tensorflow_core\\python\\compat\\v2_compat.py:68: disable_resource_variables (from tensorflow.python.ops.variable_scope) is deprecated and will be removed in a future version.\n",
      "Instructions for updating:\n",
      "non-resource variables are not supported in the long term\n"
     ]
    }
   ],
   "source": [
    "import tensorflow.compat.v1 as tf\n",
    "from tensorflow import feature_column\n",
    "from tensorflow.keras import layers\n",
    "tf.disable_v2_behavior()\n",
    "import numpy as np\n",
    "import pandas as pd\n",
    "import matplotlib.pyplot as plt\n",
    "import seaborn as sb\n",
    "\n",
    "%matplotlib inline"
   ]
  },
  {
   "cell_type": "code",
   "execution_count": 4,
   "metadata": {},
   "outputs": [],
   "source": [
    "seed = 0\n",
    "# a = tf.Variable(tf.random_normal([1], dtype=tf.float64, seed=0))\n",
    "# b = tf.Variable(tf.random_normal([1], dtype=tf.float64, seed=0))\n",
    "\n",
    "# tensorflow, numpy 랜덤 값을 설정합니다.\n",
    "tf.set_random_seed(seed)\n",
    "np.random.seed(seed)"
   ]
  },
  {
   "cell_type": "code",
   "execution_count": 9,
   "metadata": {},
   "outputs": [
    {
     "name": "stdout",
     "output_type": "stream",
     "text": [
      "  kindCd  kindNum neuterYn sexCd  weight  noticeDays  age2  processState  \\\n",
      "0     푸들    128.0        N     F    7.46          10    12             0   \n",
      "1    믹스견    114.0        N     M    7.00          14     1             1   \n",
      "2    믹스견    114.0        U     M    4.50          11     2             0   \n",
      "3    진도견     67.0        N     M   10.00           8     1             0   \n",
      "4    믹스견    114.0        N     M    6.00           8     4             0   \n",
      "\n",
      "   Unnamed: 8   kindCd.1  kindNum.1  \n",
      "0         NaN    골든 리트리버       54.0  \n",
      "1         NaN    그레이 하운드       56.0  \n",
      "2         NaN     그레이트 덴       55.0  \n",
      "3         NaN  그레이트 피레니즈      118.0  \n",
      "4         NaN         기타      115.0  \n"
     ]
    }
   ],
   "source": [
    "#doginfo.csv파일 데이터를 pandas를 이용해 읽어옵니다.\n",
    "dog_data=pd.read_csv(\"doginfo.csv\")\n",
    "print(dog_data.head())"
   ]
  },
  {
   "cell_type": "code",
   "execution_count": 10,
   "metadata": {},
   "outputs": [
    {
     "name": "stdout",
     "output_type": "stream",
     "text": [
      "[[128.     7.46  10.    12.     0.  ]\n",
      " [114.     7.    14.     1.     1.  ]\n",
      " [114.     4.5   11.     2.     0.  ]\n",
      " ...\n",
      " [114.     1.    10.     0.     1.  ]\n",
      " [128.     6.    12.     3.     0.  ]\n",
      " [114.     3.5   10.     0.     0.  ]]\n",
      "<class 'numpy.ndarray'>\n"
     ]
    }
   ],
   "source": [
    "# dog_data.loc[dog_data[\"neuterYn\"] == \"N\", \"neuterYn\"] = 0\n",
    "# dog_data.loc[dog_data[\"neuterYn\"] == \"U\", \"neuterYn\"] = 1\n",
    "# dog_data.loc[dog_data[\"neuterYn\"] == \"Y\", \"neuterYn\"] = 2\n",
    "\n",
    "# dog_data.loc[dog_data[\"sexCd\"] == \"M\", \"sexCd\"] = 0\n",
    "# dog_data.loc[dog_data[\"sexCd\"] == \"F\", \"sexCd\"] = 1\n",
    "# dog_data.loc[dog_data[\"sexCd\"] == \"Q\", \"sexCd\"] = 2\n",
    "\n",
    "# del dog_data['kindCd']\n",
    "# del dog_data['kindCd.1']\n",
    "\n",
    "dog_data.drop(['kindCd', 'neuterYn', 'sexCd', 'Unnamed: 8', 'kindCd.1', 'kindNum.1'], axis='columns', inplace=True)\n",
    "\n",
    "\n",
    "data=np.array(dog_data, dtype=np.float64)\n",
    "\n",
    "\n",
    "print(data)\n",
    "print(type(data))"
   ]
  },
  {
   "cell_type": "code",
   "execution_count": 13,
   "metadata": {},
   "outputs": [
    {
     "name": "stdout",
     "output_type": "stream",
     "text": [
      "[[128.     7.46  10.    12.  ]\n",
      " [114.     7.    14.     1.  ]\n",
      " [114.     4.5   11.     2.  ]\n",
      " ...\n",
      " [114.     1.    10.     0.  ]\n",
      " [128.     6.    12.     3.  ]\n",
      " [114.     3.5   10.     0.  ]]\n"
     ]
    }
   ],
   "source": [
    "#numpy 배열에서 데이터 변화요인(kindCd, neuterYn, sexCd, weight, noticeDays, age2)으로 사용할 데이터를 뽑아냅니다.\n",
    "xData=data[:, :4]\n",
    "print(xData)"
   ]
  },
  {
   "cell_type": "code",
   "execution_count": 15,
   "metadata": {},
   "outputs": [
    {
     "name": "stdout",
     "output_type": "stream",
     "text": [
      "[[0.]\n",
      " [1.]\n",
      " [0.]\n",
      " ...\n",
      " [1.]\n",
      " [0.]\n",
      " [0.]]\n"
     ]
    }
   ],
   "source": [
    "#numpy배열에서 결과(입양여부)로 사용할 데이터를 뽑아냅니다.\n",
    "yData=data[:,[4]]\n",
    "print(yData)"
   ]
  },
  {
   "cell_type": "code",
   "execution_count": 18,
   "metadata": {},
   "outputs": [],
   "source": [
    "#뽑아낸 데이터를 tensorflow로 처리하기 위해 placeholder를 만듭니다.\n",
    "X=tf.placeholder(dtype=tf.float64, shape=[None, 4])\n",
    "Y=tf.placeholder(dtype=tf.float64, shape=[None, 1])\n",
    "#다변인 선형 회귀 모델의 기울기와 y절편을 임의의 값으로 초기화합니다.\n",
    "a=tf.Variable(tf.random_uniform([4,1], dtype=tf.float64))#6행 1열 난수를 발생시킵니다.\n",
    "b=tf.Variable(tf.random_uniform([1], dtype=tf.float64)) #1행 1열 난수를 발생시킵니다.\n"
   ]
  },
  {
   "cell_type": "code",
   "execution_count": 19,
   "metadata": {},
   "outputs": [],
   "source": [
    "y=tf.sigmoid(tf.matmul(X, a)+b)\n",
    "loss=-tf.reduce_mean(Y*tf.log(y)+(1-Y)*tf.log(1-y))\n",
    "gradient_descent=tf.train.GradientDescentOptimizer(0.001).minimize(loss)"
   ]
  },
  {
   "cell_type": "code",
   "execution_count": 21,
   "metadata": {},
   "outputs": [],
   "source": [
    "predicted=tf.cast(y>=0.5, dtype=tf.float64)\n",
    "accuracy=tf.reduce_mean(tf.cast(tf.equal(predicted, Y), dtype=tf.float64))"
   ]
  },
  {
   "cell_type": "code",
   "execution_count": 22,
   "metadata": {},
   "outputs": [
    {
     "name": "stdout",
     "output_type": "stream",
     "text": [
      "[[0.64783187]\n",
      " [0.83705062]\n",
      " [0.09867108]\n",
      " [0.58890727]]\n",
      "[0.69447269]\n",
      "count : 0, a1 = [nan], a2 = [nan], a3 = [nan], a4 = [nan], b = [nan], loss = nan\n",
      "count : 300, a1 = [nan], a2 = [nan], a3 = [nan], a4 = [nan], b = [nan], loss = nan\n",
      "count : 600, a1 = [nan], a2 = [nan], a3 = [nan], a4 = [nan], b = [nan], loss = nan\n",
      "count : 900, a1 = [nan], a2 = [nan], a3 = [nan], a4 = [nan], b = [nan], loss = nan\n",
      "count : 1200, a1 = [nan], a2 = [nan], a3 = [nan], a4 = [nan], b = [nan], loss = nan\n",
      "count : 1500, a1 = [nan], a2 = [nan], a3 = [nan], a4 = [nan], b = [nan], loss = nan\n",
      "count : 1800, a1 = [nan], a2 = [nan], a3 = [nan], a4 = [nan], b = [nan], loss = nan\n",
      "count : 2100, a1 = [nan], a2 = [nan], a3 = [nan], a4 = [nan], b = [nan], loss = nan\n",
      "count : 2400, a1 = [nan], a2 = [nan], a3 = [nan], a4 = [nan], b = [nan], loss = nan\n",
      "count : 2700, a1 = [nan], a2 = [nan], a3 = [nan], a4 = [nan], b = [nan], loss = nan\n",
      "count : 3000, a1 = [nan], a2 = [nan], a3 = [nan], a4 = [nan], b = [nan], loss = nan\n"
     ]
    }
   ],
   "source": [
    "with tf.Session() as sess:  # 세션 구간을 만듦\n",
    "    sess.run(tf.global_variables_initializer())\n",
    "    print(sess.run(a))\n",
    "    print(sess.run(b))\n",
    "    for i in range(3001):\n",
    "        # count : 학습 횟수, a1 : 기울기(공부 시간), a2 : 기울기(과외 시간), b : y절편, loss : 오차 함수\n",
    "        a_, b_, loss_, _ = sess.run([a, b, loss, gradient_descent], feed_dict = {X:xData, Y:yData})\n",
    "        if i % 300 == 0:\n",
    "            print('count : {}, a1 = {}, a2 = {}, a3 = {}, a4 = {}, b = {}, loss = {}'.format(i, a_[0], a_[1], a_[2], a_[3], b_, loss_)) # 학습시킨 데이터 출력\n",
    "            #print('loss={}, print={}'.format(loss_, b_))\n",
    "# 학습 완료 -----------------------------------------------------------------------------------------------------\n",
    "# 테스트 데이터\n",
    "\n",
    "#     new_x = np.array([6, 5]).reshape(1, 2)  # reshape() 함수를 이용해서 1행 2열인 2차원 numpy 배열을 만듭니다.\n",
    "    \n",
    "#     # sigmoid() 함수 연산 결과에 테스트 데이터를 대입시켜 연산합니다.\n",
    "#     result, new_y = sess.run([predicted, y], feed_dict = {X:new_x})\n",
    "#     print('공부 시간 : %d, 과외 시간 : %d' % (new_x[:, 0], new_x[:, 1]))\n",
    "#     print('합격 여부(sigmoid() 함수 실행 결과를 0.5 이상은 1, 미만은 0으로 반환) : %d, 합격 확률(sigmoid() 함수 실행 결과) : %f)' % (result, new_y))\n",
    "    \n",
    "#     for i in range(11):\n",
    "#         new_x = np.array([0, i]).reshape(1, 2)  # 과외 시간만 계속 늘림\n",
    "#         result, new_y = sess.run([predicted, y], feed_dict={X:new_x})\n",
    "#         print('공부 시간 : %d, 과외 시간 : %2d' % (new_x[:, 0], new_x[:, 1]), end=',')\n",
    "#         print('합격 여부 : %s, 합격 확률 : %8.4f%%' % ('합격' if result == 1 else '불합격', new_y*100))"
   ]
  }
 ],
 "metadata": {
  "kernelspec": {
   "display_name": "Python 3",
   "language": "python",
   "name": "python3"
  },
  "language_info": {
   "codemirror_mode": {
    "name": "ipython",
    "version": 3
   },
   "file_extension": ".py",
   "mimetype": "text/x-python",
   "name": "python",
   "nbconvert_exporter": "python",
   "pygments_lexer": "ipython3",
   "version": "3.7.7"
  }
 },
 "nbformat": 4,
 "nbformat_minor": 4
}
