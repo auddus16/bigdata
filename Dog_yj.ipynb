{
 "cells": [
  {
   "cell_type": "code",
   "execution_count": 2,
   "metadata": {},
   "outputs": [],
   "source": [
    "import tensorflow.compat.v1 as tf\n",
    "from tensorflow import feature_column\n",
    "from tensorflow.keras import layers\n",
    "tf.disable_v2_behavior()\n",
    "import numpy as np\n",
    "import pandas as pd\n",
    "import matplotlib.pyplot as plt\n",
    "import seaborn as sb\n",
    "\n",
    "%matplotlib inline"
   ]
  },
  {
   "cell_type": "code",
   "execution_count": 3,
   "metadata": {},
   "outputs": [
    {
     "name": "stdout",
     "output_type": "stream",
     "text": [
      "  kindCd  kindNum neuterYn sexCd  weight  noticeDays  age2  processState  \\\n",
      "0     푸들    128.0        N     F    7.46          10    12             0   \n",
      "1    믹스견    114.0        N     M    7.00          14     1             1   \n",
      "2    믹스견    114.0        U     M    4.50          11     2             0   \n",
      "3    진도견     67.0        N     M   10.00           8     1             0   \n",
      "4    믹스견    114.0        N     M    6.00           8     4             0   \n",
      "\n",
      "   Unnamed: 8   kindCd.1  kindNum.1  \n",
      "0         NaN    골든 리트리버       54.0  \n",
      "1         NaN    그레이 하운드       56.0  \n",
      "2         NaN     그레이트 덴       55.0  \n",
      "3         NaN  그레이트 피레니즈      118.0  \n",
      "4         NaN         기타      115.0  \n"
     ]
    }
   ],
   "source": [
    "#doginfo.csv파일 데이터를 pandas를 이용해 읽어옵니다.\n",
    "dog_data=pd.read_csv(\"doginfo.csv\")\n",
    "print(dog_data.head())"
   ]
  }
 ],
 "metadata": {
  "kernelspec": {
   "display_name": "Python 3",
   "language": "python",
   "name": "python3"
  },
  "language_info": {
   "codemirror_mode": {
    "name": "ipython",
    "version": 3
   },
   "file_extension": ".py",
   "mimetype": "text/x-python",
   "name": "python",
   "nbconvert_exporter": "python",
   "pygments_lexer": "ipython3",
   "version": "3.7.7"
  }
 },
 "nbformat": 4,
 "nbformat_minor": 4
}
