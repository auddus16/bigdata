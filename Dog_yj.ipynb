{
 "cells": [
  {
   "cell_type": "code",
   "execution_count": 4,
   "metadata": {},
   "outputs": [],
   "source": [
    "import tensorflow.compat.v1 as tf\n",
    "from tensorflow import feature_column\n",
    "from tensorflow.keras import layers\n",
    "tf.disable_v2_behavior()\n",
    "import numpy as np\n",
    "import pandas as pd\n",
    "import matplotlib.pyplot as plt\n",
    "import seaborn as sb\n",
    "\n",
    "import statsmodels.api as sm\n",
    "\n",
    "%matplotlib inline"
   ]
  },
  {
   "cell_type": "code",
   "execution_count": 23,
   "metadata": {},
   "outputs": [
    {
     "name": "stdout",
     "output_type": "stream",
     "text": [
      "   kindNum sexCd  weight  noticeDays  processState\n",
      "0    128.0     F    7.46          10             0\n",
      "1    114.0     M    7.00          14             1\n",
      "2    114.0     M    4.50          11             0\n",
      "3     67.0     M   10.00           8             0\n",
      "4    114.0     M    6.00           8             0\n"
     ]
    }
   ],
   "source": [
    "#doginfo.csv파일 데이터를 pandas를 이용해 읽어옵니다.\n",
    "df=pd.read_csv(\"dogEasy.csv\")\n",
    "print(df.head())\n",
    "df = df.dropna(axis=0)    #nan가진 행 지우기"
   ]
  },
  {
   "cell_type": "code",
   "execution_count": 24,
   "metadata": {},
   "outputs": [
    {
     "name": "stdout",
     "output_type": "stream",
     "text": [
      "       kindNum sexCd  weight  noticeDays  processState  sex_1  sex_2  sex_3\n",
      "0        128.0     F    7.46          10             0      1      0      0\n",
      "1        114.0     M    7.00          14             1      0      1      0\n",
      "2        114.0     M    4.50          11             0      0      1      0\n",
      "3         67.0     M   10.00           8             0      0      1      0\n",
      "4        114.0     M    6.00           8             0      0      1      0\n",
      "...        ...   ...     ...         ...           ...    ...    ...    ...\n",
      "22787    114.0     M    1.00          10             1      0      1      0\n",
      "22788    114.0     M    1.00          10             1      0      1      0\n",
      "22789    114.0     M    1.00          10             1      0      1      0\n",
      "22790    128.0     F    6.00          12             0      1      0      0\n",
      "22791    114.0     M    3.50          10             0      0      1      0\n",
      "\n",
      "[22777 rows x 8 columns]\n"
     ]
    }
   ],
   "source": [
    "df[['sex_1', 'sex_2', 'sex_3',]] = pd.get_dummies(df['sexCd'])\n",
    "print(df)"
   ]
  },
  {
   "cell_type": "code",
   "execution_count": 27,
   "metadata": {},
   "outputs": [
    {
     "name": "stdout",
     "output_type": "stream",
     "text": [
      "Optimization terminated successfully.\n",
      "         Current function value: 0.661454\n",
      "         Iterations 5\n"
     ]
    },
    {
     "data": {
      "text/html": [
       "<table class=\"simpletable\">\n",
       "<caption>Logit Regression Results</caption>\n",
       "<tr>\n",
       "  <th>Dep. Variable:</th>     <td>processState</td>   <th>  No. Observations:  </th>   <td> 22777</td>  \n",
       "</tr>\n",
       "<tr>\n",
       "  <th>Model:</th>                 <td>Logit</td>      <th>  Df Residuals:      </th>   <td> 22771</td>  \n",
       "</tr>\n",
       "<tr>\n",
       "  <th>Method:</th>                 <td>MLE</td>       <th>  Df Model:          </th>   <td>     5</td>  \n",
       "</tr>\n",
       "<tr>\n",
       "  <th>Date:</th>            <td>Thu, 20 Aug 2020</td> <th>  Pseudo R-squ.:     </th>   <td>0.04017</td> \n",
       "</tr>\n",
       "<tr>\n",
       "  <th>Time:</th>                <td>15:28:15</td>     <th>  Log-Likelihood:    </th>  <td> -15066.</td> \n",
       "</tr>\n",
       "<tr>\n",
       "  <th>converged:</th>             <td>True</td>       <th>  LL-Null:           </th>  <td> -15696.</td> \n",
       "</tr>\n",
       "<tr>\n",
       "  <th>Covariance Type:</th>     <td>nonrobust</td>    <th>  LLR p-value:       </th> <td>1.816e-270</td>\n",
       "</tr>\n",
       "</table>\n",
       "<table class=\"simpletable\">\n",
       "<tr>\n",
       "       <td></td>         <th>coef</th>     <th>std err</th>      <th>z</th>      <th>P>|z|</th>  <th>[0.025</th>    <th>0.975]</th>  \n",
       "</tr>\n",
       "<tr>\n",
       "  <th>intercept</th>  <td>    2.5589</td> <td>    0.124</td> <td>   20.608</td> <td> 0.000</td> <td>    2.316</td> <td>    2.802</td>\n",
       "</tr>\n",
       "<tr>\n",
       "  <th>kindNum</th>    <td>   -0.0189</td> <td>    0.001</td> <td>  -27.008</td> <td> 0.000</td> <td>   -0.020</td> <td>   -0.017</td>\n",
       "</tr>\n",
       "<tr>\n",
       "  <th>weight</th>     <td>   -0.0481</td> <td>    0.002</td> <td>  -20.916</td> <td> 0.000</td> <td>   -0.053</td> <td>   -0.044</td>\n",
       "</tr>\n",
       "<tr>\n",
       "  <th>noticeDays</th> <td>   -0.0434</td> <td>    0.009</td> <td>   -4.860</td> <td> 0.000</td> <td>   -0.061</td> <td>   -0.026</td>\n",
       "</tr>\n",
       "<tr>\n",
       "  <th>sex_2</th>      <td>    0.1289</td> <td>    0.028</td> <td>    4.673</td> <td> 0.000</td> <td>    0.075</td> <td>    0.183</td>\n",
       "</tr>\n",
       "<tr>\n",
       "  <th>sex_3</th>      <td>   -1.0985</td> <td>    0.131</td> <td>   -8.386</td> <td> 0.000</td> <td>   -1.355</td> <td>   -0.842</td>\n",
       "</tr>\n",
       "</table>"
      ],
      "text/plain": [
       "<class 'statsmodels.iolib.summary.Summary'>\n",
       "\"\"\"\n",
       "                           Logit Regression Results                           \n",
       "==============================================================================\n",
       "Dep. Variable:           processState   No. Observations:                22777\n",
       "Model:                          Logit   Df Residuals:                    22771\n",
       "Method:                           MLE   Df Model:                            5\n",
       "Date:                Thu, 20 Aug 2020   Pseudo R-squ.:                 0.04017\n",
       "Time:                        15:28:15   Log-Likelihood:                -15066.\n",
       "converged:                       True   LL-Null:                       -15696.\n",
       "Covariance Type:            nonrobust   LLR p-value:                1.816e-270\n",
       "==============================================================================\n",
       "                 coef    std err          z      P>|z|      [0.025      0.975]\n",
       "------------------------------------------------------------------------------\n",
       "intercept      2.5589      0.124     20.608      0.000       2.316       2.802\n",
       "kindNum       -0.0189      0.001    -27.008      0.000      -0.020      -0.017\n",
       "weight        -0.0481      0.002    -20.916      0.000      -0.053      -0.044\n",
       "noticeDays    -0.0434      0.009     -4.860      0.000      -0.061      -0.026\n",
       "sex_2          0.1289      0.028      4.673      0.000       0.075       0.183\n",
       "sex_3         -1.0985      0.131     -8.386      0.000      -1.355      -0.842\n",
       "==============================================================================\n",
       "\"\"\""
      ]
     },
     "execution_count": 27,
     "metadata": {},
     "output_type": "execute_result"
    }
   ],
   "source": [
    "df['intercept'] = 1\n",
    "\n",
    "logit_mod = sm.Logit(df['processState'], df[['intercept', 'kindNum', 'weight', 'noticeDays', 'sex_2', 'sex_3']])\n",
    "results = logit_mod.fit()\n",
    "results.summary()"
   ]
  },
  {
   "cell_type": "code",
   "execution_count": 28,
   "metadata": {},
   "outputs": [
    {
     "data": {
      "text/plain": [
       "intercept     12.921201\n",
       "kindNum        0.981320\n",
       "weight         0.952996\n",
       "noticeDays     0.957532\n",
       "sex_2          1.137580\n",
       "sex_3          0.333365\n",
       "dtype: float64"
      ]
     },
     "execution_count": 28,
     "metadata": {},
     "output_type": "execute_result"
    }
   ],
   "source": [
    "np.exp(results.params)"
   ]
  }
 ],
 "metadata": {
  "kernelspec": {
   "display_name": "Python 3",
   "language": "python",
   "name": "python3"
  },
  "language_info": {
   "codemirror_mode": {
    "name": "ipython",
    "version": 3
   },
   "file_extension": ".py",
   "mimetype": "text/x-python",
   "name": "python",
   "nbconvert_exporter": "python",
   "pygments_lexer": "ipython3",
   "version": "3.7.7"
  }
 },
 "nbformat": 4,
 "nbformat_minor": 4
}
